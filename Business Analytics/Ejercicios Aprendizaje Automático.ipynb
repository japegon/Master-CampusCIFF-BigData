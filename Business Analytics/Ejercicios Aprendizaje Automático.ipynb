{
 "cells": [
  {
   "cell_type": "markdown",
   "metadata": {},
   "source": [
    "# 1. Segmentación de datos de redes sociales."
   ]
  },
  {
   "cell_type": "markdown",
   "metadata": {},
   "source": [
    "__En el archivo “snsdata.csv” se encuentran los términos más utilizados en unos 30.000 perfiles aleatorios de adolescentes de una red social. Importar el archivo y separar el conjunto de datos en dos según el género de los usuarios (F y M). En cada uno de los subconjuntos de datos eliminar el año de graduación ('gradyear'), el género ('gender') y la edad (‘age’). Utilizando el algoritmo de k-means identificar el número de segmentos óptimos en los que se divide cada subconjunto de datos y obtener los valores de los centroides.__"
   ]
  },
  {
   "cell_type": "code",
   "execution_count": 12,
   "metadata": {
    "collapsed": false
   },
   "outputs": [
    {
     "name": "stdout",
     "output_type": "stream",
     "text": [
      "Using matplotlib backend: Qt4Agg\n",
      "Populating the interactive namespace from numpy and matplotlib\n"
     ]
    }
   ],
   "source": [
    "%pylab\n",
    "%matplotlib inline\n",
    "\n",
    "import pandas as pd\n",
    "import numpy as np\n",
    "import seaborn as sns"
   ]
  },
  {
   "cell_type": "markdown",
   "metadata": {},
   "source": [
    "Cargamos el fichero con los datos."
   ]
  },
  {
   "cell_type": "code",
   "execution_count": 13,
   "metadata": {
    "collapsed": false
   },
   "outputs": [],
   "source": [
    "snsdata = pd.read_csv('snsdata.csv', sep = ',')"
   ]
  },
  {
   "cell_type": "markdown",
   "metadata": {},
   "source": [
    "Separamos en dos: según género (F y M)."
   ]
  },
  {
   "cell_type": "code",
   "execution_count": 14,
   "metadata": {
    "collapsed": false
   },
   "outputs": [],
   "source": [
    "snsdata_f = snsdata[snsdata.gender=='F']\n",
    "snsdata_m = snsdata[snsdata.gender=='M']"
   ]
  },
  {
   "cell_type": "markdown",
   "metadata": {},
   "source": [
    "Eliminamos el año de graduación, el género y la edad de cada uno de los subconjuntos."
   ]
  },
  {
   "cell_type": "code",
   "execution_count": 15,
   "metadata": {
    "collapsed": false,
    "scrolled": true
   },
   "outputs": [
    {
     "data": {
      "text/html": [
       "<div>\n",
       "<table border=\"1\" class=\"dataframe\">\n",
       "  <thead>\n",
       "    <tr style=\"text-align: right;\">\n",
       "      <th></th>\n",
       "      <th>friends</th>\n",
       "      <th>basketball</th>\n",
       "      <th>football</th>\n",
       "      <th>soccer</th>\n",
       "      <th>softball</th>\n",
       "      <th>volleyball</th>\n",
       "      <th>swimming</th>\n",
       "      <th>cheerleading</th>\n",
       "      <th>baseball</th>\n",
       "      <th>tennis</th>\n",
       "      <th>...</th>\n",
       "      <th>blonde</th>\n",
       "      <th>mall</th>\n",
       "      <th>shopping</th>\n",
       "      <th>clothes</th>\n",
       "      <th>hollister</th>\n",
       "      <th>abercrombie</th>\n",
       "      <th>die</th>\n",
       "      <th>death</th>\n",
       "      <th>drunk</th>\n",
       "      <th>drugs</th>\n",
       "    </tr>\n",
       "  </thead>\n",
       "  <tbody>\n",
       "    <tr>\n",
       "      <th>0</th>\n",
       "      <td>7</td>\n",
       "      <td>0</td>\n",
       "      <td>0</td>\n",
       "      <td>0</td>\n",
       "      <td>0</td>\n",
       "      <td>0</td>\n",
       "      <td>0</td>\n",
       "      <td>0</td>\n",
       "      <td>0</td>\n",
       "      <td>0</td>\n",
       "      <td>...</td>\n",
       "      <td>0</td>\n",
       "      <td>0</td>\n",
       "      <td>0</td>\n",
       "      <td>0</td>\n",
       "      <td>0</td>\n",
       "      <td>0</td>\n",
       "      <td>0</td>\n",
       "      <td>0</td>\n",
       "      <td>0</td>\n",
       "      <td>0</td>\n",
       "    </tr>\n",
       "    <tr>\n",
       "      <th>2</th>\n",
       "      <td>69</td>\n",
       "      <td>0</td>\n",
       "      <td>1</td>\n",
       "      <td>0</td>\n",
       "      <td>0</td>\n",
       "      <td>0</td>\n",
       "      <td>0</td>\n",
       "      <td>0</td>\n",
       "      <td>0</td>\n",
       "      <td>0</td>\n",
       "      <td>...</td>\n",
       "      <td>0</td>\n",
       "      <td>0</td>\n",
       "      <td>0</td>\n",
       "      <td>0</td>\n",
       "      <td>0</td>\n",
       "      <td>0</td>\n",
       "      <td>0</td>\n",
       "      <td>1</td>\n",
       "      <td>0</td>\n",
       "      <td>0</td>\n",
       "    </tr>\n",
       "    <tr>\n",
       "      <th>7</th>\n",
       "      <td>17</td>\n",
       "      <td>0</td>\n",
       "      <td>0</td>\n",
       "      <td>0</td>\n",
       "      <td>1</td>\n",
       "      <td>0</td>\n",
       "      <td>0</td>\n",
       "      <td>0</td>\n",
       "      <td>0</td>\n",
       "      <td>0</td>\n",
       "      <td>...</td>\n",
       "      <td>0</td>\n",
       "      <td>0</td>\n",
       "      <td>0</td>\n",
       "      <td>0</td>\n",
       "      <td>0</td>\n",
       "      <td>0</td>\n",
       "      <td>0</td>\n",
       "      <td>0</td>\n",
       "      <td>0</td>\n",
       "      <td>0</td>\n",
       "    </tr>\n",
       "    <tr>\n",
       "      <th>21</th>\n",
       "      <td>0</td>\n",
       "      <td>0</td>\n",
       "      <td>0</td>\n",
       "      <td>0</td>\n",
       "      <td>0</td>\n",
       "      <td>0</td>\n",
       "      <td>0</td>\n",
       "      <td>0</td>\n",
       "      <td>0</td>\n",
       "      <td>0</td>\n",
       "      <td>...</td>\n",
       "      <td>0</td>\n",
       "      <td>0</td>\n",
       "      <td>0</td>\n",
       "      <td>0</td>\n",
       "      <td>0</td>\n",
       "      <td>1</td>\n",
       "      <td>0</td>\n",
       "      <td>0</td>\n",
       "      <td>0</td>\n",
       "      <td>0</td>\n",
       "    </tr>\n",
       "    <tr>\n",
       "      <th>25</th>\n",
       "      <td>33</td>\n",
       "      <td>0</td>\n",
       "      <td>0</td>\n",
       "      <td>0</td>\n",
       "      <td>0</td>\n",
       "      <td>0</td>\n",
       "      <td>0</td>\n",
       "      <td>0</td>\n",
       "      <td>1</td>\n",
       "      <td>0</td>\n",
       "      <td>...</td>\n",
       "      <td>0</td>\n",
       "      <td>1</td>\n",
       "      <td>0</td>\n",
       "      <td>0</td>\n",
       "      <td>0</td>\n",
       "      <td>0</td>\n",
       "      <td>0</td>\n",
       "      <td>0</td>\n",
       "      <td>0</td>\n",
       "      <td>0</td>\n",
       "    </tr>\n",
       "  </tbody>\n",
       "</table>\n",
       "<p>5 rows × 37 columns</p>\n",
       "</div>"
      ],
      "text/plain": [
       "    friends  basketball  football  soccer  softball  volleyball  swimming  \\\n",
       "0         7           0         0       0         0           0         0   \n",
       "2        69           0         1       0         0           0         0   \n",
       "7        17           0         0       0         1           0         0   \n",
       "21        0           0         0       0         0           0         0   \n",
       "25       33           0         0       0         0           0         0   \n",
       "\n",
       "    cheerleading  baseball  tennis  ...    blonde  mall  shopping  clothes  \\\n",
       "0              0         0       0  ...         0     0         0        0   \n",
       "2              0         0       0  ...         0     0         0        0   \n",
       "7              0         0       0  ...         0     0         0        0   \n",
       "21             0         0       0  ...         0     0         0        0   \n",
       "25             0         1       0  ...         0     1         0        0   \n",
       "\n",
       "    hollister  abercrombie  die  death  drunk  drugs  \n",
       "0           0            0    0      0      0      0  \n",
       "2           0            0    0      1      0      0  \n",
       "7           0            0    0      0      0      0  \n",
       "21          0            1    0      0      0      0  \n",
       "25          0            0    0      0      0      0  \n",
       "\n",
       "[5 rows x 37 columns]"
      ]
     },
     "execution_count": 15,
     "metadata": {},
     "output_type": "execute_result"
    }
   ],
   "source": [
    "# Subconjunto mujeres\n",
    "snsdata_f.pop('gradyear')\n",
    "snsdata_f.pop('gender')\n",
    "snsdata_f.pop('age')\n",
    "\n",
    "# Subconjunto hombre\n",
    "snsdata_m.pop('gradyear')\n",
    "snsdata_m.pop('gender')\n",
    "snsdata_m.pop('age')\n",
    "\n",
    "snsdata_m.head(5)"
   ]
  },
  {
   "cell_type": "markdown",
   "metadata": {},
   "source": [
    "Utilizamos el algoritmo k-means para identificar el número de segmentos óptimo para cada subconjunto de datos.\n",
    "\n",
    "Para calcular los segmentos óptimos existen varios métodos: https://en.wikipedia.org/wiki/Determining_the_number_of_clusters_in_a_data_set\n",
    "\n",
    "Hemos probado a utilizar el método Silhouette para estudiar la separación entre los clusters, no obstante, el ordenador se queda sin memoria al calcular el silhouette\\_score.\n",
    "\n",
    "Utilizaremos entonces evaluación de la distorsión. Para ello creamos una función que imprima la media de la distorsión para los distintos clusters:"
   ]
  },
  {
   "cell_type": "code",
   "execution_count": 16,
   "metadata": {
    "collapsed": false
   },
   "outputs": [],
   "source": [
    "from scipy.spatial.distance import cdist, pdist\n",
    "from sklearn.cluster import KMeans\n",
    "#from sklearn.metrics import silhouette_score\n",
    "\n",
    "def plot_distorsion(x, figure_name, max_k = 10, n_init = 10):\n",
    "    meandistortions = []\n",
    "\n",
    "    for k in range(1, max_k):\n",
    "        kmeans = KMeans(n_clusters = k, n_init = n_init).fit(x)\n",
    "        D_k = cdist(x, kmeans.cluster_centers_, 'euclidean')\n",
    "        dist = np.min(D_k, axis = 1)\n",
    "        meandistortions.append(sum(dist) / x.shape[0])\n",
    "    \n",
    "    fig = plt.figure(figsize=(20,10))\n",
    "    plt.plot(range(1, max_k), meandistortions, 'b*-')\n",
    "    plt.grid(True)\n",
    "    plt.xlabel('Numero de clusters')\n",
    "    plt.ylabel('Distorsion promedio')\n",
    "    plt.title(figure_name)\n"
   ]
  },
  {
   "cell_type": "markdown",
   "metadata": {},
   "source": [
    "Analizamos el conjunto femenino:"
   ]
  },
  {
   "cell_type": "code",
   "execution_count": 17,
   "metadata": {
    "collapsed": false
   },
   "outputs": [
    {
     "data": {
      "image/png": "[encoded data removed]",
      "text/plain": [
       "<matplotlib.figure.Figure at 0x7faae8147f10>"
      ]
     },
     "metadata": {},
     "output_type": "display_data"
    }
   ],
   "source": [
    "plot_distorsion(snsdata_f, \"snsdata_female\", max_k = 10)"
   ]
  },
  {
   "cell_type": "code",
   "execution_count": 24,
   "metadata": {
    "collapsed": true
   },
   "outputs": [],
   "source": [
    "from sklearn.metrics import silhouette_score\n",
    "\n",
    "def plot_silhouette(blobs, figure_name, max_k = 10, n_init = 10):\n",
    "    sillhouette_avgs = []\n",
    "    \n",
    "    for k in range(2, max_k):\n",
    "        kmean = KMeans(n_clusters = k, n_init = n_init).fit(blobs)\n",
    "        sillhouette_avgs.append(silhouette_score(blobs, kmean.labels_))\n",
    "    \n",
    "    fig = plt.figure(figsize=(20,10))\n",
    "    plt.plot(range(2, max_k), sillhouette_avgs, 'b*--')\n",
    "    plt.grid(True)\n",
    "    plt.xlabel('Numero de clusters')\n",
    "    plt.ylabel('Silhouette')\n",
    "    plt.title(figure_name)\n",
    "    "
   ]
  },
  {
   "cell_type": "code",
   "execution_count": null,
   "metadata": {
    "collapsed": false
   },
   "outputs": [],
   "source": [
    "plot_silhouette(snsdata_f, \"snsdata_female\", max_k = 10)"
   ]
  },
  {
   "cell_type": "code",
   "execution_count": null,
   "metadata": {
    "collapsed": true
   },
   "outputs": [],
   "source": [
    "subplot(1, 2, 1)\n",
    "plot_sillhouette(blobs_3, 'Blobs 3')\n",
    "subplot(1, 2, 2)\n",
    "plot_sillhouette(blobs_5, 'Blobs 5')"
   ]
  },
  {
   "cell_type": "markdown",
   "metadata": {},
   "source": [
    "Vemos que para el conjunto femenino el valor óptimo de clusters sería 6, puesto que es a partir de donde deja de apreciarse mejora en la dispersión."
   ]
  },
  {
   "cell_type": "markdown",
   "metadata": {},
   "source": [
    "Calculamos los centroides:"
   ]
  },
  {
   "cell_type": "code",
   "execution_count": 118,
   "metadata": {
    "collapsed": false,
    "scrolled": true
   },
   "outputs": [
    {
     "data": {
      "text/plain": [
       "array([[  2.65409863e+01,   2.74820379e-01,   2.21423906e-01,\n",
       "          2.62410189e-01,   1.90888308e-01,   1.96766819e-01,\n",
       "          1.54800784e-01,   1.37165251e-01,   6.97256695e-02,\n",
       "          9.16067929e-02,   1.31286741e-01,   3.99412149e-01,\n",
       "          2.37426519e-01,   1.56760287e-01,   1.49738733e-01,\n",
       "          1.15774004e-01,   5.05715219e-01,   3.41280209e-01,\n",
       "          4.47419987e-02,   8.24297845e-01,   2.60287394e-01,\n",
       "          4.76812541e-01,   2.68125408e-01,   1.09568909e-01,\n",
       "          2.20444154e-02,   4.96734161e-01,   1.40104507e-01,\n",
       "          9.97713912e-02,   2.84454605e-01,   4.42684520e-01,\n",
       "          1.71946440e-01,   7.31548008e-02,   5.38863488e-02,\n",
       "          1.89745265e-01,   1.25571522e-01,   9.71587198e-02,\n",
       "          6.00914435e-02],\n",
       "       [  1.50249589e+02,   3.99014778e-01,   3.20197044e-01,\n",
       "          2.13464696e-01,   3.33333333e-01,   2.62725780e-01,\n",
       "          1.74055829e-01,   2.13464696e-01,   7.88177340e-02,\n",
       "          8.21018062e-02,   1.33004926e-01,   5.43513957e-01,\n",
       "          2.15106732e-01,   2.13464696e-01,   2.13464696e-01,\n",
       "          1.14942529e-01,   6.51888342e-01,   2.77504105e-01,\n",
       "          4.26929392e-02,   8.44006568e-01,   2.23316913e-01,\n",
       "          6.66666667e-01,   3.82594417e-01,   1.26436782e-01,\n",
       "          2.62725780e-02,   5.45155993e-01,   1.80623974e-01,\n",
       "          1.34646962e-01,   4.44991790e-01,   5.89490969e-01,\n",
       "          1.83908046e-01,   1.47783251e-01,   1.18226601e-01,\n",
       "          2.18390805e-01,   1.42857143e-01,   1.13300493e-01,\n",
       "          6.07553366e-02],\n",
       "       [  5.32642840e+01,   3.12667153e-01,   2.49209823e-01,\n",
       "          2.36323851e-01,   2.77656212e-01,   2.10065646e-01,\n",
       "          1.76999757e-01,   1.42231947e-01,   8.04765378e-02,\n",
       "          8.24215901e-02,   1.64356917e-01,   4.45903234e-01,\n",
       "          2.41429613e-01,   1.70921469e-01,   1.74082178e-01,\n",
       "          1.29589108e-01,   5.22732798e-01,   3.24580598e-01,\n",
       "          4.71675176e-02,   8.08898614e-01,   2.88110868e-01,\n",
       "          5.56284950e-01,   3.26768782e-01,   1.32749818e-01,\n",
       "          2.16387065e-02,   5.23705325e-01,   1.49039630e-01,\n",
       "          1.95964017e-01,   3.17286652e-01,   4.86506200e-01,\n",
       "          1.93532701e-01,   1.05032823e-01,   7.82883540e-02,\n",
       "          2.02771699e-01,   1.42231947e-01,   9.23899830e-02,\n",
       "          6.75905665e-02],\n",
       "       [  2.85000000e+02,   3.09523810e-01,   1.90476190e-01,\n",
       "          3.92857143e-01,   1.54761905e-01,   2.61904762e-01,\n",
       "          2.14285714e-01,   2.26190476e-01,   1.42857143e-01,\n",
       "          9.52380952e-02,   1.07142857e-01,   5.00000000e-01,\n",
       "          2.61904762e-01,   1.66666667e-01,   1.66666667e-01,\n",
       "          1.54761905e-01,   5.00000000e-01,   3.80952381e-01,\n",
       "          9.52380952e-02,   7.38095238e-01,   1.78571429e-01,\n",
       "          6.54761905e-01,   2.14285714e-01,   1.19047619e-01,\n",
       "          2.77555756e-17,   8.21428571e-01,   2.02380952e-01,\n",
       "          1.66666667e-01,   3.45238095e-01,   5.11904762e-01,\n",
       "          2.26190476e-01,   1.07142857e-01,   1.07142857e-01,\n",
       "          2.14285714e-01,   1.54761905e-01,   1.42857143e-01,\n",
       "          8.33333333e-02],\n",
       "       [  8.94883847e+01,   3.45759049e-01,   2.79848730e-01,\n",
       "          3.07941653e-01,   2.79308482e-01,   2.02052944e-01,\n",
       "          1.69097785e-01,   1.92328471e-01,   1.12911939e-01,\n",
       "          8.10372771e-02,   1.40464614e-01,   4.71096704e-01,\n",
       "          1.80443004e-01,   1.77741761e-01,   1.80983252e-01,\n",
       "          1.17233928e-01,   5.95894111e-01,   2.73365748e-01,\n",
       "          3.83576445e-02,   7.50405186e-01,   2.74446245e-01,\n",
       "          5.87790384e-01,   3.64667747e-01,   1.52350081e-01,\n",
       "          2.80929227e-02,   5.20259319e-01,   1.49108590e-01,\n",
       "          1.33441383e-01,   3.79794706e-01,   5.58076715e-01,\n",
       "          1.71799028e-01,   1.11291194e-01,   8.04970286e-02,\n",
       "          1.70178282e-01,   1.26418152e-01,   8.53592653e-02,\n",
       "          4.86223663e-02],\n",
       "       [  4.45562385e+00,   2.18268090e-01,   1.84945541e-01,\n",
       "          1.93141378e-01,   1.61652108e-01,   1.30702038e-01,\n",
       "          1.31780438e-01,   1.05898846e-01,   5.80179014e-02,\n",
       "          8.14191739e-02,   1.20565081e-01,   3.34411733e-01,\n",
       "          2.29483447e-01,   1.48819152e-01,   1.29300119e-01,\n",
       "          1.13447644e-01,   4.24242424e-01,   2.67874474e-01,\n",
       "          3.48323089e-02,   7.22419929e-01,   2.27110967e-01,\n",
       "          4.27693303e-01,   2.20424889e-01,   9.28502103e-02,\n",
       "          1.76857543e-02,   4.70074410e-01,   1.16035803e-01,\n",
       "          9.89970883e-02,   2.55904238e-01,   3.77008519e-01,\n",
       "          1.58848269e-01,   6.11452604e-02,   4.58319853e-02,\n",
       "          1.83004421e-01,   1.08163485e-01,   9.31737302e-02,\n",
       "          7.06351774e-02]])"
      ]
     },
     "execution_count": 118,
     "metadata": {},
     "output_type": "execute_result"
    }
   ],
   "source": [
    "kmeans = KMeans(n_clusters = 6, n_init = 10).fit(snsdata_f)\n",
    "kmeans.cluster_centers_"
   ]
  },
  {
   "cell_type": "markdown",
   "metadata": {},
   "source": [
    "Analizamos el conjunto masculino:"
   ]
  },
  {
   "cell_type": "code",
   "execution_count": 116,
   "metadata": {
    "collapsed": false
   },
   "outputs": [
    {
     "data": {
      "image/png": "[encoded data removed]",
      "text/plain": [
       "<matplotlib.figure.Figure at 0x7f3e392f9810>"
      ]
     },
     "metadata": {},
     "output_type": "display_data"
    }
   ],
   "source": [
    "plot_distorsion(snsdata_m, \"snsdata_male\", max_k = 10)"
   ]
  },
  {
   "cell_type": "markdown",
   "metadata": {},
   "source": [
    "Vemos que para el conjunto masculino el valor óptimo de clusters sería 3, puesto que es a partir de donde deja de apreciarse mejora en la dispersión."
   ]
  },
  {
   "cell_type": "markdown",
   "metadata": {},
   "source": [
    "Calculamos los centroides:"
   ]
  },
  {
   "cell_type": "code",
   "execution_count": 120,
   "metadata": {
    "collapsed": false,
    "scrolled": true
   },
   "outputs": [
    {
     "data": {
      "text/plain": [
       "array([[  4.26074646e+01,   3.51994852e-01,   4.69755470e-01,\n",
       "          2.35521236e-01,   1.15830116e-02,   4.05405405e-02,\n",
       "          8.62290862e-02,   5.14800515e-03,   2.91505792e-01,\n",
       "          1.13899614e-01,   2.14929215e-01,   9.39510940e-02,\n",
       "          1.58301158e-01,   8.17245817e-02,   4.69755470e-02,\n",
       "          7.01415701e-02,   2.29086229e-01,   4.15057915e-01,\n",
       "          6.37065637e-02,   7.97297297e-01,   2.83783784e-01,\n",
       "          4.28571429e-01,   2.16859717e-01,   1.51222651e-01,\n",
       "          2.83140283e-02,   1.85328185e-01,   3.21750322e-02,\n",
       "          3.15315315e-02,   1.55727156e-01,   6.43500644e-02,\n",
       "          7.65765766e-02,   4.05405405e-02,   2.38095238e-02,\n",
       "          1.81467181e-01,   9.78120978e-02,   8.55855856e-02,\n",
       "          5.01930502e-02],\n",
       "       [  8.28825301e+00,   2.86746988e-01,   4.36144578e-01,\n",
       "          1.90963855e-01,   5.72289157e-03,   2.92168675e-02,\n",
       "          7.65060241e-02,   8.43373494e-03,   2.44879518e-01,\n",
       "          8.82530120e-02,   1.91265060e-01,   5.96385542e-02,\n",
       "          1.59036145e-01,   7.92168675e-02,   5.09036145e-02,\n",
       "          5.18072289e-02,   1.90361446e-01,   3.15361446e-01,\n",
       "          4.27710843e-02,   6.38554217e-01,   2.29216867e-01,\n",
       "          4.05722892e-01,   1.71686747e-01,   1.08132530e-01,\n",
       "          2.50000000e-02,   1.74096386e-01,   3.04216867e-02,\n",
       "          1.95783133e-02,   1.13855422e-01,   3.91566265e-02,\n",
       "          6.74698795e-02,   2.56024096e-02,   1.89759036e-02,\n",
       "          1.69277108e-01,   1.05722892e-01,   6.50602410e-02,\n",
       "          5.60240964e-02],\n",
       "       [  1.04704023e+02,   4.25287356e-01,   4.71264368e-01,\n",
       "          2.78735632e-01,   3.16091954e-02,   6.03448276e-02,\n",
       "          8.33333333e-02,   2.58620690e-02,   4.36781609e-01,\n",
       "          1.98275862e-01,   2.12643678e-01,   8.04597701e-02,\n",
       "          1.83908046e-01,   1.14942529e-01,   8.33333333e-02,\n",
       "          7.75862069e-02,   2.47126437e-01,   4.08045977e-01,\n",
       "          4.31034483e-02,   7.38505747e-01,   3.41954023e-01,\n",
       "          6.32183908e-01,   3.30459770e-01,   1.69540230e-01,\n",
       "          4.59770115e-02,   2.21264368e-01,   2.87356322e-02,\n",
       "          3.73563218e-02,   2.58620690e-01,   7.18390805e-02,\n",
       "          9.77011494e-02,   6.60919540e-02,   5.45977011e-02,\n",
       "          2.50000000e-01,   1.17816092e-01,   1.26436782e-01,\n",
       "          6.89655172e-02]])"
      ]
     },
     "execution_count": 120,
     "metadata": {},
     "output_type": "execute_result"
    }
   ],
   "source": [
    "kmeans = KMeans(n_clusters = 3, n_init = 10).fit(snsdata_m)\n",
    "kmeans.cluster_centers_"
   ]
  },
  {
   "cell_type": "markdown",
   "metadata": {},
   "source": [
    "# 2. Componentes principales."
   ]
  },
  {
   "cell_type": "markdown",
   "metadata": {},
   "source": [
    "__En el archivo “concrete.csv” se encuentran los datos de diferentes mezclas de hormigón. Utilizar el análisis de componentes principales y obtener el número de componentes principales con los que se puede explicar el 50%, 75% y 90% de la varianza. Obtener el porcentaje de la varianza que explica la primera componente principal.__"
   ]
  },
  {
   "cell_type": "markdown",
   "metadata": {},
   "source": [
    "Cargamos los datos del fichero."
   ]
  },
  {
   "cell_type": "code",
   "execution_count": 124,
   "metadata": {
    "collapsed": false
   },
   "outputs": [
    {
     "data": {
      "text/html": [
       "<div>\n",
       "<table border=\"1\" class=\"dataframe\">\n",
       "  <thead>\n",
       "    <tr style=\"text-align: right;\">\n",
       "      <th></th>\n",
       "      <th>cement</th>\n",
       "      <th>slag</th>\n",
       "      <th>ash</th>\n",
       "      <th>water</th>\n",
       "      <th>superplastic</th>\n",
       "      <th>coarseagg</th>\n",
       "      <th>fineagg</th>\n",
       "      <th>age</th>\n",
       "      <th>strength</th>\n",
       "    </tr>\n",
       "  </thead>\n",
       "  <tbody>\n",
       "    <tr>\n",
       "      <th>0</th>\n",
       "      <td>540.0</td>\n",
       "      <td>0.0</td>\n",
       "      <td>0.0</td>\n",
       "      <td>162.0</td>\n",
       "      <td>2.5</td>\n",
       "      <td>1040.0</td>\n",
       "      <td>676.0</td>\n",
       "      <td>28</td>\n",
       "      <td>79.99</td>\n",
       "    </tr>\n",
       "    <tr>\n",
       "      <th>1</th>\n",
       "      <td>540.0</td>\n",
       "      <td>0.0</td>\n",
       "      <td>0.0</td>\n",
       "      <td>162.0</td>\n",
       "      <td>2.5</td>\n",
       "      <td>1055.0</td>\n",
       "      <td>676.0</td>\n",
       "      <td>28</td>\n",
       "      <td>61.89</td>\n",
       "    </tr>\n",
       "    <tr>\n",
       "      <th>2</th>\n",
       "      <td>332.5</td>\n",
       "      <td>142.5</td>\n",
       "      <td>0.0</td>\n",
       "      <td>228.0</td>\n",
       "      <td>0.0</td>\n",
       "      <td>932.0</td>\n",
       "      <td>594.0</td>\n",
       "      <td>270</td>\n",
       "      <td>40.27</td>\n",
       "    </tr>\n",
       "    <tr>\n",
       "      <th>3</th>\n",
       "      <td>332.5</td>\n",
       "      <td>142.5</td>\n",
       "      <td>0.0</td>\n",
       "      <td>228.0</td>\n",
       "      <td>0.0</td>\n",
       "      <td>932.0</td>\n",
       "      <td>594.0</td>\n",
       "      <td>365</td>\n",
       "      <td>41.05</td>\n",
       "    </tr>\n",
       "    <tr>\n",
       "      <th>4</th>\n",
       "      <td>198.6</td>\n",
       "      <td>132.4</td>\n",
       "      <td>0.0</td>\n",
       "      <td>192.0</td>\n",
       "      <td>0.0</td>\n",
       "      <td>978.4</td>\n",
       "      <td>825.5</td>\n",
       "      <td>360</td>\n",
       "      <td>44.30</td>\n",
       "    </tr>\n",
       "  </tbody>\n",
       "</table>\n",
       "</div>"
      ],
      "text/plain": [
       "   cement   slag  ash  water  superplastic  coarseagg  fineagg  age  strength\n",
       "0   540.0    0.0  0.0  162.0           2.5     1040.0    676.0   28     79.99\n",
       "1   540.0    0.0  0.0  162.0           2.5     1055.0    676.0   28     61.89\n",
       "2   332.5  142.5  0.0  228.0           0.0      932.0    594.0  270     40.27\n",
       "3   332.5  142.5  0.0  228.0           0.0      932.0    594.0  365     41.05\n",
       "4   198.6  132.4  0.0  192.0           0.0      978.4    825.5  360     44.30"
      ]
     },
     "execution_count": 124,
     "metadata": {},
     "output_type": "execute_result"
    }
   ],
   "source": [
    "concrete = pd.read_csv('concrete.csv', sep = ',')\n",
    "concrete.head(5)"
   ]
  },
  {
   "cell_type": "markdown",
   "metadata": {},
   "source": [
    "Utilizamos el Análisis de Componentes Principales (PCA)."
   ]
  },
  {
   "cell_type": "code",
   "execution_count": 126,
   "metadata": {
    "collapsed": false
   },
   "outputs": [
    {
     "name": "stdout",
     "output_type": "stream",
     "text": [
      "Varianza explicada con 1 componentes: 0.324912981545\n",
      "Varianza explicada con 2 componentes: 0.572433128251\n",
      "Varianza explicada con 3 componentes: 0.756005146663\n",
      "Varianza explicada con 4 componentes: 0.863007419816\n",
      "Varianza explicada con 5 componentes: 0.963442482825\n",
      "Varianza explicada con 6 componentes: 0.99538827368\n",
      "Varianza explicada con 7 componentes: 0.997959553583\n",
      "Varianza explicada con 8 componentes: 0.999716380907\n",
      "Varianza explicada con 9 componentes: 1.0\n"
     ]
    }
   ],
   "source": [
    "from sklearn.decomposition import PCA\n",
    "\n",
    "pca = PCA(n_components = None)\n",
    "concrete_pca = pca.fit_transform(concrete)\n",
    "\n",
    "for i in range(shape(concrete_pca)[1]):\n",
    "    print \"Varianza explicada con\", i + 1, \"componentes:\", pca.explained_variance_ratio_[range(i + 1)].sum()"
   ]
  },
  {
   "cell_type": "markdown",
   "metadata": {},
   "source": [
    "Vemos que el 50% de la varianza se puede explicar con 2 componentes principales.\n",
    "\n",
    "El 75% de la varianza se puede explicar con 3 componentes principales.\n",
    "\n",
    "El 90% de la varianza se puede explicar con 5 componentes principales."
   ]
  },
  {
   "cell_type": "code",
   "execution_count": 134,
   "metadata": {
    "collapsed": false
   },
   "outputs": [
    {
     "name": "stdout",
     "output_type": "stream",
     "text": [
      "La primera componente principal explica el 32.4912981545 % de la varianza\n"
     ]
    }
   ],
   "source": [
    "print 'La primera componente principal explica el', pca.explained_variance_ratio_[range(1)].sum()*100, '% de la varianza'"
   ]
  },
  {
   "cell_type": "markdown",
   "metadata": {},
   "source": [
    "# 3. Regresión de una función con Theano."
   ]
  },
  {
   "cell_type": "markdown",
   "metadata": {},
   "source": [
    "__Crear un conjunto de datos utilizando el siguiente código:__\n",
    "```\n",
    "trX\t=\tnp.linspace(-1,\t1,\t101)\t\n",
    "trY\t=\tnp.linspace(-1,\t1,\t101)\t\n",
    "for\ti\tin\trange(len(trY)):\t\n",
    "\t \t \t \t trY[i]\t =\t math.log(1\t +\t 0.5\t *\t abs(trX[i]))\t +\t trX[i]\t /\t 3\t +\t\n",
    "np.random.randn()\t*\t0.033\n",
    "```\n",
    "__Ahora utilizar Theano para obtener los parámetros w_0 y w_1 del siguiente modelo:__\n",
    "```\n",
    "y = log(1 + w_0 |x|) + w_1 x,\n",
    "```\n",
    "__utilizando los datos generados anteriormente.__"
   ]
  },
  {
   "cell_type": "markdown",
   "metadata": {},
   "source": [
    "Importamos la librería Theano que vamos a utilizar en este ejercicio."
   ]
  },
  {
   "cell_type": "code",
   "execution_count": 141,
   "metadata": {
    "collapsed": true
   },
   "outputs": [],
   "source": [
    "import theano\n",
    "import theano.tensor as T"
   ]
  },
  {
   "cell_type": "markdown",
   "metadata": {},
   "source": [
    "Creamos el conjunto de datos según lo indicado anteriormente."
   ]
  },
  {
   "cell_type": "code",
   "execution_count": 137,
   "metadata": {
    "collapsed": true
   },
   "outputs": [],
   "source": [
    "trX = np.linspace(-1,1,101)\n",
    "trY = np.linspace(-1,1,101)\n",
    "\n",
    "for i in range(len(trY)):\n",
    "    trY[i] = math.log(1 + 0.5 * abs(trX[i])) + trX[i]/3 + np.random.randn()*0.033"
   ]
  },
  {
   "cell_type": "markdown",
   "metadata": {},
   "source": [
    "Definimos como objetos Theano las variables que vamos a obtener."
   ]
  },
  {
   "cell_type": "code",
   "execution_count": 152,
   "metadata": {
    "collapsed": false
   },
   "outputs": [],
   "source": [
    "X = T.scalar()\n",
    "Y = T.scalar()"
   ]
  },
  {
   "cell_type": "markdown",
   "metadata": {},
   "source": [
    "Definimos el modelo como una función:"
   ]
  },
  {
   "cell_type": "code",
   "execution_count": 148,
   "metadata": {
    "collapsed": true
   },
   "outputs": [],
   "source": [
    "# Definimos el modelo\n",
    "def model(X, w0, w1):\n",
    "    return log(1 + w0 * abs(X)) + w1 * X\n"
   ]
  },
  {
   "cell_type": "markdown",
   "metadata": {},
   "source": [
    "Ahora, debemos hallar los valores de w_0 y w_1 para este modelo"
   ]
  },
  {
   "cell_type": "code",
   "execution_count": 151,
   "metadata": {
    "collapsed": false
   },
   "outputs": [
    {
     "name": "stdout",
     "output_type": "stream",
     "text": [
      "En el paso 0 el valor de w_0 es 0.195787910793 y w_1 es 0.165580830745 con un coste de 0.146211306152\n",
      "En el paso 1 el valor de w_0 es 0.299092021751 y w_1 es 0.249915513634 con un coste de 0.0435980525379\n",
      "En el paso 2 el valor de w_0 es 0.361711005076 y w_1 es 0.291249202303 con un coste de 0.0137702368059\n",
      "En el paso 3 el valor de w_0 es 0.401908249239 y w_1 es 0.311026907146 con un coste de 0.00447299647662\n",
      "En el paso 4 el valor de w_0 es 0.42846063875 y w_1 es 0.320230409192 con un coste de 0.00144616925209\n",
      "En el paso 5 el valor de w_0 es 0.446276964459 y w_1 es 0.324340362105 con un coste de 0.000441461452096\n",
      "En el paso 6 el valor de w_0 es 0.458340797387 y w_1 es 0.326050870164 con un coste de 0.000114208637894\n",
      "En el paso 7 el valor de w_0 es 0.466554410882 y w_1 es 0.326667219933 con un coste de 1.81888525922e-05\n",
      "En el paso 8 el valor de w_0 es 0.472165580861 y w_1 es 0.326810448775 con un coste de 3.3568861913e-08\n",
      "En el paso 9 el valor de w_0 es 0.476007020571 y w_1 es 0.326768432616 con un coste de 6.04088698639e-06\n",
      "En el paso 10 el valor de w_0 es 0.478640422932 y w_1 es 0.326669235722 con un coste de 1.75697534127e-05\n",
      "En el paso 11 el valor de w_0 es 0.480447223652 y w_1 es 0.326565869887 con un coste de 2.85464387997e-05\n",
      "En el paso 12 el valor de w_0 es 0.481687556055 y w_1 es 0.326477226453 con un coste de 3.73818299456e-05\n",
      "En el paso 13 el valor de w_0 es 0.482539310717 y w_1 es 0.32640750276 con un coste de 4.40113052973e-05\n",
      "En el paso 14 el valor de w_0 es 0.483124349143 y w_1 es 0.326355184925 con un coste de 4.88116005779e-05\n",
      "En el paso 15 el valor de w_0 es 0.483526244011 y w_1 es 0.326317031278 con un coste de 5.22187802386e-05\n",
      "En el paso 16 el valor de w_0 es 0.483802350286 y w_1 es 0.326289712726 con un coste de 5.46086428579e-05\n",
      "En el paso 17 el valor de w_0 es 0.483992047797 y w_1 es 0.326270390593 con un coste de 5.62727088866e-05\n",
      "En el paso 18 el valor de w_0 es 0.484122382369 y w_1 es 0.326256838655 con un coste de 5.74260387579e-05\n",
      "En el paso 19 el valor de w_0 es 0.484211932195 y w_1 es 0.326247389341 con un coste de 5.82230022802e-05\n"
     ]
    }
   ],
   "source": [
    "# Definimos las variables compartidas\n",
    "w0 = theano.shared(np.asarray(0., dtype = theano.config.floatX))\n",
    "w1 = theano.shared(np.asarray(0., dtype = theano.config.floatX))\n",
    "\n",
    "# La salida, por tanto, debe ser la siguiente:\n",
    "y = model(X, w0, w1)\n",
    "\n",
    "cost = T.mean(T.sqr(y - Y))\n",
    "gradient_w0 = T.grad(cost = cost, wrt = w0)\n",
    "gradient_w1 = T.grad(cost = cost, wrt = w1)\n",
    "\n",
    "updates  = [[w0, w0 - gradient_w0 * 0.01], [w1, w1 - gradient_w1 * 0.01]]\n",
    "\n",
    "train = theano.function(inputs = [X, Y], outputs = cost, updates = updates, allow_input_downcast = True)\n",
    "\n",
    "for i in range(20):\n",
    "    for x, y in zip(trX, trY):\n",
    "        cost_i = train(x, y)\n",
    "    print 'En el paso', i, 'el valor de w_0 es', w0.get_value(), 'y w_1 es', w1.get_value(), 'con un coste de', cost_i"
   ]
  },
  {
   "cell_type": "markdown",
   "metadata": {},
   "source": [
    "Podemos ver que los valores de w_0 y w_1 para este modelo van a ser:\n",
    "    \n",
    "    w_0 = 0.484\n",
    "    w_1 = 0.326"
   ]
  }
 ],
 "metadata": {
  "kernelspec": {
   "display_name": "Python 2",
   "language": "python",
   "name": "python2"
  },
  "language_info": {
   "codemirror_mode": {
    "name": "ipython",
    "version": 2
   },
   "file_extension": ".py",
   "mimetype": "text/x-python",
   "name": "python",
   "nbconvert_exporter": "python",
   "pygments_lexer": "ipython2",
   "version": "2.7.11"
  }
 },
 "nbformat": 4,
 "nbformat_minor": 0
}

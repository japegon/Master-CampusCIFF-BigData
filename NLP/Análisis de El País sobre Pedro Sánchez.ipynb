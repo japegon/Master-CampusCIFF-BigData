{
 "cells": [
  {
   "cell_type": "markdown",
   "metadata": {},
   "source": [
    "# Análisis de los titulares del periódico El País sobre Pedro Sánchez"
   ]
  },
  {
   "cell_type": "markdown",
   "metadata": {},
   "source": [
    "Según comentaba Pedro Sánchez en la entrevista realizada por Jordi Évole en 'Salvados', el periódico El País fue uno de los poderes que motivaron su dimisión como secretario general del PSOE. \n",
    "![Pedro Sánchez con Jordi Évole](http://imagenes.lainformacion.com/2016/10/31/politica/Pedro-Sanchez-Evole-interrogatorios-Salvados_967714282_116318795_667x375.jpg \"Pedro Sánchez con Jordi Évole\")\n",
    "\n",
    "> __Los medios han sido especialmente críticos conmigo.__ Yo te digo las advertencias que tuve [por parte de 'El País'] y las consecuencias que hubo.\n",
    "\n",
    "Analizando los titulares de dos períodos concretos de tiempo vamos a tratar de determinar si, efectivamente, el periódico El País tenía una línea editorial que trataba de forma negativa al ex-líder del PSOE.\n",
    "\n",
    "Los dos períodos a analizar son los siguientes:\n",
    "- El mes previo a las primeras elecciones generales (diciembre 2015).\n",
    "- El mes previo a la dimisión de Pedro Sánchez como secretario general del PSOE (octubre 2016)."
   ]
  },
  {
   "cell_type": "markdown",
   "metadata": {},
   "source": [
    "Importamos las librerías que vamos a utilizar en el análisis:"
   ]
  },
  {
   "cell_type": "code",
   "execution_count": 240,
   "metadata": {
    "collapsed": false
   },
   "outputs": [],
   "source": [
    "%matplotlib inline\n",
    "\n",
    "import feedparser\n",
    "import pandas as pd\n",
    "import numpy as np\n",
    "from string import punctuation\n",
    "\n",
    "import nltk\n",
    "from nltk.corpus import stopwords\n",
    "from nltk import word_tokenize\n",
    "from nltk.data import load\n",
    "from nltk.stem import SnowballStemmer\n",
    "\n",
    "from sklearn.naive_bayes import MultinomialNB\n",
    "from sklearn.feature_extraction.text import CountVectorizer\n",
    "from sklearn.feature_extraction.text import TfidfTransformer\n",
    "from sklearn.pipeline import Pipeline\n",
    "\n",
    "import matplotlib.pyplot as plt\n",
    "import matplotlib.dates as mdates\n",
    "import seaborn as sns"
   ]
  },
  {
   "cell_type": "markdown",
   "metadata": {},
   "source": [
    "Creamos una función que va a scrapear la web del archivo de El País para conseguir los titulares del día especificado.\n",
    "\n",
    "Cabe señalar que vamos a coger los titulares publicados en la edición de la mañana."
   ]
  },
  {
   "cell_type": "code",
   "execution_count": 3,
   "metadata": {
    "collapsed": false
   },
   "outputs": [],
   "source": [
    "import requests\n",
    "from bs4 import BeautifulSoup\n",
    "\n",
    "def elpais_scrapper(year, month, day):\n",
    "    df_titulos = pd.DataFrame(columns=['Fecha', 'Titular'])\n",
    "    \n",
    "    fecha = year + \"/\" + month + \"/\" + day\n",
    "    \n",
    "    url = \"http://elpais.com/hemeroteca/elpais/\" + fecha + \"/m/portada.html\"\n",
    "    req = requests.get(url)\n",
    "\n",
    "    # Comprobamos que la petición nos devuelve un Status Code = 200\n",
    "    statusCode = req.status_code\n",
    "    \n",
    "    if statusCode == 200:\n",
    "        # Pasamos el contenido HTML de la web a un objeto BeautifulSoup()\n",
    "        html = BeautifulSoup(req.text, \"lxml\")\n",
    "\n",
    "        # Obtenemos todos los divs donde estan las entradas\n",
    "        if year==2016:\n",
    "            entradas = html.find_all('h2',{'itemprop':'headline'})\n",
    "        \n",
    "        else:\n",
    "            entradas = html.find_all('h1')\n",
    "            entradas = entradas + html.find_all('h2')\n",
    "        \n",
    "        # Recorremos todas las entradas para extraer el título, autor y fecha\n",
    "        for i,entrada in enumerate(entradas):\n",
    "            # Con el método \"getText()\" no nos devuelve el HTML\n",
    "            titulo = entrada.find('a').getText()\n",
    "\n",
    "            # Imprimo el Título, Autor y Fecha de las entradas\n",
    "            df_titulos.loc[len(df_titulos)] = [fecha,titulo]\n",
    "    \n",
    "    else:\n",
    "        print \"Status Code %d\" %statusCode\n",
    "    \n",
    "    return df_titulos"
   ]
  },
  {
   "cell_type": "markdown",
   "metadata": {},
   "source": [
    "#### Scraping de los titulares"
   ]
  },
  {
   "cell_type": "markdown",
   "metadata": {},
   "source": [
    "Elecciones del 20 de diciembre de 2015. Cogemos los titulares generados por El País durante ese mes."
   ]
  },
  {
   "cell_type": "code",
   "execution_count": 6,
   "metadata": {
    "collapsed": false
   },
   "outputs": [
    {
     "data": {
      "text/html": [
       "<div>\n",
       "<table border=\"1\" class=\"dataframe\">\n",
       "  <thead>\n",
       "    <tr style=\"text-align: right;\">\n",
       "      <th></th>\n",
       "      <th>Fecha</th>\n",
       "      <th>Titular</th>\n",
       "    </tr>\n",
       "  </thead>\n",
       "  <tbody>\n",
       "    <tr>\n",
       "      <th>0</th>\n",
       "      <td>2015/12/01</td>\n",
       "      <td>El debate de EL PAÍS consolida las opciones de...</td>\n",
       "    </tr>\n",
       "    <tr>\n",
       "      <th>1</th>\n",
       "      <td>2015/12/01</td>\n",
       "      <td>Editorial | Ganó el debate</td>\n",
       "    </tr>\n",
       "    <tr>\n",
       "      <th>2</th>\n",
       "      <td>2015/12/01</td>\n",
       "      <td>Cataluña | Podemos se queda solo en defensa de...</td>\n",
       "    </tr>\n",
       "    <tr>\n",
       "      <th>3</th>\n",
       "      <td>2015/12/01</td>\n",
       "      <td>Corrupción | Las puertas giratorias y la indep...</td>\n",
       "    </tr>\n",
       "    <tr>\n",
       "      <th>4</th>\n",
       "      <td>2015/12/01</td>\n",
       "      <td>Empleo | Entre un contrato único y la derogaci...</td>\n",
       "    </tr>\n",
       "  </tbody>\n",
       "</table>\n",
       "</div>"
      ],
      "text/plain": [
       "        Fecha                                            Titular\n",
       "0  2015/12/01  El debate de EL PAÍS consolida las opciones de...\n",
       "1  2015/12/01                         Editorial | Ganó el debate\n",
       "2  2015/12/01  Cataluña | Podemos se queda solo en defensa de...\n",
       "3  2015/12/01  Corrupción | Las puertas giratorias y la indep...\n",
       "4  2015/12/01  Empleo | Entre un contrato único y la derogaci..."
      ]
     },
     "execution_count": 6,
     "metadata": {},
     "output_type": "execute_result"
    }
   ],
   "source": [
    "titulares2015 = pd.DataFrame()\n",
    "for i in range(20):\n",
    "    day = \"%02d\" % (i+1,)\n",
    "    titulares_dia = elpais_scrapper(\"2015\",\"12\",day)\n",
    "    titulares2015 = titulares2015.append(titulares_dia)\n",
    "\n",
    "titulares2015.head(5)"
   ]
  },
  {
   "cell_type": "markdown",
   "metadata": {},
   "source": [
    "La renuncia de Pedro Sánchez como secretario general del PSOE se produjo el 30 de octubre de 2016.\n",
    "\n",
    "Vamos a analizar los titulares de El País durante ese mes."
   ]
  },
  {
   "cell_type": "code",
   "execution_count": 10,
   "metadata": {
    "collapsed": false
   },
   "outputs": [
    {
     "data": {
      "text/html": [
       "<div>\n",
       "<table border=\"1\" class=\"dataframe\">\n",
       "  <thead>\n",
       "    <tr style=\"text-align: right;\">\n",
       "      <th></th>\n",
       "      <th>Fecha</th>\n",
       "      <th>Titular</th>\n",
       "    </tr>\n",
       "  </thead>\n",
       "  <tbody>\n",
       "    <tr>\n",
       "      <th>0</th>\n",
       "      <td>2016/10/01</td>\n",
       "      <td>El PSOE libra la batalla decisiva en su comité...</td>\n",
       "    </tr>\n",
       "    <tr>\n",
       "      <th>1</th>\n",
       "      <td>2016/10/01</td>\n",
       "      <td>Las opciones: una gestora o las primarias que ...</td>\n",
       "    </tr>\n",
       "    <tr>\n",
       "      <th>2</th>\n",
       "      <td>2016/10/01</td>\n",
       "      <td>El hundimiento socialista es uno de los peores...</td>\n",
       "    </tr>\n",
       "    <tr>\n",
       "      <th>3</th>\n",
       "      <td>2016/10/01</td>\n",
       "      <td>Directo | Decenas de manifestantes en la sede ...</td>\n",
       "    </tr>\n",
       "    <tr>\n",
       "      <th>4</th>\n",
       "      <td>2016/10/01</td>\n",
       "      <td>Cronología | Las crisis de Pedro Sánchez</td>\n",
       "    </tr>\n",
       "  </tbody>\n",
       "</table>\n",
       "</div>"
      ],
      "text/plain": [
       "        Fecha                                            Titular\n",
       "0  2016/10/01  El PSOE libra la batalla decisiva en su comité...\n",
       "1  2016/10/01  Las opciones: una gestora o las primarias que ...\n",
       "2  2016/10/01  El hundimiento socialista es uno de los peores...\n",
       "3  2016/10/01  Directo | Decenas de manifestantes en la sede ...\n",
       "4  2016/10/01           Cronología | Las crisis de Pedro Sánchez"
      ]
     },
     "execution_count": 10,
     "metadata": {},
     "output_type": "execute_result"
    }
   ],
   "source": [
    "titulares2016 = pd.DataFrame()\n",
    "for i in range(30):\n",
    "    day = \"%02d\" % (i+1,)\n",
    "    titulares_dia = elpais_scrapper(\"2016\",\"10\",day)\n",
    "    titulares2016 = titulares2016.append(titulares_dia)\n",
    "\n",
    "titulares2016.head(5)"
   ]
  },
  {
   "cell_type": "markdown",
   "metadata": {},
   "source": [
    "#### Filtro de los titulares"
   ]
  },
  {
   "cell_type": "markdown",
   "metadata": {},
   "source": [
    "Nos quedamos únicamente con las noticias relacionadas con Pedro Sánchez."
   ]
  },
  {
   "cell_type": "code",
   "execution_count": 163,
   "metadata": {
    "collapsed": false
   },
   "outputs": [
    {
     "name": "stdout",
     "output_type": "stream",
     "text": [
      "Número de titulares durante el mes anterior a las primeras elecciones: 22\n"
     ]
    },
    {
     "data": {
      "text/html": [
       "<div>\n",
       "<table border=\"1\" class=\"dataframe\">\n",
       "  <thead>\n",
       "    <tr style=\"text-align: right;\">\n",
       "      <th></th>\n",
       "      <th>Fecha</th>\n",
       "      <th>Titular</th>\n",
       "    </tr>\n",
       "  </thead>\n",
       "  <tbody>\n",
       "    <tr>\n",
       "      <th>5</th>\n",
       "      <td>2015/12/01</td>\n",
       "      <td>Yihadismo | Iglesias rechaza la coalición de P...</td>\n",
       "    </tr>\n",
       "    <tr>\n",
       "      <th>10</th>\n",
       "      <td>2015/12/01</td>\n",
       "      <td>Rajoy solo quiere debatir con Pedro Sánchez pa...</td>\n",
       "    </tr>\n",
       "    <tr>\n",
       "      <th>19</th>\n",
       "      <td>2015/12/01</td>\n",
       "      <td>Sánchez, el más mencionado</td>\n",
       "    </tr>\n",
       "    <tr>\n",
       "      <th>65</th>\n",
       "      <td>2015/12/01</td>\n",
       "      <td>Rivera, Sánchez e Iglesias en El País debate</td>\n",
       "    </tr>\n",
       "    <tr>\n",
       "      <th>2</th>\n",
       "      <td>2015/12/04</td>\n",
       "      <td>El CIS deja fuera del Congreso a fichajes del ...</td>\n",
       "    </tr>\n",
       "  </tbody>\n",
       "</table>\n",
       "</div>"
      ],
      "text/plain": [
       "         Fecha                                            Titular\n",
       "5   2015/12/01  Yihadismo | Iglesias rechaza la coalición de P...\n",
       "10  2015/12/01  Rajoy solo quiere debatir con Pedro Sánchez pa...\n",
       "19  2015/12/01                         Sánchez, el más mencionado\n",
       "65  2015/12/01       Rivera, Sánchez e Iglesias en El País debate\n",
       "2   2015/12/04  El CIS deja fuera del Congreso a fichajes del ..."
      ]
     },
     "execution_count": 163,
     "metadata": {},
     "output_type": "execute_result"
    }
   ],
   "source": [
    "# Cogemos el dataset de 2015\n",
    "# Filtramos las noticias que contienen \"Pedro Sánchez\" o \"Sánchez\".\n",
    "titulares2015_ps = titulares2015[titulares2015['Titular'].str.contains(\"PSOE|Pedro S|nchez\")]\n",
    "\n",
    "print 'Número de titulares durante el mes anterior a las primeras elecciones:', titulares2015_ps['Titular'].size\n",
    "titulares2015_ps.head(5)"
   ]
  },
  {
   "cell_type": "code",
   "execution_count": 13,
   "metadata": {
    "collapsed": false
   },
   "outputs": [
    {
     "name": "stdout",
     "output_type": "stream",
     "text": [
      "Número de titulares durante el mes anterior a la dimisión de Pedro Sánchez: 39\n"
     ]
    },
    {
     "data": {
      "text/html": [
       "<div>\n",
       "<table border=\"1\" class=\"dataframe\">\n",
       "  <thead>\n",
       "    <tr style=\"text-align: right;\">\n",
       "      <th></th>\n",
       "      <th>Fecha</th>\n",
       "      <th>Titular</th>\n",
       "    </tr>\n",
       "  </thead>\n",
       "  <tbody>\n",
       "    <tr>\n",
       "      <th>0</th>\n",
       "      <td>2016/10/01</td>\n",
       "      <td>El PSOE libra la batalla decisiva en su comité...</td>\n",
       "    </tr>\n",
       "    <tr>\n",
       "      <th>1</th>\n",
       "      <td>2016/10/01</td>\n",
       "      <td>Las opciones: una gestora o las primarias que ...</td>\n",
       "    </tr>\n",
       "    <tr>\n",
       "      <th>4</th>\n",
       "      <td>2016/10/01</td>\n",
       "      <td>Cronología | Las crisis de Pedro Sánchez</td>\n",
       "    </tr>\n",
       "    <tr>\n",
       "      <th>5</th>\n",
       "      <td>2016/10/01</td>\n",
       "      <td>Editorial | Un PSOE con futuro</td>\n",
       "    </tr>\n",
       "    <tr>\n",
       "      <th>28</th>\n",
       "      <td>2016/10/01</td>\n",
       "      <td>Iglesias, a los críticos del PSOE: “Nos necesi...</td>\n",
       "    </tr>\n",
       "  </tbody>\n",
       "</table>\n",
       "</div>"
      ],
      "text/plain": [
       "         Fecha                                            Titular\n",
       "0   2016/10/01  El PSOE libra la batalla decisiva en su comité...\n",
       "1   2016/10/01  Las opciones: una gestora o las primarias que ...\n",
       "4   2016/10/01           Cronología | Las crisis de Pedro Sánchez\n",
       "5   2016/10/01                     Editorial | Un PSOE con futuro\n",
       "28  2016/10/01  Iglesias, a los críticos del PSOE: “Nos necesi..."
      ]
     },
     "execution_count": 13,
     "metadata": {},
     "output_type": "execute_result"
    }
   ],
   "source": [
    "# Cogemos el dataset de 2016\n",
    "# Filtramos las noticias que contienen \"Pedro Sánchez\" o \"Sánchez\".\n",
    "titulares2016_ps = titulares2016[titulares2016['Titular'].str.contains(\"PSOE|Pedro S|nchez\")]\n",
    "\n",
    "print 'Número de titulares durante el mes anterior a la dimisión de Pedro Sánchez:', titulares2016_ps['Titular'].size\n",
    "titulares2016_ps.head(5)"
   ]
  },
  {
   "cell_type": "markdown",
   "metadata": {},
   "source": [
    "#### Entrenamiento del corpus"
   ]
  },
  {
   "cell_type": "markdown",
   "metadata": {},
   "source": [
    "Utilizamos el corpus del TASS creado por la Sociedad Española del Procesado del Lenguaje Natural (SEPLN). Este corpus se ha creado a partir de tweets en español.\n",
    "\n",
    "Nosotros vamos a utilizarlo por 2 razones:\n",
    "1. Es uno de los corpus más completos que hay para el idioma español.\n",
    "2. Un titular se puede asimilar aproximadamente a un tweet dado que es una frase corta."
   ]
  },
  {
   "cell_type": "code",
   "execution_count": 24,
   "metadata": {
    "collapsed": false
   },
   "outputs": [],
   "source": [
    "from lxml import objectify\n",
    "\n",
    "xml = objectify.parse(open('general-tweets-train-tagged.xml'))\n",
    "\n",
    "#sample tweet object\n",
    "tass_corpus_train = pd.DataFrame(columns=('content', 'polarity', 'agreement'))\n",
    "root = xml.getroot()\n",
    "tweets = root.getchildren()\n",
    "\n",
    "for i in range(0,len(tweets)):\n",
    "    tweet = tweets[i]\n",
    "    row = dict(zip(['content', 'polarity', 'agreement'], \n",
    "                   [tweet.content.text, tweet.sentiments.polarity.value.text, tweet.sentiments.polarity.type.text]))\n",
    "    row_s = pd.Series(row)\n",
    "    row_s.name = i\n",
    "    tass_corpus_train = tass_corpus_train.append(row_s)\n",
    "tass_corpus_train.to_csv('general-tweets-train-tagged.csv', index=False, encoding='utf-8')\n"
   ]
  },
  {
   "cell_type": "markdown",
   "metadata": {},
   "source": [
    "Visualizamos el contenido del TASS corpus:"
   ]
  },
  {
   "cell_type": "code",
   "execution_count": 51,
   "metadata": {
    "collapsed": false
   },
   "outputs": [
    {
     "data": {
      "text/html": [
       "<div>\n",
       "<table border=\"1\" class=\"dataframe\">\n",
       "  <thead>\n",
       "    <tr style=\"text-align: right;\">\n",
       "      <th></th>\n",
       "      <th>content</th>\n",
       "      <th>polarity</th>\n",
       "      <th>agreement</th>\n",
       "    </tr>\n",
       "  </thead>\n",
       "  <tbody>\n",
       "    <tr>\n",
       "      <th>0</th>\n",
       "      <td>Salgo de #VeoTV , que día más largoooooo...</td>\n",
       "      <td>NONE</td>\n",
       "      <td>AGREEMENT</td>\n",
       "    </tr>\n",
       "    <tr>\n",
       "      <th>1</th>\n",
       "      <td>@PauladeLasHeras No te libraras de ayudar me/n...</td>\n",
       "      <td>NEU</td>\n",
       "      <td>DISAGREEMENT</td>\n",
       "    </tr>\n",
       "    <tr>\n",
       "      <th>2</th>\n",
       "      <td>@marodriguezb Gracias MAR</td>\n",
       "      <td>P</td>\n",
       "      <td>AGREEMENT</td>\n",
       "    </tr>\n",
       "    <tr>\n",
       "      <th>3</th>\n",
       "      <td>Off pensando en el regalito Sinde, la que se v...</td>\n",
       "      <td>N+</td>\n",
       "      <td>AGREEMENT</td>\n",
       "    </tr>\n",
       "    <tr>\n",
       "      <th>4</th>\n",
       "      <td>Conozco a alguien q es adicto al drama! Ja ja ...</td>\n",
       "      <td>P+</td>\n",
       "      <td>AGREEMENT</td>\n",
       "    </tr>\n",
       "  </tbody>\n",
       "</table>\n",
       "</div>"
      ],
      "text/plain": [
       "                                             content polarity     agreement\n",
       "0        Salgo de #VeoTV , que día más largoooooo...     NONE     AGREEMENT\n",
       "1  @PauladeLasHeras No te libraras de ayudar me/n...      NEU  DISAGREEMENT\n",
       "2                          @marodriguezb Gracias MAR        P     AGREEMENT\n",
       "3  Off pensando en el regalito Sinde, la que se v...       N+     AGREEMENT\n",
       "4  Conozco a alguien q es adicto al drama! Ja ja ...       P+     AGREEMENT"
      ]
     },
     "execution_count": 51,
     "metadata": {},
     "output_type": "execute_result"
    }
   ],
   "source": [
    "tass_corpus_train.head(5)"
   ]
  },
  {
   "cell_type": "markdown",
   "metadata": {},
   "source": [
    "Limpiamos el dataset de aquellos tweets en los que no se ha definido la polaridad o en los que no se ha llegado a un acuerdo acerca de ésta."
   ]
  },
  {
   "cell_type": "code",
   "execution_count": 65,
   "metadata": {
    "collapsed": false
   },
   "outputs": [
    {
     "data": {
      "text/plain": [
       "(5013, 3)"
      ]
     },
     "execution_count": 65,
     "metadata": {},
     "output_type": "execute_result"
    }
   ],
   "source": [
    "tass_corpus = tass_corpus_train.copy()\n",
    "tass_corpus = tass_corpus.query('agreement != \"DISAGREEMENT\" and polarity != \"NONE\"')\n",
    "\n",
    "tass_corpus.shape"
   ]
  },
  {
   "cell_type": "markdown",
   "metadata": {},
   "source": [
    "Apartamos algunos tweets para poder probar luego el modelo de clasificación."
   ]
  },
  {
   "cell_type": "code",
   "execution_count": 66,
   "metadata": {
    "collapsed": true
   },
   "outputs": [],
   "source": [
    "# Nos quedamos con el 90% para el modelo\n",
    "tass_corpus_model = tass_corpus[:tass_corpus.shape[0]-500]\n",
    "\n",
    "# Nos quedamos con el 10% para probar el modelo\n",
    "tass_corpus_test = tass_corpus[tass_corpus.shape[0]-500:tass_corpus.shape[0]]"
   ]
  },
  {
   "cell_type": "markdown",
   "metadata": {},
   "source": [
    "#### Tokenize & Stemming"
   ]
  },
  {
   "cell_type": "code",
   "execution_count": 126,
   "metadata": {
    "collapsed": true
   },
   "outputs": [],
   "source": [
    "def stem_tokens(tokens, stemmer):\n",
    "    stemmed = []\n",
    "    for item in tokens:\n",
    "        stemmed.append(stemmer.stem(item))\n",
    "    return stemmed\n",
    "\n",
    "def tokenize(text):\n",
    "    tokens = nltk.word_tokenize(text)\n",
    "    stems = stem_tokens(tokens, stemmer)\n",
    "    return stems"
   ]
  },
  {
   "cell_type": "markdown",
   "metadata": {},
   "source": [
    "Utilizamos un CountVectorizer para sacar el número de palabras para entrenar."
   ]
  },
  {
   "cell_type": "code",
   "execution_count": 152,
   "metadata": {
    "collapsed": false
   },
   "outputs": [
    {
     "name": "stdout",
     "output_type": "stream",
     "text": [
      "CountVectorizer: (4513, 63138)\n",
      "TFID: (4513, 63138)\n"
     ]
    }
   ],
   "source": [
    "# Sin tener en cuenta las stopwords, el modelo consigue un mejor resultado.\n",
    "#spanish_stopwords = stopwords.words('spanish')\n",
    "\n",
    "# Tenemos en cuenta las combinaciones de hasta 3 palabras\n",
    "ngram = range(1,3)\n",
    "\n",
    "# Añadimos los signos de puntuación españoles a las non_words\n",
    "non_words = list(punctuation)\n",
    "non_words.extend(['¿', '¡'])\n",
    "non_words.extend(map(str,range(10)))\n",
    "\n",
    "stemmer = SnowballStemmer('spanish')\n",
    "\n",
    "basicvectorizer = CountVectorizer(ngram_range=ngram, analyzer = 'word', tokenizer = tokenize, lowercase = True)\n",
    "basictrain = basicvectorizer.fit_transform(tass_corpus_model.content)\n",
    "print 'CountVectorizer:', (basictrain.shape)\n",
    "\n",
    "# Pasamos a frecuencias\n",
    "tfidf_transformer = TfidfTransformer()\n",
    "basictrain_tf = tfidf_transformer.fit_transform(basictrain)\n",
    "print 'TFID:', basictrain_tf.shape\n",
    "\n",
    "\n",
    "\n",
    "#basicvectorizer = CountVectorizer(ngram_range=ngram, analyzer = 'word', tokenizer = tokenize, \n",
    "#lowercase = True, min_df = 50, max_df = 1.9, max_features = 1000)"
   ]
  },
  {
   "cell_type": "markdown",
   "metadata": {},
   "source": [
    "Vamos a entrenar con el modelo Naive Bayes."
   ]
  },
  {
   "cell_type": "code",
   "execution_count": 153,
   "metadata": {
    "collapsed": false
   },
   "outputs": [],
   "source": [
    "clf = MultinomialNB().fit(basictrain_tf, tass_corpus_model.polarity)"
   ]
  },
  {
   "cell_type": "markdown",
   "metadata": {},
   "source": [
    "#### Test del modelo"
   ]
  },
  {
   "cell_type": "code",
   "execution_count": 154,
   "metadata": {
    "collapsed": false
   },
   "outputs": [
    {
     "data": {
      "text/plain": [
       "0.39400000000000002"
      ]
     },
     "execution_count": 154,
     "metadata": {},
     "output_type": "execute_result"
    }
   ],
   "source": [
    "basictest = basicvectorizer.transform(tass_corpus_test.content)\n",
    "basictest_tf = tfidf_transformer.transform(basictest)\n",
    "\n",
    "predicted_clf = clf.predict(basictest_tf)\n",
    "np.mean(predicted_clf == tass_corpus_test.polarity)"
   ]
  },
  {
   "cell_type": "markdown",
   "metadata": {},
   "source": [
    "Con el modelo de Naive Bayes únicamente conseguimos un 39.4% de acierto."
   ]
  },
  {
   "cell_type": "markdown",
   "metadata": {},
   "source": [
    "#### Modelo SVM"
   ]
  },
  {
   "cell_type": "markdown",
   "metadata": {},
   "source": [
    "Probamos con un modelo SVM para conseguir un acierto mayor."
   ]
  },
  {
   "cell_type": "code",
   "execution_count": 155,
   "metadata": {
    "collapsed": false
   },
   "outputs": [],
   "source": [
    "from sklearn.linear_model import SGDClassifier\n",
    "\n",
    "# Train\n",
    "sgd = SGDClassifier(loss='hinge', penalty='l2', alpha=1e-3, n_iter=5, \n",
    "                    random_state=42).fit(basictrain_tf, tass_corpus_model.polarity)"
   ]
  },
  {
   "cell_type": "code",
   "execution_count": 156,
   "metadata": {
    "collapsed": false
   },
   "outputs": [
    {
     "data": {
      "text/plain": [
       "0.5"
      ]
     },
     "execution_count": 156,
     "metadata": {},
     "output_type": "execute_result"
    }
   ],
   "source": [
    "# Test\n",
    "predicted_sgd = sgd.predict(basictest_tf)\n",
    "np.mean(predicted_sgd == tass_corpus_test.polarity)"
   ]
  },
  {
   "cell_type": "markdown",
   "metadata": {},
   "source": [
    "Con este modelo conseguimos mejorar bastante el modelo anterior hasta un 50%."
   ]
  },
  {
   "cell_type": "markdown",
   "metadata": {},
   "source": [
    "#### Modelo Linear SVC"
   ]
  },
  {
   "cell_type": "markdown",
   "metadata": {},
   "source": [
    "Probamos un modelo Linear Support Vector Classification para ver cómo responde a los tweets introducidos."
   ]
  },
  {
   "cell_type": "code",
   "execution_count": 157,
   "metadata": {
    "collapsed": true
   },
   "outputs": [],
   "source": [
    "from sklearn.svm import LinearSVC\n",
    "\n",
    "# Train\n",
    "svc = LinearSVC(C=.2, loss='squared_hinge',max_iter=1000,multi_class='ovr', \n",
    "                random_state=None, penalty='l2', tol=0.0001).fit(basictrain_tf, tass_corpus_model.polarity)"
   ]
  },
  {
   "cell_type": "code",
   "execution_count": 158,
   "metadata": {
    "collapsed": false
   },
   "outputs": [
    {
     "data": {
      "text/plain": [
       "0.48399999999999999"
      ]
     },
     "execution_count": 158,
     "metadata": {},
     "output_type": "execute_result"
    }
   ],
   "source": [
    "# Test\n",
    "predicted_svc = svc.predict(basictest_tf)\n",
    "np.mean(predicted_svc == tass_corpus_test.polarity)"
   ]
  },
  {
   "cell_type": "markdown",
   "metadata": {},
   "source": [
    "Con este modelo conseguimos un 48.34% de acierto."
   ]
  },
  {
   "cell_type": "markdown",
   "metadata": {},
   "source": [
    "#### Análisis de sentimiento de los titulares de El País"
   ]
  },
  {
   "cell_type": "markdown",
   "metadata": {},
   "source": [
    "Después de analizar los 3 modelos diferentes, hemos decidido que la mejor opción es el modelo SVM.\n",
    "\n",
    "Una vez tenemos entrenado el modelo, vamos a realizar el análisis de sentimiento de los titulares que hemos sacado de la web de El País."
   ]
  },
  {
   "cell_type": "markdown",
   "metadata": {},
   "source": [
    "__Mes previo a las primeras elecciones__"
   ]
  },
  {
   "cell_type": "code",
   "execution_count": 164,
   "metadata": {
    "collapsed": false
   },
   "outputs": [],
   "source": [
    "tit2015_vect = basicvectorizer.transform(titulares2015_ps.Titular)\n",
    "tit2015_vect_tf = tfidf_transformer.transform(tit2015_vect)\n",
    "\n",
    "tit2015_predicted = sgd.predict(tit2015_vect_tf)"
   ]
  },
  {
   "cell_type": "code",
   "execution_count": 276,
   "metadata": {
    "collapsed": false,
    "scrolled": true
   },
   "outputs": [
    {
     "data": {
      "text/html": [
       "<div>\n",
       "<table border=\"1\" class=\"dataframe\">\n",
       "  <thead>\n",
       "    <tr style=\"text-align: right;\">\n",
       "      <th></th>\n",
       "      <th>Fecha</th>\n",
       "      <th>Titular</th>\n",
       "      <th>Sentimiento</th>\n",
       "    </tr>\n",
       "  </thead>\n",
       "  <tbody>\n",
       "    <tr>\n",
       "      <th>0</th>\n",
       "      <td>2015/12/01</td>\n",
       "      <td>Yihadismo | Iglesias rechaza la coalición de P...</td>\n",
       "      <td>N</td>\n",
       "    </tr>\n",
       "    <tr>\n",
       "      <th>1</th>\n",
       "      <td>2015/12/01</td>\n",
       "      <td>Rajoy solo quiere debatir con Pedro Sánchez pa...</td>\n",
       "      <td>P</td>\n",
       "    </tr>\n",
       "    <tr>\n",
       "      <th>2</th>\n",
       "      <td>2015/12/01</td>\n",
       "      <td>Sánchez, el más mencionado</td>\n",
       "      <td>P+</td>\n",
       "    </tr>\n",
       "    <tr>\n",
       "      <th>3</th>\n",
       "      <td>2015/12/01</td>\n",
       "      <td>Rivera, Sánchez e Iglesias en El País debate</td>\n",
       "      <td>N</td>\n",
       "    </tr>\n",
       "    <tr>\n",
       "      <th>4</th>\n",
       "      <td>2015/12/04</td>\n",
       "      <td>El CIS deja fuera del Congreso a fichajes del ...</td>\n",
       "      <td>N</td>\n",
       "    </tr>\n",
       "  </tbody>\n",
       "</table>\n",
       "</div>"
      ],
      "text/plain": [
       "        Fecha                                            Titular Sentimiento\n",
       "0  2015/12/01  Yihadismo | Iglesias rechaza la coalición de P...           N\n",
       "1  2015/12/01  Rajoy solo quiere debatir con Pedro Sánchez pa...           P\n",
       "2  2015/12/01                         Sánchez, el más mencionado          P+\n",
       "3  2015/12/01       Rivera, Sánchez e Iglesias en El País debate           N\n",
       "4  2015/12/04  El CIS deja fuera del Congreso a fichajes del ...           N"
      ]
     },
     "execution_count": 276,
     "metadata": {},
     "output_type": "execute_result"
    }
   ],
   "source": [
    "tit2015_ps_final = titulares2015_ps.copy()\n",
    "tit2015_ps_final.loc[:,'Sentimiento'] = tit2015_predicted\n",
    "\n",
    "# Hay índices repetidos, por lo que reseteamos los índices y quitamos la columna anterior de indices\n",
    "tit2015_ps_final.reset_index(inplace=True)\n",
    "tit2015_ps_final.pop('index')\n",
    "\n",
    "tit2015_ps_final.head(5)"
   ]
  },
  {
   "cell_type": "markdown",
   "metadata": {},
   "source": [
    "Para representarlo gráficamente vamos a dar valores del -2 al 2 en función del sentimiento (N+, N, NEU, P, P+)."
   ]
  },
  {
   "cell_type": "code",
   "execution_count": 279,
   "metadata": {
    "collapsed": false,
    "scrolled": true
   },
   "outputs": [
    {
     "data": {
      "text/html": [
       "<div>\n",
       "<table border=\"1\" class=\"dataframe\">\n",
       "  <thead>\n",
       "    <tr style=\"text-align: right;\">\n",
       "      <th></th>\n",
       "      <th>Fecha</th>\n",
       "      <th>Titular</th>\n",
       "      <th>Sentimiento</th>\n",
       "      <th>Indice_Sentimiento</th>\n",
       "    </tr>\n",
       "  </thead>\n",
       "  <tbody>\n",
       "    <tr>\n",
       "      <th>0</th>\n",
       "      <td>2015-12-01</td>\n",
       "      <td>Yihadismo | Iglesias rechaza la coalición de P...</td>\n",
       "      <td>N</td>\n",
       "      <td>-1.0</td>\n",
       "    </tr>\n",
       "    <tr>\n",
       "      <th>1</th>\n",
       "      <td>2015-12-01</td>\n",
       "      <td>Rajoy solo quiere debatir con Pedro Sánchez pa...</td>\n",
       "      <td>P</td>\n",
       "      <td>1.0</td>\n",
       "    </tr>\n",
       "    <tr>\n",
       "      <th>2</th>\n",
       "      <td>2015-12-01</td>\n",
       "      <td>Sánchez, el más mencionado</td>\n",
       "      <td>P+</td>\n",
       "      <td>2.0</td>\n",
       "    </tr>\n",
       "    <tr>\n",
       "      <th>3</th>\n",
       "      <td>2015-12-01</td>\n",
       "      <td>Rivera, Sánchez e Iglesias en El País debate</td>\n",
       "      <td>N</td>\n",
       "      <td>-1.0</td>\n",
       "    </tr>\n",
       "    <tr>\n",
       "      <th>4</th>\n",
       "      <td>2015-12-04</td>\n",
       "      <td>El CIS deja fuera del Congreso a fichajes del ...</td>\n",
       "      <td>N</td>\n",
       "      <td>-1.0</td>\n",
       "    </tr>\n",
       "    <tr>\n",
       "      <th>5</th>\n",
       "      <td>2015-12-05</td>\n",
       "      <td>Sánchez ofrece una mayoría con cualquier parti...</td>\n",
       "      <td>P+</td>\n",
       "      <td>2.0</td>\n",
       "    </tr>\n",
       "    <tr>\n",
       "      <th>6</th>\n",
       "      <td>2015-12-05</td>\n",
       "      <td>El PP teme que la caída del PSOE convierta en ...</td>\n",
       "      <td>N</td>\n",
       "      <td>-1.0</td>\n",
       "    </tr>\n",
       "    <tr>\n",
       "      <th>7</th>\n",
       "      <td>2015-12-06</td>\n",
       "      <td>Rajoy: “Sería muy fuerte un pacto PSOE-Ciudada...</td>\n",
       "      <td>P+</td>\n",
       "      <td>2.0</td>\n",
       "    </tr>\n",
       "    <tr>\n",
       "      <th>8</th>\n",
       "      <td>2015-12-07</td>\n",
       "      <td>Sánchez animó a los barones tras el sondeo des...</td>\n",
       "      <td>P+</td>\n",
       "      <td>2.0</td>\n",
       "    </tr>\n",
       "    <tr>\n",
       "      <th>9</th>\n",
       "      <td>2015-12-08</td>\n",
       "      <td>El PP teme a las diversas variantes de un pact...</td>\n",
       "      <td>N</td>\n",
       "      <td>-1.0</td>\n",
       "    </tr>\n",
       "    <tr>\n",
       "      <th>10</th>\n",
       "      <td>2015-12-09</td>\n",
       "      <td>Editorial | Sánchez y Rivera</td>\n",
       "      <td>P+</td>\n",
       "      <td>2.0</td>\n",
       "    </tr>\n",
       "    <tr>\n",
       "      <th>11</th>\n",
       "      <td>2015-12-09</td>\n",
       "      <td>El PSOE promete pactar con Bruselas nuevos Pre...</td>\n",
       "      <td>P+</td>\n",
       "      <td>2.0</td>\n",
       "    </tr>\n",
       "    <tr>\n",
       "      <th>12</th>\n",
       "      <td>2015-12-09</td>\n",
       "      <td>Sánchez y Rivera</td>\n",
       "      <td>P+</td>\n",
       "      <td>2.0</td>\n",
       "    </tr>\n",
       "    <tr>\n",
       "      <th>13</th>\n",
       "      <td>2015-12-12</td>\n",
       "      <td>Ofensiva del PSOE contra la inexperiencia de P...</td>\n",
       "      <td>N</td>\n",
       "      <td>-1.0</td>\n",
       "    </tr>\n",
       "    <tr>\n",
       "      <th>14</th>\n",
       "      <td>2015-12-14</td>\n",
       "      <td>Sánchez se mostrará en el cara a cara como úni...</td>\n",
       "      <td>N</td>\n",
       "      <td>-1.0</td>\n",
       "    </tr>\n",
       "    <tr>\n",
       "      <th>15</th>\n",
       "      <td>2015-12-15</td>\n",
       "      <td>Sánchez acorrala a Rajoy con la corrupción pol...</td>\n",
       "      <td>N+</td>\n",
       "      <td>-2.0</td>\n",
       "    </tr>\n",
       "    <tr>\n",
       "      <th>16</th>\n",
       "      <td>2015-12-15</td>\n",
       "      <td>Sánchez define la legislatura del PP: recortes...</td>\n",
       "      <td>N+</td>\n",
       "      <td>-2.0</td>\n",
       "    </tr>\n",
       "    <tr>\n",
       "      <th>17</th>\n",
       "      <td>2015-12-15</td>\n",
       "      <td>Entrevista a Iglesias | “Si estamos mejor que ...</td>\n",
       "      <td>P+</td>\n",
       "      <td>2.0</td>\n",
       "    </tr>\n",
       "    <tr>\n",
       "      <th>18</th>\n",
       "      <td>2015-12-16</td>\n",
       "      <td>Sánchez: “Puse voz a los españoles que creen q...</td>\n",
       "      <td>N</td>\n",
       "      <td>-1.0</td>\n",
       "    </tr>\n",
       "    <tr>\n",
       "      <th>19</th>\n",
       "      <td>2015-12-16</td>\n",
       "      <td>Barones del PSOE apoyan la táctica de acorrala...</td>\n",
       "      <td>N</td>\n",
       "      <td>-1.0</td>\n",
       "    </tr>\n",
       "    <tr>\n",
       "      <th>20</th>\n",
       "      <td>2015-12-19</td>\n",
       "      <td>Sánchez pide el “voto útil” frente a los “anti...</td>\n",
       "      <td>N</td>\n",
       "      <td>-1.0</td>\n",
       "    </tr>\n",
       "    <tr>\n",
       "      <th>21</th>\n",
       "      <td>2015-12-20</td>\n",
       "      <td>Sánchez, en manos de los indecisos</td>\n",
       "      <td>N+</td>\n",
       "      <td>-2.0</td>\n",
       "    </tr>\n",
       "  </tbody>\n",
       "</table>\n",
       "</div>"
      ],
      "text/plain": [
       "        Fecha                                            Titular Sentimiento  \\\n",
       "0  2015-12-01  Yihadismo | Iglesias rechaza la coalición de P...           N   \n",
       "1  2015-12-01  Rajoy solo quiere debatir con Pedro Sánchez pa...           P   \n",
       "2  2015-12-01                         Sánchez, el más mencionado          P+   \n",
       "3  2015-12-01       Rivera, Sánchez e Iglesias en El País debate           N   \n",
       "4  2015-12-04  El CIS deja fuera del Congreso a fichajes del ...           N   \n",
       "5  2015-12-05  Sánchez ofrece una mayoría con cualquier parti...          P+   \n",
       "6  2015-12-05  El PP teme que la caída del PSOE convierta en ...           N   \n",
       "7  2015-12-06  Rajoy: “Sería muy fuerte un pacto PSOE-Ciudada...          P+   \n",
       "8  2015-12-07  Sánchez animó a los barones tras el sondeo des...          P+   \n",
       "9  2015-12-08  El PP teme a las diversas variantes de un pact...           N   \n",
       "10 2015-12-09                       Editorial | Sánchez y Rivera          P+   \n",
       "11 2015-12-09  El PSOE promete pactar con Bruselas nuevos Pre...          P+   \n",
       "12 2015-12-09                                   Sánchez y Rivera          P+   \n",
       "13 2015-12-12  Ofensiva del PSOE contra la inexperiencia de P...           N   \n",
       "14 2015-12-14  Sánchez se mostrará en el cara a cara como úni...           N   \n",
       "15 2015-12-15  Sánchez acorrala a Rajoy con la corrupción pol...          N+   \n",
       "16 2015-12-15  Sánchez define la legislatura del PP: recortes...          N+   \n",
       "17 2015-12-15  Entrevista a Iglesias | “Si estamos mejor que ...          P+   \n",
       "18 2015-12-16  Sánchez: “Puse voz a los españoles que creen q...           N   \n",
       "19 2015-12-16  Barones del PSOE apoyan la táctica de acorrala...           N   \n",
       "20 2015-12-19  Sánchez pide el “voto útil” frente a los “anti...           N   \n",
       "21 2015-12-20                 Sánchez, en manos de los indecisos          N+   \n",
       "\n",
       "    Indice_Sentimiento  \n",
       "0                 -1.0  \n",
       "1                  1.0  \n",
       "2                  2.0  \n",
       "3                 -1.0  \n",
       "4                 -1.0  \n",
       "5                  2.0  \n",
       "6                 -1.0  \n",
       "7                  2.0  \n",
       "8                  2.0  \n",
       "9                 -1.0  \n",
       "10                 2.0  \n",
       "11                 2.0  \n",
       "12                 2.0  \n",
       "13                -1.0  \n",
       "14                -1.0  \n",
       "15                -2.0  \n",
       "16                -2.0  \n",
       "17                 2.0  \n",
       "18                -1.0  \n",
       "19                -1.0  \n",
       "20                -1.0  \n",
       "21                -2.0  "
      ]
     },
     "execution_count": 279,
     "metadata": {},
     "output_type": "execute_result"
    }
   ],
   "source": [
    "for i in tit2015_ps_final.index:\n",
    "    if tit2015_ps_final.iloc[i]['Sentimiento'] == 'N+':\n",
    "        tit2015_ps_final.loc[i,'Indice_Sentimiento'] = -2\n",
    "    elif tit2015_ps_final.iloc[i]['Sentimiento'] == 'N':\n",
    "        tit2015_ps_final.loc[i,'Indice_Sentimiento'] = -1\n",
    "    elif tit2015_ps_final.iloc[i]['Sentimiento'] == 'NEU':\n",
    "        tit2015_ps_final.loc[i,'Indice_Sentimiento'] = 0\n",
    "    elif tit2015_ps_final.iloc[i]['Sentimiento'] == 'P':\n",
    "        tit2015_ps_final.loc[i,'Indice_Sentimiento'] = 1\n",
    "    elif tit2015_ps_final.iloc[i]['Sentimiento'] == 'P+':\n",
    "        tit2015_ps_final.loc[i,'Indice_Sentimiento'] = 2\n",
    "\n",
    "tit2015_ps_final['Fecha'] = pd.to_datetime(tit2015_ps_final['Fecha'])\n",
    "tit2015_ps_final"
   ]
  },
  {
   "cell_type": "markdown",
   "metadata": {},
   "source": [
    "__Mes previo a la dimisión__"
   ]
  },
  {
   "cell_type": "code",
   "execution_count": 280,
   "metadata": {
    "collapsed": true
   },
   "outputs": [],
   "source": [
    "tit2016_vect = basicvectorizer.transform(titulares2016_ps.Titular)\n",
    "tit2016_vect_tf = tfidf_transformer.transform(tit2016_vect)\n",
    "\n",
    "tit2016_predicted = sgd.predict(tit2016_vect_tf)"
   ]
  },
  {
   "cell_type": "code",
   "execution_count": 281,
   "metadata": {
    "collapsed": false,
    "scrolled": true
   },
   "outputs": [
    {
     "data": {
      "text/html": [
       "<div>\n",
       "<table border=\"1\" class=\"dataframe\">\n",
       "  <thead>\n",
       "    <tr style=\"text-align: right;\">\n",
       "      <th></th>\n",
       "      <th>Fecha</th>\n",
       "      <th>Titular</th>\n",
       "      <th>Sentimiento</th>\n",
       "    </tr>\n",
       "  </thead>\n",
       "  <tbody>\n",
       "    <tr>\n",
       "      <th>0</th>\n",
       "      <td>2016/10/01</td>\n",
       "      <td>El PSOE libra la batalla decisiva en su comité...</td>\n",
       "      <td>NEU</td>\n",
       "    </tr>\n",
       "    <tr>\n",
       "      <th>1</th>\n",
       "      <td>2016/10/01</td>\n",
       "      <td>Las opciones: una gestora o las primarias que ...</td>\n",
       "      <td>N</td>\n",
       "    </tr>\n",
       "    <tr>\n",
       "      <th>2</th>\n",
       "      <td>2016/10/01</td>\n",
       "      <td>Cronología | Las crisis de Pedro Sánchez</td>\n",
       "      <td>N+</td>\n",
       "    </tr>\n",
       "    <tr>\n",
       "      <th>3</th>\n",
       "      <td>2016/10/01</td>\n",
       "      <td>Editorial | Un PSOE con futuro</td>\n",
       "      <td>P+</td>\n",
       "    </tr>\n",
       "    <tr>\n",
       "      <th>4</th>\n",
       "      <td>2016/10/01</td>\n",
       "      <td>Iglesias, a los críticos del PSOE: “Nos necesi...</td>\n",
       "      <td>N</td>\n",
       "    </tr>\n",
       "  </tbody>\n",
       "</table>\n",
       "</div>"
      ],
      "text/plain": [
       "        Fecha                                            Titular Sentimiento\n",
       "0  2016/10/01  El PSOE libra la batalla decisiva en su comité...         NEU\n",
       "1  2016/10/01  Las opciones: una gestora o las primarias que ...           N\n",
       "2  2016/10/01           Cronología | Las crisis de Pedro Sánchez          N+\n",
       "3  2016/10/01                     Editorial | Un PSOE con futuro          P+\n",
       "4  2016/10/01  Iglesias, a los críticos del PSOE: “Nos necesi...           N"
      ]
     },
     "execution_count": 281,
     "metadata": {},
     "output_type": "execute_result"
    }
   ],
   "source": [
    "tit2016_ps_final = titulares2016_ps.copy()\n",
    "tit2016_ps_final.loc[:,'Sentimiento'] = tit2016_predicted\n",
    "\n",
    "# Hay índices repetidos, por lo que reseteamos los índices y quitamos la columna anterior de indices\n",
    "tit2016_ps_final.reset_index(inplace=True)\n",
    "tit2016_ps_final.pop('index')\n",
    "\n",
    "tit2016_ps_final.head(5)"
   ]
  },
  {
   "cell_type": "markdown",
   "metadata": {},
   "source": [
    "Para representarlo gráficamente vamos a dar valores del -2 al 2 en función del sentimiento (N+, N, NEU, P, P+)."
   ]
  },
  {
   "cell_type": "code",
   "execution_count": 282,
   "metadata": {
    "collapsed": false,
    "scrolled": true
   },
   "outputs": [
    {
     "data": {
      "text/html": [
       "<div>\n",
       "<table border=\"1\" class=\"dataframe\">\n",
       "  <thead>\n",
       "    <tr style=\"text-align: right;\">\n",
       "      <th></th>\n",
       "      <th>Fecha</th>\n",
       "      <th>Titular</th>\n",
       "      <th>Sentimiento</th>\n",
       "      <th>Indice_Sentimiento</th>\n",
       "    </tr>\n",
       "  </thead>\n",
       "  <tbody>\n",
       "    <tr>\n",
       "      <th>0</th>\n",
       "      <td>2016-10-01</td>\n",
       "      <td>El PSOE libra la batalla decisiva en su comité...</td>\n",
       "      <td>NEU</td>\n",
       "      <td>0.0</td>\n",
       "    </tr>\n",
       "    <tr>\n",
       "      <th>1</th>\n",
       "      <td>2016-10-01</td>\n",
       "      <td>Las opciones: una gestora o las primarias que ...</td>\n",
       "      <td>N</td>\n",
       "      <td>-1.0</td>\n",
       "    </tr>\n",
       "    <tr>\n",
       "      <th>2</th>\n",
       "      <td>2016-10-01</td>\n",
       "      <td>Cronología | Las crisis de Pedro Sánchez</td>\n",
       "      <td>N+</td>\n",
       "      <td>-2.0</td>\n",
       "    </tr>\n",
       "    <tr>\n",
       "      <th>3</th>\n",
       "      <td>2016-10-01</td>\n",
       "      <td>Editorial | Un PSOE con futuro</td>\n",
       "      <td>P+</td>\n",
       "      <td>2.0</td>\n",
       "    </tr>\n",
       "    <tr>\n",
       "      <th>4</th>\n",
       "      <td>2016-10-01</td>\n",
       "      <td>Iglesias, a los críticos del PSOE: “Nos necesi...</td>\n",
       "      <td>N</td>\n",
       "      <td>-1.0</td>\n",
       "    </tr>\n",
       "    <tr>\n",
       "      <th>5</th>\n",
       "      <td>2016-10-01</td>\n",
       "      <td>El retraso, la hemeroteca y los tuits resucita...</td>\n",
       "      <td>N</td>\n",
       "      <td>-1.0</td>\n",
       "    </tr>\n",
       "    <tr>\n",
       "      <th>6</th>\n",
       "      <td>2016-10-02</td>\n",
       "      <td>Sánchez dimite tras ser derrotado</td>\n",
       "      <td>N</td>\n",
       "      <td>-1.0</td>\n",
       "    </tr>\n",
       "    <tr>\n",
       "      <th>7</th>\n",
       "      <td>2016-10-02</td>\n",
       "      <td>Podemos e IU tratan de aprovechar la crisis de...</td>\n",
       "      <td>N+</td>\n",
       "      <td>-2.0</td>\n",
       "    </tr>\n",
       "    <tr>\n",
       "      <th>8</th>\n",
       "      <td>2016-10-02</td>\n",
       "      <td>El PSOE vota entre intentos de coacción</td>\n",
       "      <td>N</td>\n",
       "      <td>-1.0</td>\n",
       "    </tr>\n",
       "    <tr>\n",
       "      <th>9</th>\n",
       "      <td>2016-10-02</td>\n",
       "      <td>Ferreras llama \"tonto\" a un dirigente del PSOE...</td>\n",
       "      <td>N</td>\n",
       "      <td>-1.0</td>\n",
       "    </tr>\n",
       "    <tr>\n",
       "      <th>10</th>\n",
       "      <td>2016-10-03</td>\n",
       "      <td>La gestora del PSOE se reúne hoy para recompon...</td>\n",
       "      <td>P</td>\n",
       "      <td>1.0</td>\n",
       "    </tr>\n",
       "    <tr>\n",
       "      <th>11</th>\n",
       "      <td>2016-10-03</td>\n",
       "      <td>Rajoy mantiene su oferta de pactos a la espera...</td>\n",
       "      <td>P</td>\n",
       "      <td>1.0</td>\n",
       "    </tr>\n",
       "    <tr>\n",
       "      <th>12</th>\n",
       "      <td>2016-10-04</td>\n",
       "      <td>El PSOE asume que la peor solución son otras e...</td>\n",
       "      <td>N</td>\n",
       "      <td>-1.0</td>\n",
       "    </tr>\n",
       "    <tr>\n",
       "      <th>13</th>\n",
       "      <td>2016-10-04</td>\n",
       "      <td>El Quijote y Sánchez</td>\n",
       "      <td>P+</td>\n",
       "      <td>2.0</td>\n",
       "    </tr>\n",
       "    <tr>\n",
       "      <th>14</th>\n",
       "      <td>2016-10-05</td>\n",
       "      <td>El PSOE, ante el reto de explicar una eventual...</td>\n",
       "      <td>N</td>\n",
       "      <td>-1.0</td>\n",
       "    </tr>\n",
       "    <tr>\n",
       "      <th>15</th>\n",
       "      <td>2016-10-07</td>\n",
       "      <td>El PSOE baraja la ‘abstención mínima’ de estos...</td>\n",
       "      <td>N</td>\n",
       "      <td>-1.0</td>\n",
       "    </tr>\n",
       "    <tr>\n",
       "      <th>16</th>\n",
       "      <td>2016-10-09</td>\n",
       "      <td>La crisis del PSOE impulsa el trasvase de vota...</td>\n",
       "      <td>N+</td>\n",
       "      <td>-2.0</td>\n",
       "    </tr>\n",
       "    <tr>\n",
       "      <th>17</th>\n",
       "      <td>2016-10-09</td>\n",
       "      <td>Podemos opta por la estrategia más radical con...</td>\n",
       "      <td>N</td>\n",
       "      <td>-1.0</td>\n",
       "    </tr>\n",
       "    <tr>\n",
       "      <th>18</th>\n",
       "      <td>2016-10-10</td>\n",
       "      <td>Fernández evita reunir al consejo territorial ...</td>\n",
       "      <td>P</td>\n",
       "      <td>1.0</td>\n",
       "    </tr>\n",
       "    <tr>\n",
       "      <th>19</th>\n",
       "      <td>2016-10-13</td>\n",
       "      <td>El PSC elige a su líder en el momento más crít...</td>\n",
       "      <td>P+</td>\n",
       "      <td>2.0</td>\n",
       "    </tr>\n",
       "    <tr>\n",
       "      <th>20</th>\n",
       "      <td>2016-10-14</td>\n",
       "      <td>La gestora del PSOE avanza con cautela hacia l...</td>\n",
       "      <td>P+</td>\n",
       "      <td>2.0</td>\n",
       "    </tr>\n",
       "    <tr>\n",
       "      <th>21</th>\n",
       "      <td>2016-10-16</td>\n",
       "      <td>La mayoría de votantes del PSOE cree que al pa...</td>\n",
       "      <td>P</td>\n",
       "      <td>1.0</td>\n",
       "    </tr>\n",
       "    <tr>\n",
       "      <th>22</th>\n",
       "      <td>2016-10-17</td>\n",
       "      <td>Iceta: “El PSOE no podrá votar el Presupuesto ...</td>\n",
       "      <td>N</td>\n",
       "      <td>-1.0</td>\n",
       "    </tr>\n",
       "    <tr>\n",
       "      <th>23</th>\n",
       "      <td>2016-10-19</td>\n",
       "      <td>El PSOE comienza a unir fuerzas para reconstru...</td>\n",
       "      <td>P</td>\n",
       "      <td>1.0</td>\n",
       "    </tr>\n",
       "    <tr>\n",
       "      <th>24</th>\n",
       "      <td>2016-10-19</td>\n",
       "      <td>Tania Sánchez: “Sería un error que Podemos se ...</td>\n",
       "      <td>N</td>\n",
       "      <td>-1.0</td>\n",
       "    </tr>\n",
       "    <tr>\n",
       "      <th>25</th>\n",
       "      <td>2016-10-20</td>\n",
       "      <td>El PSOE y su desgarro</td>\n",
       "      <td>P+</td>\n",
       "      <td>2.0</td>\n",
       "    </tr>\n",
       "    <tr>\n",
       "      <th>26</th>\n",
       "      <td>2016-10-22</td>\n",
       "      <td>Luz Sánchez-Mellado, en el Facebook Live de EL...</td>\n",
       "      <td>P</td>\n",
       "      <td>1.0</td>\n",
       "    </tr>\n",
       "    <tr>\n",
       "      <th>27</th>\n",
       "      <td>2016-10-23</td>\n",
       "      <td>El Comité Federal del PSOE afronta el debate d...</td>\n",
       "      <td>N</td>\n",
       "      <td>-1.0</td>\n",
       "    </tr>\n",
       "    <tr>\n",
       "      <th>28</th>\n",
       "      <td>2016-10-23</td>\n",
       "      <td>Los socialistas catalanes se rebelan contra el...</td>\n",
       "      <td>N</td>\n",
       "      <td>-1.0</td>\n",
       "    </tr>\n",
       "    <tr>\n",
       "      <th>29</th>\n",
       "      <td>2016-10-24</td>\n",
       "      <td>La decisión del PSOE marca los próximos pasos ...</td>\n",
       "      <td>N</td>\n",
       "      <td>-1.0</td>\n",
       "    </tr>\n",
       "    <tr>\n",
       "      <th>30</th>\n",
       "      <td>2016-10-24</td>\n",
       "      <td>PSOE: cicatrización o gangrena</td>\n",
       "      <td>N</td>\n",
       "      <td>-1.0</td>\n",
       "    </tr>\n",
       "    <tr>\n",
       "      <th>31</th>\n",
       "      <td>2016-10-25</td>\n",
       "      <td>Los audios del PSOE: “¡Cuánto tiempo gastado e...</td>\n",
       "      <td>N+</td>\n",
       "      <td>-2.0</td>\n",
       "    </tr>\n",
       "    <tr>\n",
       "      <th>32</th>\n",
       "      <td>2016-10-25</td>\n",
       "      <td>L’amenaça del PSOE al PSC</td>\n",
       "      <td>N+</td>\n",
       "      <td>-2.0</td>\n",
       "    </tr>\n",
       "    <tr>\n",
       "      <th>33</th>\n",
       "      <td>2016-10-26</td>\n",
       "      <td>Iceta: “El problema del PSOE es España, es Raj...</td>\n",
       "      <td>N</td>\n",
       "      <td>-1.0</td>\n",
       "    </tr>\n",
       "    <tr>\n",
       "      <th>34</th>\n",
       "      <td>2016-10-27</td>\n",
       "      <td>Pedro Sánchez mantiene la duda sobre su plan p...</td>\n",
       "      <td>P+</td>\n",
       "      <td>2.0</td>\n",
       "    </tr>\n",
       "    <tr>\n",
       "      <th>35</th>\n",
       "      <td>2016-10-27</td>\n",
       "      <td>Palabra de Rajoy, palabra de Sánchez</td>\n",
       "      <td>N+</td>\n",
       "      <td>-2.0</td>\n",
       "    </tr>\n",
       "    <tr>\n",
       "      <th>36</th>\n",
       "      <td>2016-10-27</td>\n",
       "      <td>La 'cobra' de Hernando a Sánchez roba el prota...</td>\n",
       "      <td>N</td>\n",
       "      <td>-1.0</td>\n",
       "    </tr>\n",
       "    <tr>\n",
       "      <th>37</th>\n",
       "      <td>2016-10-29</td>\n",
       "      <td>Rajoy será elegido hoy presidente con la abste...</td>\n",
       "      <td>P+</td>\n",
       "      <td>2.0</td>\n",
       "    </tr>\n",
       "    <tr>\n",
       "      <th>38</th>\n",
       "      <td>2016-10-29</td>\n",
       "      <td>Pedro Sánchez anunciará antes del pleno sus pl...</td>\n",
       "      <td>N</td>\n",
       "      <td>-1.0</td>\n",
       "    </tr>\n",
       "  </tbody>\n",
       "</table>\n",
       "</div>"
      ],
      "text/plain": [
       "        Fecha                                            Titular Sentimiento  \\\n",
       "0  2016-10-01  El PSOE libra la batalla decisiva en su comité...         NEU   \n",
       "1  2016-10-01  Las opciones: una gestora o las primarias que ...           N   \n",
       "2  2016-10-01           Cronología | Las crisis de Pedro Sánchez          N+   \n",
       "3  2016-10-01                     Editorial | Un PSOE con futuro          P+   \n",
       "4  2016-10-01  Iglesias, a los críticos del PSOE: “Nos necesi...           N   \n",
       "5  2016-10-01  El retraso, la hemeroteca y los tuits resucita...           N   \n",
       "6  2016-10-02                  Sánchez dimite tras ser derrotado           N   \n",
       "7  2016-10-02  Podemos e IU tratan de aprovechar la crisis de...          N+   \n",
       "8  2016-10-02            El PSOE vota entre intentos de coacción           N   \n",
       "9  2016-10-02  Ferreras llama \"tonto\" a un dirigente del PSOE...           N   \n",
       "10 2016-10-03  La gestora del PSOE se reúne hoy para recompon...           P   \n",
       "11 2016-10-03  Rajoy mantiene su oferta de pactos a la espera...           P   \n",
       "12 2016-10-04  El PSOE asume que la peor solución son otras e...           N   \n",
       "13 2016-10-04                               El Quijote y Sánchez          P+   \n",
       "14 2016-10-05  El PSOE, ante el reto de explicar una eventual...           N   \n",
       "15 2016-10-07  El PSOE baraja la ‘abstención mínima’ de estos...           N   \n",
       "16 2016-10-09  La crisis del PSOE impulsa el trasvase de vota...          N+   \n",
       "17 2016-10-09  Podemos opta por la estrategia más radical con...           N   \n",
       "18 2016-10-10  Fernández evita reunir al consejo territorial ...           P   \n",
       "19 2016-10-13  El PSC elige a su líder en el momento más crít...          P+   \n",
       "20 2016-10-14  La gestora del PSOE avanza con cautela hacia l...          P+   \n",
       "21 2016-10-16  La mayoría de votantes del PSOE cree que al pa...           P   \n",
       "22 2016-10-17  Iceta: “El PSOE no podrá votar el Presupuesto ...           N   \n",
       "23 2016-10-19  El PSOE comienza a unir fuerzas para reconstru...           P   \n",
       "24 2016-10-19  Tania Sánchez: “Sería un error que Podemos se ...           N   \n",
       "25 2016-10-20                              El PSOE y su desgarro          P+   \n",
       "26 2016-10-22  Luz Sánchez-Mellado, en el Facebook Live de EL...           P   \n",
       "27 2016-10-23  El Comité Federal del PSOE afronta el debate d...           N   \n",
       "28 2016-10-23  Los socialistas catalanes se rebelan contra el...           N   \n",
       "29 2016-10-24  La decisión del PSOE marca los próximos pasos ...           N   \n",
       "30 2016-10-24                     PSOE: cicatrización o gangrena           N   \n",
       "31 2016-10-25  Los audios del PSOE: “¡Cuánto tiempo gastado e...          N+   \n",
       "32 2016-10-25                          L’amenaça del PSOE al PSC          N+   \n",
       "33 2016-10-26  Iceta: “El problema del PSOE es España, es Raj...           N   \n",
       "34 2016-10-27  Pedro Sánchez mantiene la duda sobre su plan p...          P+   \n",
       "35 2016-10-27               Palabra de Rajoy, palabra de Sánchez          N+   \n",
       "36 2016-10-27  La 'cobra' de Hernando a Sánchez roba el prota...           N   \n",
       "37 2016-10-29  Rajoy será elegido hoy presidente con la abste...          P+   \n",
       "38 2016-10-29  Pedro Sánchez anunciará antes del pleno sus pl...           N   \n",
       "\n",
       "    Indice_Sentimiento  \n",
       "0                  0.0  \n",
       "1                 -1.0  \n",
       "2                 -2.0  \n",
       "3                  2.0  \n",
       "4                 -1.0  \n",
       "5                 -1.0  \n",
       "6                 -1.0  \n",
       "7                 -2.0  \n",
       "8                 -1.0  \n",
       "9                 -1.0  \n",
       "10                 1.0  \n",
       "11                 1.0  \n",
       "12                -1.0  \n",
       "13                 2.0  \n",
       "14                -1.0  \n",
       "15                -1.0  \n",
       "16                -2.0  \n",
       "17                -1.0  \n",
       "18                 1.0  \n",
       "19                 2.0  \n",
       "20                 2.0  \n",
       "21                 1.0  \n",
       "22                -1.0  \n",
       "23                 1.0  \n",
       "24                -1.0  \n",
       "25                 2.0  \n",
       "26                 1.0  \n",
       "27                -1.0  \n",
       "28                -1.0  \n",
       "29                -1.0  \n",
       "30                -1.0  \n",
       "31                -2.0  \n",
       "32                -2.0  \n",
       "33                -1.0  \n",
       "34                 2.0  \n",
       "35                -2.0  \n",
       "36                -1.0  \n",
       "37                 2.0  \n",
       "38                -1.0  "
      ]
     },
     "execution_count": 282,
     "metadata": {},
     "output_type": "execute_result"
    }
   ],
   "source": [
    "for i in tit2016_ps_final.index:\n",
    "    if tit2016_ps_final.iloc[i]['Sentimiento'] == 'N+':\n",
    "        tit2016_ps_final.loc[i,'Indice_Sentimiento'] = -2\n",
    "    elif tit2016_ps_final.iloc[i]['Sentimiento'] == 'N':\n",
    "        tit2016_ps_final.loc[i,'Indice_Sentimiento'] = -1\n",
    "    elif tit2016_ps_final.iloc[i]['Sentimiento'] == 'NEU':\n",
    "        tit2016_ps_final.loc[i,'Indice_Sentimiento'] = 0\n",
    "    elif tit2016_ps_final.iloc[i]['Sentimiento'] == 'P':\n",
    "        tit2016_ps_final.loc[i,'Indice_Sentimiento'] = 1\n",
    "    elif tit2016_ps_final.iloc[i]['Sentimiento'] == 'P+':\n",
    "        tit2016_ps_final.loc[i,'Indice_Sentimiento'] = 2\n",
    "\n",
    "tit2016_ps_final['Fecha'] = pd.to_datetime(tit2016_ps_final['Fecha'])\n",
    "tit2016_ps_final"
   ]
  },
  {
   "cell_type": "markdown",
   "metadata": {},
   "source": [
    "#### Gráfica de sentimiento"
   ]
  },
  {
   "cell_type": "markdown",
   "metadata": {},
   "source": [
    "Agrupamos el índice de sentimiento que hemos creado por fecha, de forma que las noticias positivas puedan compensar las negativas en un mismo día y, así, darnos una idea de la posición del periódico diariamente."
   ]
  },
  {
   "cell_type": "code",
   "execution_count": 289,
   "metadata": {
    "collapsed": false
   },
   "outputs": [
    {
     "data": {
      "image/png": "[encoded data removed]",
      "text/plain": [
       "<matplotlib.figure.Figure at 0x7f7293b3c890>"
      ]
     },
     "metadata": {},
     "output_type": "display_data"
    }
   ],
   "source": [
    "# Ponemos la fecha como índice:\n",
    "tit2015_ps_final_plot = tit2015_ps_final.groupby(['Fecha'])['Indice_Sentimiento'].sum()\n",
    "tit2015_ps_final_plot = pd.DataFrame(tit2015_ps_final_plot)\n",
    "tit2015_ps_final_plot.head(5)\n",
    "\n",
    "tit2016_ps_final_plot = tit2016_ps_final.groupby(['Fecha'])['Indice_Sentimiento'].sum()\n",
    "tit2016_ps_final_plot = pd.DataFrame(tit2016_ps_final_plot)\n",
    "tit2016_ps_final_plot.head(5)\n",
    "\n",
    "# Ploteamos los resultados\n",
    "plt.figure(figsize=(20,10))\n",
    "plt.subplot(121)\n",
    "plt.xlabel('Fecha')\n",
    "plt.ylabel('Nivel de sentimiento')\n",
    "ylim([-6,6])\n",
    "plt.title('Mes primeras elecciones (2015)')\n",
    "plt.plot(tit2015_ps_final_plot['Indice_Sentimiento'])\n",
    "\n",
    "plt.subplot(122)\n",
    "plt.title('Mes dimision (2016)')\n",
    "plt.xlabel('Fecha')\n",
    "plt.ylabel('Nivel de sentimiento')\n",
    "ylim([-6,6])\n",
    "plt.plot(tit2016_ps_final_plot['Indice_Sentimiento'])\n",
    "\n",
    "plt.show()"
   ]
  },
  {
   "cell_type": "code",
   "execution_count": 292,
   "metadata": {
    "collapsed": false
   },
   "outputs": [
    {
     "name": "stdout",
     "output_type": "stream",
     "text": [
      "Media del índice de sentimiento en diciembre 2015: 0.0769230769231\n",
      "Media del índice de sentimiento en octubre 2016: -0.52380952381\n"
     ]
    }
   ],
   "source": [
    "print 'Media del índice de sentimiento en diciembre 2015:', np.mean(tit2015_ps_final_plot['Indice_Sentimiento'])\n",
    "print 'Media del índice de sentimiento en octubre 2016:', np.mean(tit2016_ps_final_plot['Indice_Sentimiento'])"
   ]
  },
  {
   "cell_type": "markdown",
   "metadata": {},
   "source": [
    "#### Conclusión"
   ]
  },
  {
   "cell_type": "markdown",
   "metadata": {},
   "source": [
    "En las gráficas finales podemos apreciar cómo, antes de las primeras elecciones (celebradas en diciembre de 2015), los titulares que aparecían en El País eran más benévolos con Pedro Sánchez de lo que lo fueron el mes anterior a su dimisión como secretario general."
   ]
  },
  {
   "cell_type": "markdown",
   "metadata": {},
   "source": [
    "Esto se aprecia mejor en la media del análisis de sentimiento realizado en los 2 períodos. En las primeras elecciones, las noticias positivas y negativas entorno a Pedro Sánchez y el PSOE se compensaban, quedando un sesgo casi neutral. Sin embargo, en el mes de octubre de 2016, eran más los titulares negativos aparecidos en El País, posicionándose en contra de Pedro Sánchez y el PSOE."
   ]
  },
  {
   "cell_type": "markdown",
   "metadata": {},
   "source": [
    "__Nota: debemos tener en cuenta que el modelo de predicción no es fiable al 100% y que el corpus está compuesto de tweets que no son exactamente lo mismo que un titular de un periódico__"
   ]
  }
 ],
 "metadata": {
  "kernelspec": {
   "display_name": "Python 2",
   "language": "python",
   "name": "python2"
  },
  "language_info": {
   "codemirror_mode": {
    "name": "ipython",
    "version": 2
   },
   "file_extension": ".py",
   "mimetype": "text/x-python",
   "name": "python",
   "nbconvert_exporter": "python",
   "pygments_lexer": "ipython2",
   "version": "2.7.11"
  }
 },
 "nbformat": 4,
 "nbformat_minor": 0
}

{
 "cells": [
  {
   "cell_type": "markdown",
   "metadata": {
    "collapsed": true
   },
   "source": [
    "## Paso 0: Preparación del entorno"
   ]
  },
  {
   "cell_type": "markdown",
   "metadata": {},
   "source": [
    "#### Importar librerías"
   ]
  },
  {
   "cell_type": "code",
   "execution_count": 21,
   "metadata": {
    "collapsed": true
   },
   "outputs": [],
   "source": [
    "#print \"IMPORTING LIBRARIES...\"\n",
    "import pandas as pd\n",
    "import numpy as np\n",
    "import math\n",
    "import statsmodels.api as sm\n",
    "import matplotlib.pyplot as plt\n",
    "import re\n",
    "import requests\n",
    "from scipy import stats\n",
    "from requests.auth import HTTPBasicAuth\n",
    "\n",
    "%matplotlib inline"
   ]
  },
  {
   "cell_type": "code",
   "execution_count": 22,
   "metadata": {
    "collapsed": true
   },
   "outputs": [],
   "source": [
    "from sklearn import tree\n",
    "from sklearn.tree import DecisionTreeClassifier\n",
    "from sklearn.ensemble import RandomForestClassifier\n",
    "from sklearn.linear_model import LogisticRegression\n",
    "from sklearn.ensemble import AdaBoostClassifier"
   ]
  },
  {
   "cell_type": "markdown",
   "metadata": {},
   "source": [
    "#### Descargar ficheros"
   ]
  },
  {
   "cell_type": "code",
   "execution_count": 23,
   "metadata": {
    "collapsed": false
   },
   "outputs": [],
   "source": [
    "#DOWLOADING FILE FROM DROPBOX FIRST TIME\n",
    "import urllib2\n",
    "import os.path\n",
    "import time\n",
    "import random\n",
    "\n",
    "while not os.path.exists('dev.csv') or not os.path.exists('oot0.csv'):\n",
    "    time.sleep (3*random.random()); #Sleeping less than 3 seconds before going to Dropbox - avoid too many students at once.\n",
    "    if not os.path.exists('dev.csv'):\n",
    "        print \"DOWLOADING FILE dev.csv FROM DROPBOX BECAUSE LOCAL FILE DOES NOT EXIST!\"\n",
    "        csvfile = urllib2.urlopen(\"https://dl.dropboxusercontent.com/u/28535341/dev.csv\")\n",
    "        output = open('dev.csv','wb')\n",
    "        output.write(csvfile.read())\n",
    "        output.close()\n",
    "    if not os.path.exists('oot0.csv'):\n",
    "        print \"DOWLOADING FILE oot0.csv FROM DROPBOX BECAUSE LOCAL FILE DOES NOT EXIST!\"\n",
    "        csvfile = urllib2.urlopen(\"https://dl.dropboxusercontent.com/u/28535341/oot0.csv\")\n",
    "        output = open('oot0.csv','wb')\n",
    "        output.write(csvfile.read())\n",
    "        output.close()  \n",
    "#DOWLOADING FILE FROM DROPBOX FIRST TIME"
   ]
  },
  {
   "cell_type": "markdown",
   "metadata": {},
   "source": [
    "#### Cargar ficheros"
   ]
  },
  {
   "cell_type": "code",
   "execution_count": 29,
   "metadata": {
    "collapsed": false
   },
   "outputs": [
    {
     "name": "stdout",
     "output_type": "stream",
     "text": [
      "LOADING DATASETS...\n"
     ]
    }
   ],
   "source": [
    "print \"LOADING DATASETS...\"\n",
    "df = pd.read_csv(\"../dev.csv\") #DEV-SAMPLE\n",
    "dfo = pd.read_csv(\"../oot0.csv\") #OUT-OF-TIME SAMPLE"
   ]
  },
  {
   "cell_type": "code",
   "execution_count": null,
   "metadata": {
    "collapsed": false
   },
   "outputs": [],
   "source": [
    "df.describe()"
   ]
  },
  {
   "cell_type": "code",
   "execution_count": null,
   "metadata": {
    "collapsed": false
   },
   "outputs": [],
   "source": [
    "dfo.describe()"
   ]
  },
  {
   "cell_type": "markdown",
   "metadata": {},
   "source": [
    "#### Identificar tipos de datos"
   ]
  },
  {
   "cell_type": "code",
   "execution_count": 30,
   "metadata": {
    "collapsed": false
   },
   "outputs": [
    {
     "name": "stdout",
     "output_type": "stream",
     "text": [
      "IDENTIFYING TYPES...\n",
      "ERROR: unable to identify the type of: id\n"
     ]
    }
   ],
   "source": [
    "print \"IDENTIFYING TYPES...\"\n",
    "in_model = []\n",
    "list_ib = set()  #input binary\n",
    "list_icn = set() #input categorical nominal\n",
    "list_ico = set() #input categorical ordinal\n",
    "list_if = set()  #input numerical continuos (input float)\n",
    "list_inputs = set()\n",
    "output_var = 'ob_target' # result used later\n",
    "for var_name in df.columns:\n",
    "    if re.search('^i',var_name) and var_name<>'id':\n",
    "        list_inputs.add(var_name)\n",
    "        #print var_name,\"is input\"   \n",
    "    if re.search('^ib_',var_name):\n",
    "        list_ib.add(var_name)\n",
    "        #print var_name,\"is input binary\"\n",
    "    elif re.search('^icn_',var_name):\n",
    "        list_icn.add(var_name)\n",
    "        #print var_name,\"is input categorical nominal\"\n",
    "    elif re.search('^ico_',var_name):\n",
    "        list_ico.add(var_name)\n",
    "        #print var_name,\"is input categorical ordinal\"\n",
    "    elif re.search('^if_',var_name):\n",
    "        list_if.add(var_name)\n",
    "        #print var_name,\"is input numerical continuos (input float)\"\n",
    "    elif re.search('^ob_',var_name):\n",
    "        output_var = var_name\n",
    "    else:\n",
    "        print \"ERROR: unable to identify the type of:\", var_name"
   ]
  },
  {
   "cell_type": "markdown",
   "metadata": {},
   "source": [
    "## Paso 1: Transformaciones"
   ]
  },
  {
   "cell_type": "code",
   "execution_count": 26,
   "metadata": {
    "collapsed": false
   },
   "outputs": [
    {
     "name": "stdout",
     "output_type": "stream",
     "text": [
      "STEP 1: DOING MY TRANSFORMATIONS...\n"
     ]
    }
   ],
   "source": [
    "print \"STEP 1: DOING MY TRANSFORMATIONS...\"\n"
   ]
  },
  {
   "cell_type": "markdown",
   "metadata": {},
   "source": [
    "#### Transforming NaN values"
   ]
  },
  {
   "cell_type": "code",
   "execution_count": 31,
   "metadata": {
    "collapsed": false
   },
   "outputs": [
    {
     "data": {
      "text/plain": [
       "Index([u'ico_var_33', u'ico_var_37', u'ib_var_21', u'ib_var_20', u'ib_var_18',\n",
       "       u'ib_var_19', u'ib_var_15', u'ib_var_16', u'ib_var_17', u'ico_var_26',\n",
       "       u'if_var_78', u'icn_var_22', u'icn_var_24'],\n",
       "      dtype='object')"
      ]
     },
     "execution_count": 31,
     "metadata": {},
     "output_type": "execute_result"
    }
   ],
   "source": [
    "def variablesNaN(data, features):\n",
    "    result = pd.DataFrame(index = ['NaN'], columns = features)\n",
    "    for var_name in features:\n",
    "        if data[var_name].isnull().any() == True:\n",
    "            result[var_name] = True\n",
    "    \n",
    "    return result\n",
    "\n",
    "# Dev\n",
    "df_nan = variablesNaN(df, list_inputs)\n",
    "df_nan.dropna(axis=1).columns\n",
    "\n",
    "# OoT\n",
    "dfo_nan = variablesNaN(dfo, list_inputs)\n",
    "dfo_nan = dfo_nan.dropna(axis=1).columns\n",
    "dfo_nan"
   ]
  },
  {
   "cell_type": "code",
   "execution_count": 32,
   "metadata": {
    "collapsed": true
   },
   "outputs": [],
   "source": [
    "for var in list_inputs:\n",
    "    if dfo[var].isnull().any() == True:\n",
    "        if var in list_ib:\n",
    "            #dfo['ib_var_18'].median()\n",
    "            #mode_var = stats.mode(dfo[var])\n",
    "            #dfo[var] = dfo[var].fillna(mode_var[0].item(0))\n",
    "            dfo[var] = dfo[var].fillna(-1)\n",
    "        if var in list_ico:\n",
    "            dfo[var] = dfo[var].fillna(dfo[var].median())\n",
    "        if var in list_icn:\n",
    "            dfo[var] = dfo[var].fillna(dfo[var].median())\n",
    "        if var in list_if:\n",
    "            mode_var = stats.mode(dfo[var])\n",
    "            dfo[var] = dfo[var].fillna(mode_var[0].item(0))\n",
    "            #dfo[var] = dfo[var].fillna(dfo[var].median())\n",
    "        "
   ]
  },
  {
   "cell_type": "code",
   "execution_count": null,
   "metadata": {
    "collapsed": false
   },
   "outputs": [],
   "source": [
    "# VARIABLES NUMERICAS\n",
    "np.isnan(dfo[\"if_var_78\"]).unique()\n",
    "dfo[\"if_var_78\"] = dfo[\"if_var_78\"].fillna(dfo[\"if_var_78\"].mean())\n",
    "\n",
    "# VARIABLES CATEGORICAS\n",
    "np.isnan(dfo['ico_var_33']).unique()\n",
    "dfo['ico_var_33'] = dfo['ico_var_33'].fillna(dfo['ico_var_33'].median())\n",
    "#mode_var33 = stats.mode(dfo['ico_var_33'])\n",
    "#dfo['ico_var_33'] = dfo['ico_var_33'].fillna(mode_var33[0].item(0))\n",
    "#dfo['ico_var_33'] = dfo['ico_var_33'].fillna(dfo['ico_var_33'].max())\n",
    "\n",
    "np.isnan(dfo['ico_var_26']).unique()\n",
    "dfo['ico_var_26'] = dfo['ico_var_26'].fillna(dfo['ico_var_26'].median())\n",
    "\n",
    "np.isnan(dfo['ico_var_37']).unique()\n",
    "dfo['ico_var_37'] = dfo['ico_var_37'].fillna(dfo['ico_var_37'].median())\n",
    "\n",
    "np.isnan(dfo['icn_var_22']).unique()\n",
    "dfo['icn_var_22'] = dfo['icn_var_22'].fillna(dfo['icn_var_22'].median())\n",
    "\n",
    "np.isnan(dfo['icn_var_24']).unique()\n",
    "dfo['icn_var_24'] = dfo['icn_var_24'].fillna(dfo['icn_var_24'].median())\n",
    "\n",
    "# VARIABLES BINARIAS\n",
    "np.isnan(dfo['ib_var_20']).unique()\n",
    "#dfo['ib_var_20'].median()\n",
    "mode_var20 = stats.mode(dfo['ib_var_20'])\n",
    "dfo['ib_var_20'] = dfo['ib_var_20'].fillna(mode_var20[0].item(0))\n",
    "\n",
    "np.isnan(dfo['ib_var_19']).unique()\n",
    "#dfo['ib_var_19'].median()\n",
    "mode_var19 = stats.mode(dfo['ib_var_19'])\n",
    "dfo['ib_var_19'] = dfo['ib_var_19'].fillna(mode_var19[0].item(0))\n",
    "\n",
    "np.isnan(dfo['ib_var_16']).unique()\n",
    "#dfo['ib_var_16'].median()\n",
    "mode_var16 = stats.mode(dfo['ib_var_16'])\n",
    "dfo['ib_var_16'] = dfo['ib_var_16'].fillna(mode_var16[0].item(0))"
   ]
  },
  {
   "cell_type": "markdown",
   "metadata": {},
   "source": [
    "## Paso 2: Selección de variables"
   ]
  },
  {
   "cell_type": "markdown",
   "metadata": {},
   "source": [
    "#### WoE and Information Value"
   ]
  },
  {
   "cell_type": "markdown",
   "metadata": {},
   "source": [
    "|Information Value|\tPredictive Power|\n",
    "| ---------- | ---------- |\n",
    "|< 0.02|\tuseless for prediction|\n",
    "|0.02 to 0.1|\tWeak predictor|\n",
    "|0.1 to 0.3|\tMedium predictor|\n",
    "|0.3 to 0.5|\tStrong predictor|\n",
    " |>0.5|\tSuspicious or too good to be true|"
   ]
  },
  {
   "cell_type": "code",
   "execution_count": 33,
   "metadata": {
    "collapsed": false
   },
   "outputs": [
    {
     "data": {
      "image/png": "[encoded data removed]",
      "text/plain": [
       "<matplotlib.figure.Figure at 0x7f26cfc23a10>"
      ]
     },
     "metadata": {},
     "output_type": "display_data"
    },
    {
     "data": {
      "text/html": [
       "<div>\n",
       "<table border=\"1\" class=\"dataframe\">\n",
       "  <thead>\n",
       "    <tr style=\"text-align: right;\">\n",
       "      <th></th>\n",
       "      <th>if_var_70</th>\n",
       "      <th>if_var_81</th>\n",
       "      <th>if_var_73</th>\n",
       "      <th>ico_var_33</th>\n",
       "      <th>if_var_71</th>\n",
       "      <th>ico_var_37</th>\n",
       "      <th>ico_var_36</th>\n",
       "      <th>ico_var_35</th>\n",
       "      <th>ico_var_34</th>\n",
       "      <th>ib_var_20</th>\n",
       "      <th>...</th>\n",
       "      <th>ib_var_8</th>\n",
       "      <th>ib_var_5</th>\n",
       "      <th>ib_var_2</th>\n",
       "      <th>if_var_65</th>\n",
       "      <th>ib_var_1</th>\n",
       "      <th>ico_var_59</th>\n",
       "      <th>if_var_69</th>\n",
       "      <th>icn_var_22</th>\n",
       "      <th>ico_var_48</th>\n",
       "      <th>icn_var_24</th>\n",
       "    </tr>\n",
       "  </thead>\n",
       "  <tbody>\n",
       "    <tr>\n",
       "      <th>IV</th>\n",
       "      <td>0.035218</td>\n",
       "      <td>0.046819</td>\n",
       "      <td>0.270286</td>\n",
       "      <td>0.158278</td>\n",
       "      <td>0.078671</td>\n",
       "      <td>0.041395</td>\n",
       "      <td>0.196236</td>\n",
       "      <td>0.146473</td>\n",
       "      <td>0.11338</td>\n",
       "      <td>0.053014</td>\n",
       "      <td>...</td>\n",
       "      <td>0.024402</td>\n",
       "      <td>0.051462</td>\n",
       "      <td>0.023865</td>\n",
       "      <td>0.445769</td>\n",
       "      <td>0.028604</td>\n",
       "      <td>0.051911</td>\n",
       "      <td>0.371181</td>\n",
       "      <td>0.031246</td>\n",
       "      <td>0.030484</td>\n",
       "      <td>0.022375</td>\n",
       "    </tr>\n",
       "  </tbody>\n",
       "</table>\n",
       "<p>1 rows × 52 columns</p>\n",
       "</div>"
      ],
      "text/plain": [
       "    if_var_70  if_var_81  if_var_73  ico_var_33  if_var_71  ico_var_37  \\\n",
       "IV   0.035218   0.046819   0.270286    0.158278   0.078671    0.041395   \n",
       "\n",
       "    ico_var_36  ico_var_35  ico_var_34  ib_var_20     ...      ib_var_8  \\\n",
       "IV    0.196236    0.146473     0.11338   0.053014     ...      0.024402   \n",
       "\n",
       "    ib_var_5  ib_var_2  if_var_65  ib_var_1  ico_var_59  if_var_69  \\\n",
       "IV  0.051462  0.023865   0.445769  0.028604    0.051911   0.371181   \n",
       "\n",
       "    icn_var_22  ico_var_48  icn_var_24  \n",
       "IV    0.031246    0.030484    0.022375  \n",
       "\n",
       "[1 rows x 52 columns]"
      ]
     },
     "execution_count": 33,
     "metadata": {},
     "output_type": "execute_result"
    }
   ],
   "source": [
    "def calculateIV(data, cols, out_var):\n",
    "    features = list(cols)\n",
    "    result_iv = pd.DataFrame(index = ['IV'], columns = features)\n",
    "       \n",
    "    for var_name in cols:\n",
    "        biv = pd.crosstab(data[var_name],data[out_var])\n",
    "        a= 0.01 # to avoid division by zero\n",
    "        WoE = np.log((1.0*biv[0]/sum(biv[0])+a) / (1.0*biv[1]/sum(biv[1])+a))\n",
    "        #print WoE\n",
    "        IV = sum(((1.0*biv[0]/sum(biv[0])+a) - (1.0*biv[1]/sum(biv[1])+a))*np.log((1.0*biv[0]/sum(biv[0])+a) / (1.0*biv[1]/sum(biv[1])+a)))\n",
    "        result_iv[var_name] = IV\n",
    "\n",
    "    return result_iv\n",
    "\n",
    "df_iv = calculateIV(df, list_inputs, output_var)\n",
    "df_var = df_iv[(df_iv>=0.02)].dropna(axis=1)\n",
    "\n",
    "\n",
    "# Plot the feature importances of the forest\n",
    "plt.figure(figsize=(10,10))\n",
    "plt.title(\"WoE\")\n",
    "plt.hist(df['if_var_80'])\n",
    "plt.show()\n",
    "\n",
    "df_var"
   ]
  },
  {
   "cell_type": "markdown",
   "metadata": {},
   "source": [
    "#### Seleccionar variables para el modelo"
   ]
  },
  {
   "cell_type": "markdown",
   "metadata": {},
   "source": [
    "Selecciono las variables que tienen un Information Value mayor que 0.1."
   ]
  },
  {
   "cell_type": "code",
   "execution_count": 34,
   "metadata": {
    "collapsed": false
   },
   "outputs": [
    {
     "name": "stdout",
     "output_type": "stream",
     "text": [
      "SELECTING CHARACTERISTICS TO ENTER INTO THE MODEL...\n"
     ]
    },
    {
     "data": {
      "text/plain": [
       "Index([u'if_var_70', u'if_var_81', u'if_var_73', u'ico_var_33', u'if_var_71',\n",
       "       u'ico_var_37', u'ico_var_36', u'ico_var_35', u'ico_var_34',\n",
       "       u'ib_var_20', u'ico_var_31', u'ico_var_30', u'if_var_67', u'if_var_68',\n",
       "       u'ico_var_39', u'ico_var_50', u'ico_var_53', u'ico_var_52',\n",
       "       u'ico_var_55', u'ico_var_56', u'ico_var_32', u'if_var_80',\n",
       "       u'ico_var_61', u'if_var_79', u'ico_var_64', u'ico_var_45', u'ib_var_16',\n",
       "       u'if_var_76', u'if_var_77', u'if_var_74', u'if_var_75', u'if_var_72',\n",
       "       u'ico_var_25', u'ico_var_26', u'ico_var_27', u'ico_var_28',\n",
       "       u'if_var_78', u'ico_var_47', u'ico_var_42', u'ico_var_43',\n",
       "       u'ico_var_41', u'ico_var_44', u'ib_var_8', u'ib_var_5', u'ib_var_2',\n",
       "       u'if_var_65', u'ib_var_1', u'ico_var_59', u'if_var_69', u'icn_var_22',\n",
       "       u'ico_var_48', u'icn_var_24'],\n",
       "      dtype='object')"
      ]
     },
     "execution_count": 34,
     "metadata": {},
     "output_type": "execute_result"
    }
   ],
   "source": [
    "print \"SELECTING CHARACTERISTICS TO ENTER INTO THE MODEL...\"\n",
    "\n",
    "#in_model = list_inputs #['ib_var_1','icn_var_22','ico_var_25','if_var_65']\n",
    "\n",
    "in_model = df_var.columns\n",
    "\n",
    "in_model"
   ]
  },
  {
   "cell_type": "markdown",
   "metadata": {},
   "source": [
    "## Paso 3: Desarrollo del modelo"
   ]
  },
  {
   "cell_type": "code",
   "execution_count": 35,
   "metadata": {
    "collapsed": false
   },
   "outputs": [
    {
     "name": "stdout",
     "output_type": "stream",
     "text": [
      "STEP 3: DEVELOPING THE MODEL...\n"
     ]
    }
   ],
   "source": [
    "print \"STEP 3: DEVELOPING THE MODEL...\"\n",
    "\n",
    "# Filtrado de variables\n",
    "\n",
    "X = df[list(set(in_model))]\n",
    "y = df[output_var]\n",
    "Xo = dfo[list(set(in_model))]\n"
   ]
  },
  {
   "cell_type": "markdown",
   "metadata": {},
   "source": [
    "#### Modelo 1"
   ]
  },
  {
   "cell_type": "code",
   "execution_count": 39,
   "metadata": {
    "collapsed": false
   },
   "outputs": [],
   "source": [
    "cutoff = 0.8\n",
    "\n",
    "clf = RandomForestClassifier(n_estimators=7000, \n",
    "                             min_weight_fraction_leaf=0.00000000001,\n",
    "                             #class_weight={0: cutoff, 1: (1-cutoff)},\n",
    "                             class_weight='balanced',\n",
    "                             criterion='entropy')\n",
    "model = clf.fit(X,y)\n"
   ]
  },
  {
   "cell_type": "markdown",
   "metadata": {},
   "source": [
    "#### Modelo 2"
   ]
  },
  {
   "cell_type": "code",
   "execution_count": null,
   "metadata": {
    "collapsed": false
   },
   "outputs": [],
   "source": [
    "clf = AdaBoostClassifier(n_estimators=7000)\n",
    "\n",
    "model = clf.fit(X,y)"
   ]
  },
  {
   "cell_type": "markdown",
   "metadata": {},
   "source": [
    "#### Predicción"
   ]
  },
  {
   "cell_type": "code",
   "execution_count": 40,
   "metadata": {
    "collapsed": false
   },
   "outputs": [],
   "source": [
    "try:\n",
    "    y_pred  = model.predict_proba(X)\n",
    "    y_pred = y_pred[:,1]\n",
    "    yo_pred = model.predict_proba(Xo)\n",
    "    yo_pred = yo_pred[:,1]    \n",
    "    \n",
    "except np.linalg.linalg.LinAlgError as err:\n",
    "    if 'Singular matrix' in err.message:\n",
    "        print \"MODEL-INVALID (Singular Matrix)\"\n",
    "    else:\n",
    "        raise\n"
   ]
  },
  {
   "cell_type": "markdown",
   "metadata": {},
   "source": [
    "## Paso 4: Enviar resultados"
   ]
  },
  {
   "cell_type": "code",
   "execution_count": 41,
   "metadata": {
    "collapsed": false
   },
   "outputs": [
    {
     "name": "stdout",
     "output_type": "stream",
     "text": [
      "STEP 4: ASSESSING THE MODEL...\n",
      "GINI DEVELOPMENT= 1.0\n",
      "STEP 5: SUBMITTING THE RESULTS...\n",
      "RESULT SUBMISSION:  KS2 = 0.380850237615; GINI = 0.528449120731\n"
     ]
    }
   ],
   "source": [
    "print \"STEP 4: ASSESSING THE MODEL...\"\n",
    "# CALCULATING GINI PERFORMANCE ON DEVELOPMENT SAMPLE\n",
    "from sklearn.metrics import roc_auc_score\n",
    "gini_score = 2*roc_auc_score(df[output_var], y_pred)-1\n",
    "print \"GINI DEVELOPMENT=\", gini_score\n",
    "\n",
    "print \"STEP 5: SUBMITTING THE RESULTS...\"\n",
    "dfo['pred'] = yo_pred\n",
    "dfo_tosend = dfo[list(['id','pred'])]\n",
    "\n",
    "i=2\n",
    "filename = \"group_Z_sub\"+str(i)+\".csv\"\n",
    "dfo_tosend.to_csv(filename, sep=',')\n",
    "\n",
    "url = 'http://mgadi.pythonanywhere.com/api/v1.0/uploadpredictions'\n",
    "\n",
    "files = {'file': (filename, open(filename, 'rb'))}\n",
    "rsub = requests.post(url, files=files, auth=HTTPBasicAuth('josegonzalez', 'levante'))\n",
    "resp_str = str(rsub.text)\n",
    "print \"RESULT SUBMISSION: \", resp_str\n"
   ]
  }
 ],
 "metadata": {
  "kernelspec": {
   "display_name": "Python 2",
   "language": "python",
   "name": "python2"
  },
  "language_info": {
   "codemirror_mode": {
    "name": "ipython",
    "version": 2
   },
   "file_extension": ".py",
   "mimetype": "text/x-python",
   "name": "python",
   "nbconvert_exporter": "python",
   "pygments_lexer": "ipython2",
   "version": "2.7.11"
  }
 },
 "nbformat": 4,
 "nbformat_minor": 0
}

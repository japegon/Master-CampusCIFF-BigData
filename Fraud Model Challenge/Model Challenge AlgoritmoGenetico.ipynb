{
 "cells": [
  {
   "cell_type": "markdown",
   "metadata": {
    "collapsed": true
   },
   "source": [
    "## Paso 0: Preparación del entorno"
   ]
  },
  {
   "cell_type": "markdown",
   "metadata": {},
   "source": [
    "#### Importar librerías"
   ]
  },
  {
   "cell_type": "code",
   "execution_count": 1,
   "metadata": {
    "collapsed": true
   },
   "outputs": [],
   "source": [
    "#print \"IMPORTING LIBRARIES...\"\n",
    "import pandas as pd\n",
    "import numpy as np\n",
    "import math\n",
    "import statsmodels.api as sm\n",
    "import matplotlib.pyplot as plt\n",
    "import re\n",
    "import requests\n",
    "from scipy import stats\n",
    "from requests.auth import HTTPBasicAuth\n",
    "\n",
    "%matplotlib inline"
   ]
  },
  {
   "cell_type": "code",
   "execution_count": 2,
   "metadata": {
    "collapsed": true
   },
   "outputs": [],
   "source": [
    "from sklearn import tree\n",
    "from sklearn.tree import DecisionTreeClassifier\n",
    "from sklearn.ensemble import RandomForestClassifier\n",
    "from sklearn.linear_model import LogisticRegression\n",
    "from sklearn.ensemble import AdaBoostClassifier"
   ]
  },
  {
   "cell_type": "markdown",
   "metadata": {},
   "source": [
    "#### Descargar ficheros"
   ]
  },
  {
   "cell_type": "code",
   "execution_count": 3,
   "metadata": {
    "collapsed": false
   },
   "outputs": [],
   "source": [
    "#DOWLOADING FILE FROM DROPBOX FIRST TIME\n",
    "import urllib2\n",
    "import os.path\n",
    "import time\n",
    "import random\n",
    "\n",
    "while not os.path.exists('dev.csv') or not os.path.exists('oot0.csv'):\n",
    "    time.sleep (3*random.random()); #Sleeping less than 3 seconds before going to Dropbox - avoid too many students at once.\n",
    "    if not os.path.exists('dev.csv'):\n",
    "        print \"DOWLOADING FILE dev.csv FROM DROPBOX BECAUSE LOCAL FILE DOES NOT EXIST!\"\n",
    "        csvfile = urllib2.urlopen(\"https://dl.dropboxusercontent.com/u/28535341/dev.csv\")\n",
    "        output = open('dev.csv','wb')\n",
    "        output.write(csvfile.read())\n",
    "        output.close()\n",
    "    if not os.path.exists('oot0.csv'):\n",
    "        print \"DOWLOADING FILE oot0.csv FROM DROPBOX BECAUSE LOCAL FILE DOES NOT EXIST!\"\n",
    "        csvfile = urllib2.urlopen(\"https://dl.dropboxusercontent.com/u/28535341/oot0.csv\")\n",
    "        output = open('oot0.csv','wb')\n",
    "        output.write(csvfile.read())\n",
    "        output.close()  \n",
    "#DOWLOADING FILE FROM DROPBOX FIRST TIME"
   ]
  },
  {
   "cell_type": "markdown",
   "metadata": {},
   "source": [
    "#### Cargar ficheros"
   ]
  },
  {
   "cell_type": "code",
   "execution_count": 4,
   "metadata": {
    "collapsed": false
   },
   "outputs": [
    {
     "name": "stdout",
     "output_type": "stream",
     "text": [
      "LOADING DATASETS...\n"
     ]
    }
   ],
   "source": [
    "print \"LOADING DATASETS...\"\n",
    "df = pd.read_csv(\"../dev.csv\") #DEV-SAMPLE\n",
    "dfo = pd.read_csv(\"../oot0.csv\") #OUT-OF-TIME SAMPLE"
   ]
  },
  {
   "cell_type": "code",
   "execution_count": null,
   "metadata": {
    "collapsed": false
   },
   "outputs": [],
   "source": [
    "df.describe()"
   ]
  },
  {
   "cell_type": "code",
   "execution_count": null,
   "metadata": {
    "collapsed": false
   },
   "outputs": [],
   "source": [
    "dfo.describe()"
   ]
  },
  {
   "cell_type": "markdown",
   "metadata": {},
   "source": [
    "#### Identificar tipos de datos"
   ]
  },
  {
   "cell_type": "code",
   "execution_count": 5,
   "metadata": {
    "collapsed": false
   },
   "outputs": [
    {
     "name": "stdout",
     "output_type": "stream",
     "text": [
      "IDENTIFYING TYPES...\n",
      "ERROR: unable to identify the type of: id\n"
     ]
    }
   ],
   "source": [
    "print \"IDENTIFYING TYPES...\"\n",
    "in_model = []\n",
    "list_ib = set()  #input binary\n",
    "list_icn = set() #input categorical nominal\n",
    "list_ico = set() #input categorical ordinal\n",
    "list_if = set()  #input numerical continuos (input float)\n",
    "list_inputs = set()\n",
    "output_var = 'ob_target' # result used later\n",
    "for var_name in df.columns:\n",
    "    if re.search('^i',var_name) and var_name<>'id':\n",
    "        list_inputs.add(var_name)\n",
    "        #print var_name,\"is input\"   \n",
    "    if re.search('^ib_',var_name):\n",
    "        list_ib.add(var_name)\n",
    "        #print var_name,\"is input binary\"\n",
    "    elif re.search('^icn_',var_name):\n",
    "        list_icn.add(var_name)\n",
    "        #print var_name,\"is input categorical nominal\"\n",
    "    elif re.search('^ico_',var_name):\n",
    "        list_ico.add(var_name)\n",
    "        #print var_name,\"is input categorical ordinal\"\n",
    "    elif re.search('^if_',var_name):\n",
    "        list_if.add(var_name)\n",
    "        #print var_name,\"is input numerical continuos (input float)\"\n",
    "    elif re.search('^ob_',var_name):\n",
    "        output_var = var_name\n",
    "    else:\n",
    "        print \"ERROR: unable to identify the type of:\", var_name"
   ]
  },
  {
   "cell_type": "markdown",
   "metadata": {},
   "source": [
    "## Paso 1: Transformaciones"
   ]
  },
  {
   "cell_type": "code",
   "execution_count": null,
   "metadata": {
    "collapsed": false
   },
   "outputs": [],
   "source": [
    "print \"STEP 1: DOING MY TRANSFORMATIONS...\"\n"
   ]
  },
  {
   "cell_type": "markdown",
   "metadata": {},
   "source": [
    "#### Transforming NaN values"
   ]
  },
  {
   "cell_type": "code",
   "execution_count": 6,
   "metadata": {
    "collapsed": false
   },
   "outputs": [
    {
     "data": {
      "text/plain": [
       "Index([u'ico_var_33', u'ico_var_37', u'ib_var_21', u'ib_var_20', u'ib_var_18',\n",
       "       u'ib_var_19', u'ib_var_15', u'ib_var_16', u'ib_var_17', u'ico_var_26',\n",
       "       u'if_var_78', u'icn_var_22', u'icn_var_24'],\n",
       "      dtype='object')"
      ]
     },
     "execution_count": 6,
     "metadata": {},
     "output_type": "execute_result"
    }
   ],
   "source": [
    "def variablesNaN(data, features):\n",
    "    result = pd.DataFrame(index = ['NaN'], columns = features)\n",
    "    for var_name in features:\n",
    "        if data[var_name].isnull().any() == True:\n",
    "            result[var_name] = True\n",
    "    \n",
    "    return result\n",
    "\n",
    "# Dev\n",
    "df_nan = variablesNaN(df, list_inputs)\n",
    "df_nan.dropna(axis=1).columns\n",
    "\n",
    "# OoT\n",
    "dfo_nan = variablesNaN(dfo, list_inputs)\n",
    "dfo_nan = dfo_nan.dropna(axis=1).columns\n",
    "dfo_nan"
   ]
  },
  {
   "cell_type": "code",
   "execution_count": 7,
   "metadata": {
    "collapsed": true
   },
   "outputs": [],
   "source": [
    "for var in list_inputs:\n",
    "    if dfo[var].isnull().any() == True:\n",
    "        if var in list_ib:\n",
    "            #dfo['ib_var_18'].median()\n",
    "            #mode_var = stats.mode(dfo[var])\n",
    "            #dfo[var] = dfo[var].fillna(mode_var[0].item(0))\n",
    "            dfo[var] = dfo[var].fillna(-1)\n",
    "        if var in list_ico:\n",
    "            dfo[var] = dfo[var].fillna(dfo[var].median())\n",
    "            #dfo[var] = dfo[var].fillna(-1)\n",
    "        if var in list_icn:\n",
    "            #dfo[var] = dfo[var].fillna(-1)\n",
    "            dfo[var] = dfo[var].fillna(dfo[var].median())\n",
    "        if var in list_if:\n",
    "            mode_var = stats.mode(dfo[var])\n",
    "            dfo[var] = dfo[var].fillna(mode_var[0].item(0))\n",
    "            #dfo[var] = dfo[var].fillna(dfo[var].mean())\n",
    "            #dfo[var] = dfo[var].fillna(-1)\n",
    "        "
   ]
  },
  {
   "cell_type": "markdown",
   "metadata": {},
   "source": [
    "## Paso 2: Selección de variables"
   ]
  },
  {
   "cell_type": "code",
   "execution_count": 23,
   "metadata": {
    "collapsed": true
   },
   "outputs": [],
   "source": [
    "def giniOOT (data, Y_pred):\n",
    "    data['pred'] = Y_pred\n",
    "    data_tosend = data[list(['id','pred'])]\n",
    "\n",
    "    i=0\n",
    "    filename = \"group_Z_sub\"+str(i)+\".csv\"\n",
    "    data_tosend.to_csv(filename, sep=',')\n",
    "\n",
    "    url = 'http://mgadi.pythonanywhere.com/api/v1.0/uploadpredictions'\n",
    "\n",
    "    files = {'file': (filename, open(filename, 'rb'))}\n",
    "    rsub = requests.post(url, files=files, auth=HTTPBasicAuth('josegonzalez', 'levante'))\n",
    "    resp_str = str(rsub.text)\n",
    "    ginioot = resp_str.split(\";\")[1]\n",
    "    ginivalue = ginioot.split(\"=\")[1]\n",
    "    ginivalue = float(ginivalue)\n",
    "    time.sleep(15)\n",
    "    return ginivalue\n"
   ]
  },
  {
   "cell_type": "markdown",
   "metadata": {},
   "source": [
    "#### Genetic Algorithm"
   ]
  },
  {
   "cell_type": "code",
   "execution_count": null,
   "metadata": {
    "collapsed": false
   },
   "outputs": [],
   "source": [
    "print \"GENETIC ALGORITHM FOR FEATURE SELECTION:\"\n",
    "\n",
    "from deap import creator, base, tools, algorithms #GENETIC ALGORITHM LIBRARY - requirement: pip install deap\n",
    "import random\n",
    "from sklearn import metrics\n",
    "import time\n",
    "from math import sqrt\n",
    "\n",
    "#####\n",
    "#SETING UP THE GENETIC ALGORITHM and CALCULATING STARTING POOL (STARTING CANDIDATE POPULATION)\n",
    "#####\n",
    "creator.create(\"FitnessMax\", base.Fitness, weights=(1.0,))\n",
    "creator.create(\"Individual\", list, fitness=creator.FitnessMax)\n",
    "toolbox = base.Toolbox()\n",
    "toolbox.register(\"attr_bool\", random.randint, 0, 1)\n",
    "toolbox.register(\"individual\", tools.initRepeat, creator.Individual, toolbox.attr_bool, n=len(list_inputs))\n",
    "toolbox.register(\"population\", tools.initRepeat, list, toolbox.individual)\n",
    "\n",
    "def evalOneMax(individual):\n",
    "    return sum(individual),\n",
    "\n",
    "toolbox.register(\"evaluate\", evalOneMax)\n",
    "toolbox.register(\"mate\", tools.cxTwoPoint)\n",
    "toolbox.register(\"mutate\", tools.mutFlipBit, indpb=0.05)\n",
    "toolbox.register(\"select\", tools.selTournament, tournsize=3)\n",
    "\n",
    "NPOPSIZE = 50 #RANDOM STARTING POOL SIZE\n",
    "population = toolbox.population(n=NPOPSIZE)\n",
    "\n",
    "\n",
    "#####\n",
    "#ASSESSING GINI ON THE STARTING POOL\n",
    "#####\n",
    "\n",
    "def calculateGini(actual, pred, cmpcol = 0, sortcol = 1):\n",
    "    assert( len(actual) == len(pred) )\n",
    "    all = np.asarray(np.c_[ actual, pred, np.arange(len(actual)) ], dtype=np.float)\n",
    "    all = all[ np.lexsort((all[:,2], -1*all[:,1])) ]\n",
    "    totalLosses = all[:,0].sum()\n",
    "    giniSum = all[:,0].cumsum().sum() / totalLosses\n",
    " \n",
    "    giniSum -= (len(actual) + 1) / 2.\n",
    "    return giniSum / len(actual)\n",
    "\n",
    "dic_gini={}\n",
    "\n",
    "df_var = set()\n",
    "\n",
    "for i in range(np.shape(population)[0]): \n",
    "\n",
    "    # TRASLATING DNA INTO LIST OF VARIABLES (1-81)\n",
    "    var_model = []    \n",
    "    for j in range(np.shape(population)[0]): \n",
    "        if (population[i])[j]==1:\n",
    "            var_model.append(list(list_inputs)[j])\n",
    "\n",
    "    # ASSESSING GINI INDEX FOR EACH INVIVIDUAL IN THE INITIAL POOL \n",
    "    X_train=df[var_model]\n",
    "    Y_train=df[output_var]\n",
    "    Xo_train=dfo[var_model]\n",
    "\n",
    "    ######\n",
    "    # CHANGE_HERE - START: YOU ARE VERY LIKELY USING A DIFFERENT TECHNIQUE BY NOW. SO CHANGE TO YOURS.\n",
    "    #####\n",
    "    rfc = RandomForestClassifier(n_estimators=100, min_weight_fraction_leaf=0.00000000001, class_weight={0: 1, 1: 8},\n",
    "                                        criterion='entropy')\n",
    "    model = rfc.fit(X_train, Y_train)\n",
    "    Y_predict = model.predict_proba(X_train)[:,1]\n",
    "    \n",
    "    #lr = sm.Logit(Y_train, X_train)\n",
    "    #model=lr.fit()   \n",
    "    #Y_predict=model.predict(X_train)\n",
    "    \n",
    "    ######\n",
    "    # CHANGE_HERE - END: YOU ARE VERY LIKELY USING A DIFFERENT TECHNIQUE BY NOW. SO CHANGE TO YOURS.\n",
    "    #####             \n",
    "\n",
    "\n",
    "    ######\n",
    "    # CHANGE_HERE - START: HERE IT USES THE DEVELOPMENT GINI TO SELECT VARIABLES, YOU SHOULD USE A DIFFERENT GINI. \n",
    "    # EITHER THE OOT GINI OR THE SQRT(DEV_GINI*OOT_GINI)\n",
    "    #####\n",
    "    \n",
    "    # OOT GINI\n",
    "    Yo_predict = model.predict_proba(Xo_train)[:,1]\n",
    "    gini_oot = giniOOT (dfo, Yo_predict)\n",
    "    \n",
    "    # DEV GINI\n",
    "    fpr, tpr, thresholds = metrics.roc_curve(Y_train, Y_predict)\n",
    "    auc = metrics.auc(fpr, tpr)\n",
    "    gini_dev = abs(2*auc-1)\n",
    "    #gini_power = abs(2*auc-1)\n",
    "    \n",
    "    # CALC\n",
    "    gini_power = sqrt(gini_dev*gini_oot)\n",
    "        \n",
    "    ######\n",
    "    # CHANGE_HERE - END: HERE IT USES THE DEVELOPMENT GINI TO SELECT VARIABLES, YOU SHOULD A DIFFERENT GINI. \n",
    "    # EITHER THE OOT GINI OR THE SQRT(DEV_GINI*OOT_GINI)\n",
    "    #####                \n",
    "    \n",
    "    gini=str(gini_power)+\";\"+str(population[j]).replace('[','').replace(', ','').replace(']','')\n",
    "    dic_gini[gini]=population[j]   \n",
    "    \n",
    "list_gini=sorted(dic_gini.keys(),reverse=True)\n",
    "\n",
    "\n",
    "#####\n",
    "#GENETIC ALGORITHM MAIN LOOP - START\n",
    "# - ITERATING MANY TIMES UNTIL NO IMPROVMENT HAPPENS IN ORDER TO FIND THE OPTIMAL SET OF CHARACTERISTICS (VARIABLES)\n",
    "#####\n",
    "sum_current_gini=0.0\n",
    "sum_current_gini_1=0.0\n",
    "sum_current_gini_2=0.0\n",
    "first=0\n",
    "OK = 1\n",
    "a=0\n",
    "\n",
    "while OK:  #REPEAT UNTIL IT DO NOT IMPROVE, AT LEAST A LITLE, THE GINI IN 2 GENERATIONS\n",
    "    a=a+1\n",
    "    print 'loop ', a\n",
    "    OK=0\n",
    "\n",
    "    ####\n",
    "    # GENERATING OFFSPRING - START\n",
    "    ####\n",
    "    offspring = algorithms.varAnd(population, toolbox, cxpb=0.5, mutpb=0.1) #CROSS-X PROBABILITY = 50%, MUTATION PROBABILITY=10%\n",
    "    fits = toolbox.map(toolbox.evaluate, offspring)\n",
    "    for fit, ind in zip(fits, offspring):\n",
    "        ind.fitness.values = fit\n",
    "    population =toolbox.select(offspring, k=len(population))\n",
    "    ####\n",
    "    # GENERATING OFFSPRING - END\n",
    "    ####\n",
    "\n",
    "    sum_current_gini_2=sum_current_gini_1\n",
    "    sum_current_gini_1=sum_current_gini\n",
    "    sum_current_gini=0.0\n",
    "\n",
    "    #####\n",
    "    #ASSESSING GINI ON THE OFFSPRING - START\n",
    "    #####\n",
    "    for j in range(np.shape(population)[0]): \n",
    "        if population[j] not in dic_gini.values(): \n",
    "            var_model = [] \n",
    "            for i in range(np.shape(population)[0]): \n",
    "                if (population[j])[i]==1:\n",
    "                    var_model.append(list(list_inputs)[i])\n",
    "            \n",
    "            X_train=df[var_model]\n",
    "            Y_train=df[output_var]\n",
    "            Xo_train=dfo[var_model]\n",
    "            \n",
    "            ######\n",
    "            # CHANGE_HERE - START: YOU ARE VERY LIKELY USING A DIFFERENT TECHNIQUE BY NOW. SO CHANGE TO YOURS.\n",
    "            #####\n",
    "            rfc = RandomForestClassifier(n_estimators=100, min_weight_fraction_leaf=0.00000000001, class_weight={0: 1, 1: 8},\n",
    "                                        criterion='entropy')\n",
    "            model = rfc.fit(X_train, Y_train)\n",
    "            Y_predict = model.predict_proba(X_train)[:,1]\n",
    "\n",
    "            #lr = sm.Logit(Y_train, X_train)\n",
    "            #model=lr.fit()\n",
    "            #Y_predict=model.predict(X_train)\n",
    "            \n",
    "            ######\n",
    "            # CHANGE_HERE - END: YOU ARE VERY LIKELY USING A DIFFERENT TECHNIQUE BY NOW. SO CHANGE TO YOURS.\n",
    "            #####            \n",
    "                       \n",
    "            \n",
    "            ######\n",
    "            # CHANGE_HERE - START: HERE IT USES THE DEVELOPMENT GINI TO SELECT VARIABLES, YOU SHOULD A DIFFERENT GINI. \n",
    "            # EITHER THE OOT GINI OR THE SQRT(DEV_GINI*OOT_GINI)\n",
    "            #####\n",
    "    \n",
    "            # OOT GINI\n",
    "            Yo_predict = model.predict_proba(Xo_train)[:,1]\n",
    "            gini_oot = giniOOT (dfo, Yo_predict)\n",
    "    \n",
    "            # DEV GINI\n",
    "            fpr, tpr, thresholds = metrics.roc_curve(Y_train, Y_predict)\n",
    "            auc = metrics.auc(fpr, tpr)\n",
    "            gini_dev = abs(2*auc-1)\n",
    "            #gini_power = abs(2*auc-1)\n",
    "    \n",
    "            # CALC\n",
    "            gini_power = sqrt(gini_dev*gini_oot)\n",
    "               \n",
    "            ######\n",
    "            # CHANGE_HERE - END: HERE IT USES THE DEVELOPMENT GINI TO SELECT VARIABLES, YOU SHOULD A DIFFERENT GINI. \n",
    "            # EITHER THE OOT GINI OR THE SQRT(DEV_GINI*OOT_GINI)\n",
    "            #####                       \n",
    "           \n",
    "            gini=str(gini_power)+\";\"+str(population[j]).replace('[','').replace(', ','').replace(']','')\n",
    "            dic_gini[gini]=population[j]  \n",
    "    #####\n",
    "    #ASSESSING GINI ON THE OFFSPRING - END\n",
    "    #####\n",
    "\n",
    "    #####\n",
    "    #SELECTING THE BEST FITTED AMONG ALL EVER CREATED POPULATION AND CURRENT OFFSPRING - START\n",
    "    #####           \n",
    "    list_gini=sorted(dic_gini.keys(),reverse=True)\n",
    "    population=[]\n",
    "    for i in list_gini[:NPOPSIZE]:\n",
    "        population.append(dic_gini[i])\n",
    "        gini=float(i.split(';')[0])\n",
    "        sum_current_gini+=gini\n",
    "    #####\n",
    "    #SELECTING THE BEST FITTED AMONG ALL EVER CREATED POPULATION AND CURRENT OFFSPRING - END\n",
    "    #####           \n",
    "      \n",
    "    #HAS IT IMPROVED AT LEAST A LITLE THE GINI IN THE LAST 2 GENERATIONS\n",
    "    print 'sum_current_gini=', sum_current_gini, 'sum_current_gini_1=', sum_current_gini_1, 'sum_current_gini_2=', sum_current_gini_2\n",
    "    if(sum_current_gini>sum_current_gini_1+0.0001 or sum_current_gini>sum_current_gini_2+0.0001):\n",
    "        OK=1\n",
    "#####\n",
    "#GENETIC ALGORITHM MAIN LOOP - END\n",
    "#####\n",
    "\n",
    "gini_max=list_gini[0]        \n",
    "gini=float(gini_max.split(';')[0])\n",
    "features=gini_max.split(';')[1]\n",
    "\n",
    "\n",
    "####\n",
    "# PRINTING OUT THE LIST OF FEATURES\n",
    "#####\n",
    "f=0\n",
    "for i in range(len(features)):\n",
    "    if features[i]=='1':\n",
    "        f+=1\n",
    "        df_var.add(list(list_inputs)[i])\n",
    "        print 'feature ', f, ':', list(list_inputs)[i]\n",
    "print 'gini: ', gini\n"
   ]
  },
  {
   "cell_type": "markdown",
   "metadata": {},
   "source": [
    "#### Seleccionar variables para el modelo"
   ]
  },
  {
   "cell_type": "markdown",
   "metadata": {},
   "source": [
    "Selecciono las variables que tienen un Information Value mayor que 0.1."
   ]
  },
  {
   "cell_type": "code",
   "execution_count": 28,
   "metadata": {
    "collapsed": false,
    "scrolled": true
   },
   "outputs": [
    {
     "name": "stdout",
     "output_type": "stream",
     "text": [
      "SELECTING CHARACTERISTICS TO ENTER INTO THE MODEL...\n"
     ]
    },
    {
     "data": {
      "text/plain": [
       "['ico_var_49',\n",
       " 'if_var_70',\n",
       " 'ico_var_33',\n",
       " 'ico_var_37',\n",
       " 'ico_var_36',\n",
       " 'ico_var_35',\n",
       " 'ico_var_34',\n",
       " 'ib_var_21',\n",
       " 'ib_var_20',\n",
       " 'ico_var_30',\n",
       " 'if_var_67',\n",
       " 'ico_var_62',\n",
       " 'ico_var_38',\n",
       " 'ico_var_51',\n",
       " 'ico_var_53',\n",
       " 'ico_var_55',\n",
       " 'ico_var_54',\n",
       " 'ico_var_58',\n",
       " 'ico_var_61',\n",
       " 'if_var_79',\n",
       " 'ib_var_19',\n",
       " 'ico_var_45',\n",
       " 'ib_var_15',\n",
       " 'ib_var_10',\n",
       " 'ib_var_11',\n",
       " 'ib_var_12',\n",
       " 'ib_var_13',\n",
       " 'if_var_74',\n",
       " 'ico_var_25',\n",
       " 'ico_var_26',\n",
       " 'if_var_78',\n",
       " 'ico_var_43',\n",
       " 'ico_var_40',\n",
       " 'ico_var_41',\n",
       " 'ico_var_46',\n",
       " 'ib_var_8',\n",
       " 'ib_var_9',\n",
       " 'ib_var_6',\n",
       " 'ib_var_7',\n",
       " 'ib_var_2',\n",
       " 'ib_var_3',\n",
       " 'ib_var_1',\n",
       " 'ico_var_60',\n",
       " 'ico_var_59',\n",
       " 'if_var_66',\n",
       " 'icn_var_23',\n",
       " 'icn_var_22',\n",
       " 'ico_var_48',\n",
       " 'icn_var_24']"
      ]
     },
     "execution_count": 28,
     "metadata": {},
     "output_type": "execute_result"
    }
   ],
   "source": [
    "print \"SELECTING CHARACTERISTICS TO ENTER INTO THE MODEL...\"\n",
    "\n",
    "#in_model = list_inputs #['ib_var_1','icn_var_22','ico_var_25','if_var_65']\n",
    "\n",
    "in_model = df_var\n",
    "\n",
    "in_model"
   ]
  },
  {
   "cell_type": "markdown",
   "metadata": {},
   "source": [
    "## Paso 3: Desarrollo del modelo"
   ]
  },
  {
   "cell_type": "code",
   "execution_count": 29,
   "metadata": {
    "collapsed": false
   },
   "outputs": [
    {
     "name": "stdout",
     "output_type": "stream",
     "text": [
      "STEP 3: DEVELOPING THE MODEL...\n"
     ]
    }
   ],
   "source": [
    "print \"STEP 3: DEVELOPING THE MODEL...\"\n",
    "\n",
    "# Filtrado de variables\n",
    "\n",
    "X = df[list(set(in_model))]\n",
    "y = df[output_var]\n",
    "Xo = dfo[list(set(in_model))]\n"
   ]
  },
  {
   "cell_type": "markdown",
   "metadata": {},
   "source": [
    "#### Modelo 1"
   ]
  },
  {
   "cell_type": "code",
   "execution_count": 30,
   "metadata": {
    "collapsed": false
   },
   "outputs": [],
   "source": [
    "cutoff = 0.8\n",
    "\n",
    "clf = RandomForestClassifier(n_estimators=7000, \n",
    "                             min_weight_fraction_leaf=0.00000000001,\n",
    "                             class_weight={0: 1, 1: 8},\n",
    "                             #class_weight='balanced',\n",
    "                             criterion='entropy')\n",
    "model = clf.fit(X,y)\n"
   ]
  },
  {
   "cell_type": "markdown",
   "metadata": {},
   "source": [
    "#### Modelo 2"
   ]
  },
  {
   "cell_type": "raw",
   "metadata": {
    "collapsed": false
   },
   "source": [
    "# clf = AdaBoostClassifier(n_estimators=7000)\n",
    "\n",
    "model = clf.fit(X,y)"
   ]
  },
  {
   "cell_type": "markdown",
   "metadata": {},
   "source": [
    "#### Predicción"
   ]
  },
  {
   "cell_type": "code",
   "execution_count": 31,
   "metadata": {
    "collapsed": false
   },
   "outputs": [],
   "source": [
    "try:\n",
    "    y_pred  = model.predict_proba(X)\n",
    "    y_pred = y_pred[:,1]\n",
    "    yo_pred = model.predict_proba(Xo)\n",
    "    yo_pred = yo_pred[:,1]    \n",
    "    \n",
    "except np.linalg.linalg.LinAlgError as err:\n",
    "    if 'Singular matrix' in err.message:\n",
    "        print \"MODEL-INVALID (Singular Matrix)\"\n",
    "    else:\n",
    "        raise\n"
   ]
  },
  {
   "cell_type": "markdown",
   "metadata": {},
   "source": [
    "## Paso 4: Enviar resultados"
   ]
  },
  {
   "cell_type": "code",
   "execution_count": 32,
   "metadata": {
    "collapsed": false
   },
   "outputs": [
    {
     "name": "stdout",
     "output_type": "stream",
     "text": [
      "STEP 4: ASSESSING THE MODEL...\n",
      "GINI DEVELOPMENT= 1.0\n",
      "STEP 5: SUBMITTING THE RESULTS...\n",
      "RESULT SUBMISSION:  KS2 = 0.432624031509; GINI = 0.566824691655\n"
     ]
    }
   ],
   "source": [
    "print \"STEP 4: ASSESSING THE MODEL...\"\n",
    "# CALCULATING GINI PERFORMANCE ON DEVELOPMENT SAMPLE\n",
    "from sklearn.metrics import roc_auc_score\n",
    "gini_score = 2*roc_auc_score(df[output_var], y_pred)-1\n",
    "print \"GINI DEVELOPMENT=\", gini_score\n",
    "\n",
    "print \"STEP 5: SUBMITTING THE RESULTS...\"\n",
    "dfo['pred'] = yo_pred\n",
    "dfo_tosend = dfo[list(['id','pred'])]\n",
    "\n",
    "i=3\n",
    "filename = \"group_Z_sub\"+str(i)+\".csv\"\n",
    "dfo_tosend.to_csv(filename, sep=',')\n",
    "\n",
    "url = 'http://mgadi.pythonanywhere.com/api/v1.0/uploadpredictions'\n",
    "\n",
    "files = {'file': (filename, open(filename, 'rb'))}\n",
    "rsub = requests.post(url, files=files, auth=HTTPBasicAuth('josegonzalez', 'xx'))\n",
    "resp_str = str(rsub.text)\n",
    "print \"RESULT SUBMISSION: \", resp_str\n"
   ]
  }
 ],
 "metadata": {
  "kernelspec": {
   "display_name": "Python 2",
   "language": "python",
   "name": "python2"
  },
  "language_info": {
   "codemirror_mode": {
    "name": "ipython",
    "version": 2
   },
   "file_extension": ".py",
   "mimetype": "text/x-python",
   "name": "python",
   "nbconvert_exporter": "python",
   "pygments_lexer": "ipython2",
   "version": "2.7.11"
  }
 },
 "nbformat": 4,
 "nbformat_minor": 0
}

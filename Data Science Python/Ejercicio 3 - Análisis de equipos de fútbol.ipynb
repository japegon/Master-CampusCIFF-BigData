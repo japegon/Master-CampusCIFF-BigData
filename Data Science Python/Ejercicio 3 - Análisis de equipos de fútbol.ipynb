{
 "cells": [
  {
   "cell_type": "markdown",
   "metadata": {},
   "source": [
    "# Ejercicio 3 - Temática Libre"
   ]
  },
  {
   "cell_type": "markdown",
   "metadata": {},
   "source": [
    "#### Se pide llegar al análisis estadístico básico. No se pretende hacer un estudio estadístico inferencias avanzado sino un estudio exploratorio que muestre hallazgos interesantes en el dataset."
   ]
  },
  {
   "cell_type": "markdown",
   "metadata": {},
   "source": [
    "# Análisis de partidos de fútbol"
   ]
  },
  {
   "cell_type": "markdown",
   "metadata": {},
   "source": [
    "Vamos a realizar un análisis de los partidos de fútbol que se han jugado durante los últimos 10 años en España. Nos vamos a centrar únicamente en la Primera División.\n",
    "\n",
    "Los datos los descargamos de la siguiente web: http://www.football-data.co.uk/spainm.php\n",
    "\n",
    "El dataset contiene los siguientes datos:\n",
    "* Resultados a mitad y al final de cada partido.\n",
    "* Estadísticas propias del partido.\n",
    "* Datos de las casas de apuestas principales para cada partido.\n",
    "\n",
    "No obstante se pueden consultar cada uno de los campos del dataset en el siguiente enlace: http://www.football-data.co.uk/notes.txt"
   ]
  },
  {
   "cell_type": "markdown",
   "metadata": {},
   "source": [
    "### Cargamos las librerías necesarias y el dataset para realizar el análisis:"
   ]
  },
  {
   "cell_type": "code",
   "execution_count": 210,
   "metadata": {
    "collapsed": true
   },
   "outputs": [],
   "source": [
    "import glob\n",
    "from os.path import basename\n",
    "from datetime import datetime as dt\n",
    "import pandas as pd\n",
    "import numpy as np\n",
    "import matplotlib.pyplot as plt\n",
    "import seaborn as sns\n",
    "%matplotlib inline"
   ]
  },
  {
   "cell_type": "markdown",
   "metadata": {},
   "source": [
    "Para este análisis nos vamos a centrar en los datos finales de cada partido, eliminando las columnas que tienen que ver con apuestas.\n",
    "\n",
    "Como los datos vienen separados por temporada, juntamos los dataset en un único dataframe que será el que utilizaremos para el análisis."
   ]
  },
  {
   "cell_type": "code",
   "execution_count": 3,
   "metadata": {
    "collapsed": false
   },
   "outputs": [
    {
     "data": {
      "text/html": [
       "<div>\n",
       "<table border=\"1\" class=\"dataframe\">\n",
       "  <thead>\n",
       "    <tr style=\"text-align: right;\">\n",
       "      <th></th>\n",
       "      <th>Div</th>\n",
       "      <th>Season</th>\n",
       "      <th>Date</th>\n",
       "      <th>HomeTeam</th>\n",
       "      <th>AwayTeam</th>\n",
       "      <th>FTHG</th>\n",
       "      <th>FTAG</th>\n",
       "      <th>FTR</th>\n",
       "      <th>HTHG</th>\n",
       "      <th>HTAG</th>\n",
       "      <th>...</th>\n",
       "      <th>HST</th>\n",
       "      <th>AST</th>\n",
       "      <th>HF</th>\n",
       "      <th>AF</th>\n",
       "      <th>HC</th>\n",
       "      <th>AC</th>\n",
       "      <th>HY</th>\n",
       "      <th>AY</th>\n",
       "      <th>HR</th>\n",
       "      <th>AR</th>\n",
       "    </tr>\n",
       "  </thead>\n",
       "  <tbody>\n",
       "    <tr>\n",
       "      <th>0</th>\n",
       "      <td>SP1</td>\n",
       "      <td>2006-2007</td>\n",
       "      <td>2006-08-26</td>\n",
       "      <td>Valencia</td>\n",
       "      <td>Betis</td>\n",
       "      <td>2</td>\n",
       "      <td>1</td>\n",
       "      <td>H</td>\n",
       "      <td>1</td>\n",
       "      <td>0</td>\n",
       "      <td>...</td>\n",
       "      <td>4</td>\n",
       "      <td>5</td>\n",
       "      <td>18</td>\n",
       "      <td>26</td>\n",
       "      <td>5</td>\n",
       "      <td>6</td>\n",
       "      <td>3</td>\n",
       "      <td>3</td>\n",
       "      <td>0</td>\n",
       "      <td>0</td>\n",
       "    </tr>\n",
       "    <tr>\n",
       "      <th>1</th>\n",
       "      <td>SP1</td>\n",
       "      <td>2006-2007</td>\n",
       "      <td>2006-08-27</td>\n",
       "      <td>Ath Bilbao</td>\n",
       "      <td>Sociedad</td>\n",
       "      <td>1</td>\n",
       "      <td>1</td>\n",
       "      <td>D</td>\n",
       "      <td>1</td>\n",
       "      <td>0</td>\n",
       "      <td>...</td>\n",
       "      <td>2</td>\n",
       "      <td>4</td>\n",
       "      <td>19</td>\n",
       "      <td>23</td>\n",
       "      <td>4</td>\n",
       "      <td>2</td>\n",
       "      <td>2</td>\n",
       "      <td>4</td>\n",
       "      <td>0</td>\n",
       "      <td>0</td>\n",
       "    </tr>\n",
       "    <tr>\n",
       "      <th>2</th>\n",
       "      <td>SP1</td>\n",
       "      <td>2006-2007</td>\n",
       "      <td>2006-08-27</td>\n",
       "      <td>Espanol</td>\n",
       "      <td>Gimnastic</td>\n",
       "      <td>0</td>\n",
       "      <td>1</td>\n",
       "      <td>A</td>\n",
       "      <td>0</td>\n",
       "      <td>0</td>\n",
       "      <td>...</td>\n",
       "      <td>6</td>\n",
       "      <td>7</td>\n",
       "      <td>25</td>\n",
       "      <td>27</td>\n",
       "      <td>6</td>\n",
       "      <td>7</td>\n",
       "      <td>2</td>\n",
       "      <td>3</td>\n",
       "      <td>0</td>\n",
       "      <td>0</td>\n",
       "    </tr>\n",
       "    <tr>\n",
       "      <th>3</th>\n",
       "      <td>SP1</td>\n",
       "      <td>2006-2007</td>\n",
       "      <td>2006-08-27</td>\n",
       "      <td>La Coruna</td>\n",
       "      <td>Zaragoza</td>\n",
       "      <td>3</td>\n",
       "      <td>2</td>\n",
       "      <td>H</td>\n",
       "      <td>2</td>\n",
       "      <td>1</td>\n",
       "      <td>...</td>\n",
       "      <td>6</td>\n",
       "      <td>6</td>\n",
       "      <td>22</td>\n",
       "      <td>19</td>\n",
       "      <td>1</td>\n",
       "      <td>6</td>\n",
       "      <td>4</td>\n",
       "      <td>4</td>\n",
       "      <td>0</td>\n",
       "      <td>1</td>\n",
       "    </tr>\n",
       "    <tr>\n",
       "      <th>4</th>\n",
       "      <td>SP1</td>\n",
       "      <td>2006-2007</td>\n",
       "      <td>2006-08-27</td>\n",
       "      <td>Osasuna</td>\n",
       "      <td>Getafe</td>\n",
       "      <td>0</td>\n",
       "      <td>2</td>\n",
       "      <td>A</td>\n",
       "      <td>0</td>\n",
       "      <td>0</td>\n",
       "      <td>...</td>\n",
       "      <td>7</td>\n",
       "      <td>2</td>\n",
       "      <td>26</td>\n",
       "      <td>22</td>\n",
       "      <td>6</td>\n",
       "      <td>1</td>\n",
       "      <td>5</td>\n",
       "      <td>4</td>\n",
       "      <td>0</td>\n",
       "      <td>0</td>\n",
       "    </tr>\n",
       "  </tbody>\n",
       "</table>\n",
       "<p>5 rows × 23 columns</p>\n",
       "</div>"
      ],
      "text/plain": [
       "   Div     Season       Date    HomeTeam   AwayTeam  FTHG  FTAG FTR  HTHG  \\\n",
       "0  SP1  2006-2007 2006-08-26    Valencia      Betis     2     1   H     1   \n",
       "1  SP1  2006-2007 2006-08-27  Ath Bilbao   Sociedad     1     1   D     1   \n",
       "2  SP1  2006-2007 2006-08-27     Espanol  Gimnastic     0     1   A     0   \n",
       "3  SP1  2006-2007 2006-08-27   La Coruna   Zaragoza     3     2   H     2   \n",
       "4  SP1  2006-2007 2006-08-27     Osasuna     Getafe     0     2   A     0   \n",
       "\n",
       "   HTAG ... HST  AST  HF  AF  HC  AC  HY  AY  HR  AR  \n",
       "0     0 ...   4    5  18  26   5   6   3   3   0   0  \n",
       "1     0 ...   2    4  19  23   4   2   2   4   0   0  \n",
       "2     0 ...   6    7  25  27   6   7   2   3   0   0  \n",
       "3     1 ...   6    6  22  19   1   6   4   4   0   1  \n",
       "4     0 ...   7    2  26  22   6   1   5   4   0   0  \n",
       "\n",
       "[5 rows x 23 columns]"
      ]
     },
     "execution_count": 3,
     "metadata": {},
     "output_type": "execute_result"
    }
   ],
   "source": [
    "# Leemos el directorio donde se encuentran todas las temporadas\n",
    "allFiles = glob.glob(\"data/*.csv\")\n",
    "data = pd.DataFrame()\n",
    "list_ = []\n",
    "for file_ in allFiles:\n",
    "    df = pd.read_csv(file_,index_col=None, header=0)\n",
    "    #Añadimos la temporada a la que corresponde el partido\n",
    "    df.insert(1, 'Season', basename(file_)[0:9])\n",
    "    # Eliminamos las columnas de apuestas\n",
    "    list_.append(df.iloc[:,0:23])\n",
    "    # Añadimos el dataset al dataframe final\n",
    "    data = pd.concat(list_)\n",
    "\n",
    "#Transformamos la fecha a un formato legible\n",
    "data.Date = pd.to_datetime(data.Date, format='%d/%m/%y')\n",
    "\n",
    "# El dataframe nos queda de la siguiente forma\n",
    "data = data.reset_index().drop('index', axis=1)\n",
    "\n",
    "data.head(5)"
   ]
  },
  {
   "cell_type": "markdown",
   "metadata": {},
   "source": [
    "### Descripción de los campos"
   ]
  },
  {
   "cell_type": "markdown",
   "metadata": {},
   "source": [
    "Results Data\n",
    "+ Div = League Division\n",
    "+ Date = Match Date (dd/mm/yy)\n",
    "+ HomeTeam = Home Team\n",
    "+ AwayTeam = Away Team\n",
    "+ FTHG = Full Time Home Team Goals\n",
    "+ FTAG = Full Time Away Team Goals\n",
    "+ FTR = Full Time Result (H=Home Win, D=Draw, A=Away Win)\n",
    "+ HTHG = Half Time Home Team Goals\n",
    "+ HTAG = Half Time Away Team Goals\n",
    "+ HTR = Half Time Result (H=Home Win, D=Draw, A=Away Win)\n",
    "\n",
    "Match Statistics (where available)\n",
    "+ HS = Home Team Shots\n",
    "+ AS = Away Team Shots\n",
    "+ HST = Home Team Shots on Target\n",
    "+ AST = Away Team Shots on Target\n",
    "+ HHW = Home Team Hit Woodwork\n",
    "+ AHW = Away Team Hit Woodwork\n",
    "+ HC = Home Team Corners\n",
    "+ AC = Away Team Corners\n",
    "+ HF = Home Team Fouls Committed\n",
    "+ AF = Away Team Fouls Committed\n",
    "+ HO = Home Team Offsides\n",
    "+ AO = Away Team Offsides\n",
    "+ HY = Home Team Yellow Cards\n",
    "+ AY = Away Team Yellow Cards\n",
    "+ HR = Home Team Red Cards\n",
    "+ AR = Away Team Red Cards"
   ]
  },
  {
   "cell_type": "markdown",
   "metadata": {},
   "source": [
    "### Echamos un rápido vistazo a los datos de los que disponemos"
   ]
  },
  {
   "cell_type": "markdown",
   "metadata": {},
   "source": [
    "Buscamos si hay algún dato nulo"
   ]
  },
  {
   "cell_type": "code",
   "execution_count": 4,
   "metadata": {
    "collapsed": false
   },
   "outputs": [
    {
     "data": {
      "text/plain": [
       "Div         False\n",
       "Season      False\n",
       "Date        False\n",
       "HomeTeam    False\n",
       "AwayTeam    False\n",
       "FTHG        False\n",
       "FTAG        False\n",
       "FTR         False\n",
       "HTHG        False\n",
       "HTAG        False\n",
       "HTR         False\n",
       "HS          False\n",
       "AS          False\n",
       "HST         False\n",
       "AST         False\n",
       "HF          False\n",
       "AF          False\n",
       "HC          False\n",
       "AC          False\n",
       "HY          False\n",
       "AY          False\n",
       "HR          False\n",
       "AR          False\n",
       "dtype: bool"
      ]
     },
     "execution_count": 4,
     "metadata": {},
     "output_type": "execute_result"
    }
   ],
   "source": [
    "data.isnull().any()"
   ]
  },
  {
   "cell_type": "markdown",
   "metadata": {},
   "source": [
    "Vemos de cuántos partidos disponemos para realizar el análisis"
   ]
  },
  {
   "cell_type": "code",
   "execution_count": 5,
   "metadata": {
    "collapsed": false
   },
   "outputs": [
    {
     "name": "stdout",
     "output_type": "stream",
     "text": [
      "Número de partidos disponibles: 3800\n"
     ]
    }
   ],
   "source": [
    "print 'Número de partidos disponibles:',len(data)"
   ]
  },
  {
   "cell_type": "markdown",
   "metadata": {},
   "source": [
    "Vemos una rápida descripción de los campos numéricos que tenemos disponibles"
   ]
  },
  {
   "cell_type": "code",
   "execution_count": 6,
   "metadata": {
    "collapsed": false
   },
   "outputs": [
    {
     "data": {
      "text/html": [
       "<div>\n",
       "<table border=\"1\" class=\"dataframe\">\n",
       "  <thead>\n",
       "    <tr style=\"text-align: right;\">\n",
       "      <th></th>\n",
       "      <th>FTHG</th>\n",
       "      <th>FTAG</th>\n",
       "      <th>HTHG</th>\n",
       "      <th>HTAG</th>\n",
       "      <th>HS</th>\n",
       "      <th>AS</th>\n",
       "      <th>HST</th>\n",
       "      <th>AST</th>\n",
       "      <th>HF</th>\n",
       "      <th>AF</th>\n",
       "      <th>HC</th>\n",
       "      <th>AC</th>\n",
       "      <th>HY</th>\n",
       "      <th>AY</th>\n",
       "      <th>HR</th>\n",
       "      <th>AR</th>\n",
       "    </tr>\n",
       "  </thead>\n",
       "  <tbody>\n",
       "    <tr>\n",
       "      <th>count</th>\n",
       "      <td>3800.000000</td>\n",
       "      <td>3800.000000</td>\n",
       "      <td>3800.000000</td>\n",
       "      <td>3800.000000</td>\n",
       "      <td>3800.000000</td>\n",
       "      <td>3800.000000</td>\n",
       "      <td>3800.000000</td>\n",
       "      <td>3800.000000</td>\n",
       "      <td>3800.000000</td>\n",
       "      <td>3800.000000</td>\n",
       "      <td>3800.000000</td>\n",
       "      <td>3800.000000</td>\n",
       "      <td>3800.000000</td>\n",
       "      <td>3800.000000</td>\n",
       "      <td>3800.000000</td>\n",
       "      <td>3800.000000</td>\n",
       "    </tr>\n",
       "    <tr>\n",
       "      <th>mean</th>\n",
       "      <td>1.596316</td>\n",
       "      <td>1.133947</td>\n",
       "      <td>0.714211</td>\n",
       "      <td>0.500526</td>\n",
       "      <td>14.052632</td>\n",
       "      <td>11.121842</td>\n",
       "      <td>5.106053</td>\n",
       "      <td>3.904474</td>\n",
       "      <td>15.432895</td>\n",
       "      <td>15.256579</td>\n",
       "      <td>6.025263</td>\n",
       "      <td>4.534474</td>\n",
       "      <td>2.440000</td>\n",
       "      <td>2.731316</td>\n",
       "      <td>0.150789</td>\n",
       "      <td>0.195263</td>\n",
       "    </tr>\n",
       "    <tr>\n",
       "      <th>std</th>\n",
       "      <td>1.362332</td>\n",
       "      <td>1.154642</td>\n",
       "      <td>0.874853</td>\n",
       "      <td>0.718279</td>\n",
       "      <td>5.084272</td>\n",
       "      <td>4.546985</td>\n",
       "      <td>2.708544</td>\n",
       "      <td>2.286663</td>\n",
       "      <td>4.832735</td>\n",
       "      <td>4.798955</td>\n",
       "      <td>2.993174</td>\n",
       "      <td>2.571304</td>\n",
       "      <td>1.463635</td>\n",
       "      <td>1.494807</td>\n",
       "      <td>0.390934</td>\n",
       "      <td>0.451698</td>\n",
       "    </tr>\n",
       "    <tr>\n",
       "      <th>min</th>\n",
       "      <td>0.000000</td>\n",
       "      <td>0.000000</td>\n",
       "      <td>0.000000</td>\n",
       "      <td>0.000000</td>\n",
       "      <td>1.000000</td>\n",
       "      <td>0.000000</td>\n",
       "      <td>0.000000</td>\n",
       "      <td>0.000000</td>\n",
       "      <td>0.000000</td>\n",
       "      <td>1.000000</td>\n",
       "      <td>0.000000</td>\n",
       "      <td>0.000000</td>\n",
       "      <td>0.000000</td>\n",
       "      <td>0.000000</td>\n",
       "      <td>0.000000</td>\n",
       "      <td>0.000000</td>\n",
       "    </tr>\n",
       "    <tr>\n",
       "      <th>25%</th>\n",
       "      <td>1.000000</td>\n",
       "      <td>0.000000</td>\n",
       "      <td>0.000000</td>\n",
       "      <td>0.000000</td>\n",
       "      <td>10.000000</td>\n",
       "      <td>8.000000</td>\n",
       "      <td>3.000000</td>\n",
       "      <td>2.000000</td>\n",
       "      <td>12.000000</td>\n",
       "      <td>12.000000</td>\n",
       "      <td>4.000000</td>\n",
       "      <td>3.000000</td>\n",
       "      <td>1.000000</td>\n",
       "      <td>2.000000</td>\n",
       "      <td>0.000000</td>\n",
       "      <td>0.000000</td>\n",
       "    </tr>\n",
       "    <tr>\n",
       "      <th>50%</th>\n",
       "      <td>1.000000</td>\n",
       "      <td>1.000000</td>\n",
       "      <td>1.000000</td>\n",
       "      <td>0.000000</td>\n",
       "      <td>14.000000</td>\n",
       "      <td>11.000000</td>\n",
       "      <td>5.000000</td>\n",
       "      <td>4.000000</td>\n",
       "      <td>15.000000</td>\n",
       "      <td>15.000000</td>\n",
       "      <td>6.000000</td>\n",
       "      <td>4.000000</td>\n",
       "      <td>2.000000</td>\n",
       "      <td>3.000000</td>\n",
       "      <td>0.000000</td>\n",
       "      <td>0.000000</td>\n",
       "    </tr>\n",
       "    <tr>\n",
       "      <th>75%</th>\n",
       "      <td>2.000000</td>\n",
       "      <td>2.000000</td>\n",
       "      <td>1.000000</td>\n",
       "      <td>1.000000</td>\n",
       "      <td>17.000000</td>\n",
       "      <td>14.000000</td>\n",
       "      <td>7.000000</td>\n",
       "      <td>5.000000</td>\n",
       "      <td>19.000000</td>\n",
       "      <td>18.000000</td>\n",
       "      <td>8.000000</td>\n",
       "      <td>6.000000</td>\n",
       "      <td>3.000000</td>\n",
       "      <td>4.000000</td>\n",
       "      <td>0.000000</td>\n",
       "      <td>0.000000</td>\n",
       "    </tr>\n",
       "    <tr>\n",
       "      <th>max</th>\n",
       "      <td>10.000000</td>\n",
       "      <td>8.000000</td>\n",
       "      <td>6.000000</td>\n",
       "      <td>5.000000</td>\n",
       "      <td>37.000000</td>\n",
       "      <td>39.000000</td>\n",
       "      <td>18.000000</td>\n",
       "      <td>16.000000</td>\n",
       "      <td>35.000000</td>\n",
       "      <td>36.000000</td>\n",
       "      <td>20.000000</td>\n",
       "      <td>17.000000</td>\n",
       "      <td>8.000000</td>\n",
       "      <td>9.000000</td>\n",
       "      <td>3.000000</td>\n",
       "      <td>4.000000</td>\n",
       "    </tr>\n",
       "  </tbody>\n",
       "</table>\n",
       "</div>"
      ],
      "text/plain": [
       "              FTHG         FTAG         HTHG         HTAG           HS  \\\n",
       "count  3800.000000  3800.000000  3800.000000  3800.000000  3800.000000   \n",
       "mean      1.596316     1.133947     0.714211     0.500526    14.052632   \n",
       "std       1.362332     1.154642     0.874853     0.718279     5.084272   \n",
       "min       0.000000     0.000000     0.000000     0.000000     1.000000   \n",
       "25%       1.000000     0.000000     0.000000     0.000000    10.000000   \n",
       "50%       1.000000     1.000000     1.000000     0.000000    14.000000   \n",
       "75%       2.000000     2.000000     1.000000     1.000000    17.000000   \n",
       "max      10.000000     8.000000     6.000000     5.000000    37.000000   \n",
       "\n",
       "                AS          HST          AST           HF           AF  \\\n",
       "count  3800.000000  3800.000000  3800.000000  3800.000000  3800.000000   \n",
       "mean     11.121842     5.106053     3.904474    15.432895    15.256579   \n",
       "std       4.546985     2.708544     2.286663     4.832735     4.798955   \n",
       "min       0.000000     0.000000     0.000000     0.000000     1.000000   \n",
       "25%       8.000000     3.000000     2.000000    12.000000    12.000000   \n",
       "50%      11.000000     5.000000     4.000000    15.000000    15.000000   \n",
       "75%      14.000000     7.000000     5.000000    19.000000    18.000000   \n",
       "max      39.000000    18.000000    16.000000    35.000000    36.000000   \n",
       "\n",
       "                HC           AC           HY           AY           HR  \\\n",
       "count  3800.000000  3800.000000  3800.000000  3800.000000  3800.000000   \n",
       "mean      6.025263     4.534474     2.440000     2.731316     0.150789   \n",
       "std       2.993174     2.571304     1.463635     1.494807     0.390934   \n",
       "min       0.000000     0.000000     0.000000     0.000000     0.000000   \n",
       "25%       4.000000     3.000000     1.000000     2.000000     0.000000   \n",
       "50%       6.000000     4.000000     2.000000     3.000000     0.000000   \n",
       "75%       8.000000     6.000000     3.000000     4.000000     0.000000   \n",
       "max      20.000000    17.000000     8.000000     9.000000     3.000000   \n",
       "\n",
       "                AR  \n",
       "count  3800.000000  \n",
       "mean      0.195263  \n",
       "std       0.451698  \n",
       "min       0.000000  \n",
       "25%       0.000000  \n",
       "50%       0.000000  \n",
       "75%       0.000000  \n",
       "max       4.000000  "
      ]
     },
     "execution_count": 6,
     "metadata": {},
     "output_type": "execute_result"
    }
   ],
   "source": [
    "data.describe()"
   ]
  },
  {
   "cell_type": "markdown",
   "metadata": {},
   "source": [
    "De esta primera rápida descripción podemos obtener:\n",
    "+ El equipo local marca más goles de media que el equipo visitante.\n",
    "+ El equipo local dispara más veces, y más veces a portería, de media que el equipo visitante."
   ]
  },
  {
   "cell_type": "markdown",
   "metadata": {},
   "source": [
    "### Análisis Local vs Visitante"
   ]
  },
  {
   "cell_type": "markdown",
   "metadata": {},
   "source": [
    "Primero, podemos ver una distribución acerca del lado que suele salir victorioso en el partido"
   ]
  },
  {
   "cell_type": "code",
   "execution_count": 7,
   "metadata": {
    "collapsed": false
   },
   "outputs": [
    {
     "data": {
      "text/plain": [
       "(0, 300)"
      ]
     },
     "execution_count": 7,
     "metadata": {},
     "output_type": "execute_result"
    },
    {
     "data": {
      "image/png": "[encoded data removed]",
      "text/plain": [
       "<matplotlib.figure.Figure at 0x7f1156c9d9d0>"
      ]
     },
     "metadata": {},
     "output_type": "display_data"
    }
   ],
   "source": [
    "# Especificamos los datos de los gráficos\n",
    "fig = plt.figure(figsize=(18,6), dpi=1600) \n",
    "alpha=alpha_scatterplot = 0.2 \n",
    "alpha_bar_chart = 0.55\n",
    "\n",
    "# Vamos a poner juntos quién va ganando a mitad de partido y quién gana\n",
    "ax = plt.subplot2grid((2,2),(0,0))\n",
    "ax = sns.countplot(x=\"HTR\", data=data, order=['H', 'D', 'A'])\n",
    "plt.title(\"Resultado a mitad del partido\")\n",
    "for p in ax.patches:\n",
    "    x=p.get_bbox().get_points()[:,0]\n",
    "    y=p.get_bbox().get_points()[1,1]\n",
    "    ax.annotate('{:.1f}%'.format(100.*y/len(data)), (x.mean(), y), \n",
    "            ha='center', va='bottom') # set the alignment of the text\n",
    "ax.set_ylim(0,len(data)/2)\n",
    "\n",
    "\n",
    "ax = plt.subplot2grid((2,2),(0,1))\n",
    "ax = sns.countplot(x=\"FTR\", data=data, order=['H', 'D', 'A'])\n",
    "plt.title(\"Resultado al final del partido\")    \n",
    "for p in ax.patches:\n",
    "    x=p.get_bbox().get_points()[:,0]\n",
    "    y=p.get_bbox().get_points()[1,1]\n",
    "    ax.annotate('{:.1f}%'.format(100.*y/len(data)), (x.mean(), y), \n",
    "            ha='center', va='bottom') # set the alignment of the text\n",
    "ax.set_ylim(0,len(data)/2)\n",
    "\n",
    "# Vemos los resultados finales separados por cada temporada\n",
    "ax = plt.subplot2grid((2,2),(1,0), colspan=2)\n",
    "ax = sns.countplot(x=\"Season\", hue=\"FTR\", data=data);\n",
    "plt.title(\"Resultado al final del partido separado por temporada\")\n",
    "ax.set_ylim(0,300)"
   ]
  },
  {
   "cell_type": "markdown",
   "metadata": {},
   "source": [
    "Observamos que cerca de la mitad de los partidos llegan al descanso con empate y, al final del partido, cerca de la mitad de las veces ganan los locales."
   ]
  },
  {
   "cell_type": "markdown",
   "metadata": {},
   "source": [
    "También podemos observar la efectividad de los equipos según el campo en el que juegan. Entendemos efectividad por la cantidad de tiros que son necesarios para anotar un gol."
   ]
  },
  {
   "cell_type": "code",
   "execution_count": 8,
   "metadata": {
    "collapsed": false
   },
   "outputs": [],
   "source": [
    "def calcAccuracyHome(row):\n",
    "    if row['HS'] == 0:\n",
    "        return float(0)\n",
    "    else:\n",
    "        return float(row['FTHG'])/float(row['HS'])\n",
    "\n",
    "def calcAccuracyAway(row):\n",
    "    if row['AS'] == 0:\n",
    "        return float(0)\n",
    "    else:\n",
    "        return float(row['FTAG'])/float(row['AS'])\n",
    "\n",
    "data['AccuracyHome'] = data.apply(calcAccuracyHome, axis=1)\n",
    "data['AccuracyAway'] = data.apply(calcAccuracyAway, axis=1)"
   ]
  },
  {
   "cell_type": "markdown",
   "metadata": {},
   "source": [
    "¿En qué campo los equipos son más efectivos?"
   ]
  },
  {
   "cell_type": "code",
   "execution_count": 19,
   "metadata": {
    "collapsed": false
   },
   "outputs": [
    {
     "data": {
      "text/plain": [
       "<matplotlib.text.Text at 0x7f1153b39b10>"
      ]
     },
     "execution_count": 19,
     "metadata": {},
     "output_type": "execute_result"
    },
    {
     "data": {
      "image/png": "[encoded data removed]",
      "text/plain": [
       "<matplotlib.figure.Figure at 0x7f11534a3fd0>"
      ]
     },
     "metadata": {},
     "output_type": "display_data"
    }
   ],
   "source": [
    "# Especificamos los datos de los gráficos\n",
    "fig = plt.figure(figsize=(18,6), dpi=1600) \n",
    "alpha=alpha_scatterplot = 0.2 \n",
    "alpha_bar_chart = 0.55\n",
    "\n",
    "# Vemos la efectividad media de los equipos que juegan como locales y los equipos que juegan como visitantes\n",
    "ax = data[['AccuracyHome','AccuracyAway']].mean().plot(kind='bar', color='c')\n",
    "ax.set_ylim(0,0.25)\n",
    "plt.title(\"Resultado a mitad del partido\")\n"
   ]
  },
  {
   "cell_type": "markdown",
   "metadata": {},
   "source": [
    "Según observamos, el campo en el que juega un equipo no influye a la hora de valorar su efectividad."
   ]
  },
  {
   "cell_type": "markdown",
   "metadata": {},
   "source": [
    "### Análisis de equipos"
   ]
  },
  {
   "cell_type": "markdown",
   "metadata": {},
   "source": [
    "Lo primero que vamos a hacer es ver qué equipos han participado en la Primera División durante los últimos 10 años. Como todas las temporadas tienen partidos de ida y vuelta, todos los equipos han debido jugar como local al menos una vez."
   ]
  },
  {
   "cell_type": "code",
   "execution_count": 10,
   "metadata": {
    "collapsed": false
   },
   "outputs": [],
   "source": [
    "# Cogemos todos los equipos que han jugado como locales y eliminamos los duplicados y agrupamos por temporada\n",
    "teams_season = data[['Season', 'HomeTeam']].drop_duplicates()\n",
    "\n",
    "#Estos son los equipos que han jugado en primera división durante los últimos 10 años.\n",
    "teams_season = teams_season.set_index(['Season', 'HomeTeam'])"
   ]
  },
  {
   "cell_type": "markdown",
   "metadata": {},
   "source": [
    "Guardamos el rendimiento de cada equipo en Primera División por temporada."
   ]
  },
  {
   "cell_type": "code",
   "execution_count": 224,
   "metadata": {
    "collapsed": false
   },
   "outputs": [
    {
     "data": {
      "text/html": [
       "<div>\n",
       "<table border=\"1\" class=\"dataframe\">\n",
       "  <thead>\n",
       "    <tr style=\"text-align: right;\">\n",
       "      <th></th>\n",
       "      <th></th>\n",
       "      <th>WinHome</th>\n",
       "      <th>DrawHome</th>\n",
       "      <th>LoseHome</th>\n",
       "      <th>WinAway</th>\n",
       "      <th>DrawAway</th>\n",
       "      <th>LoseAway</th>\n",
       "      <th>GoalsHome</th>\n",
       "      <th>GoalsAway</th>\n",
       "      <th>GReceivedHome</th>\n",
       "      <th>GReceivedAway</th>\n",
       "      <th>HomeShots</th>\n",
       "      <th>AwayShots</th>\n",
       "      <th>SeasonsInARow</th>\n",
       "      <th>Points</th>\n",
       "    </tr>\n",
       "    <tr>\n",
       "      <th>Season</th>\n",
       "      <th>HomeTeam</th>\n",
       "      <th></th>\n",
       "      <th></th>\n",
       "      <th></th>\n",
       "      <th></th>\n",
       "      <th></th>\n",
       "      <th></th>\n",
       "      <th></th>\n",
       "      <th></th>\n",
       "      <th></th>\n",
       "      <th></th>\n",
       "      <th></th>\n",
       "      <th></th>\n",
       "      <th></th>\n",
       "      <th></th>\n",
       "    </tr>\n",
       "  </thead>\n",
       "  <tbody>\n",
       "    <tr>\n",
       "      <th rowspan=\"5\" valign=\"top\">2006-2007</th>\n",
       "      <th>Valencia</th>\n",
       "      <td>14</td>\n",
       "      <td>2</td>\n",
       "      <td>3</td>\n",
       "      <td>6</td>\n",
       "      <td>4</td>\n",
       "      <td>9</td>\n",
       "      <td>40</td>\n",
       "      <td>17</td>\n",
       "      <td>16</td>\n",
       "      <td>26</td>\n",
       "      <td>252</td>\n",
       "      <td>188</td>\n",
       "      <td>1.0</td>\n",
       "      <td>66</td>\n",
       "    </tr>\n",
       "    <tr>\n",
       "      <th>Ath Bilbao</th>\n",
       "      <td>6</td>\n",
       "      <td>4</td>\n",
       "      <td>9</td>\n",
       "      <td>4</td>\n",
       "      <td>6</td>\n",
       "      <td>9</td>\n",
       "      <td>19</td>\n",
       "      <td>25</td>\n",
       "      <td>28</td>\n",
       "      <td>34</td>\n",
       "      <td>223</td>\n",
       "      <td>194</td>\n",
       "      <td>1.0</td>\n",
       "      <td>40</td>\n",
       "    </tr>\n",
       "    <tr>\n",
       "      <th>Espanol</th>\n",
       "      <td>7</td>\n",
       "      <td>6</td>\n",
       "      <td>6</td>\n",
       "      <td>5</td>\n",
       "      <td>7</td>\n",
       "      <td>7</td>\n",
       "      <td>26</td>\n",
       "      <td>20</td>\n",
       "      <td>27</td>\n",
       "      <td>26</td>\n",
       "      <td>240</td>\n",
       "      <td>166</td>\n",
       "      <td>1.0</td>\n",
       "      <td>49</td>\n",
       "    </tr>\n",
       "    <tr>\n",
       "      <th>La Coruna</th>\n",
       "      <td>9</td>\n",
       "      <td>4</td>\n",
       "      <td>6</td>\n",
       "      <td>3</td>\n",
       "      <td>7</td>\n",
       "      <td>9</td>\n",
       "      <td>19</td>\n",
       "      <td>13</td>\n",
       "      <td>16</td>\n",
       "      <td>29</td>\n",
       "      <td>259</td>\n",
       "      <td>210</td>\n",
       "      <td>1.0</td>\n",
       "      <td>47</td>\n",
       "    </tr>\n",
       "    <tr>\n",
       "      <th>Osasuna</th>\n",
       "      <td>6</td>\n",
       "      <td>6</td>\n",
       "      <td>7</td>\n",
       "      <td>7</td>\n",
       "      <td>1</td>\n",
       "      <td>11</td>\n",
       "      <td>26</td>\n",
       "      <td>25</td>\n",
       "      <td>24</td>\n",
       "      <td>25</td>\n",
       "      <td>277</td>\n",
       "      <td>188</td>\n",
       "      <td>1.0</td>\n",
       "      <td>46</td>\n",
       "    </tr>\n",
       "  </tbody>\n",
       "</table>\n",
       "</div>"
      ],
      "text/plain": [
       "                      WinHome  DrawHome  LoseHome  WinAway  DrawAway  \\\n",
       "Season    HomeTeam                                                     \n",
       "2006-2007 Valencia         14         2         3        6         4   \n",
       "          Ath Bilbao        6         4         9        4         6   \n",
       "          Espanol           7         6         6        5         7   \n",
       "          La Coruna         9         4         6        3         7   \n",
       "          Osasuna           6         6         7        7         1   \n",
       "\n",
       "                      LoseAway  GoalsHome  GoalsAway  GReceivedHome  \\\n",
       "Season    HomeTeam                                                    \n",
       "2006-2007 Valencia           9         40         17             16   \n",
       "          Ath Bilbao         9         19         25             28   \n",
       "          Espanol            7         26         20             27   \n",
       "          La Coruna          9         19         13             16   \n",
       "          Osasuna           11         26         25             24   \n",
       "\n",
       "                      GReceivedAway  HomeShots  AwayShots  SeasonsInARow  \\\n",
       "Season    HomeTeam                                                         \n",
       "2006-2007 Valencia               26        252        188            1.0   \n",
       "          Ath Bilbao             34        223        194            1.0   \n",
       "          Espanol                26        240        166            1.0   \n",
       "          La Coruna              29        259        210            1.0   \n",
       "          Osasuna                25        277        188            1.0   \n",
       "\n",
       "                      Points  \n",
       "Season    HomeTeam            \n",
       "2006-2007 Valencia        66  \n",
       "          Ath Bilbao      40  \n",
       "          Espanol         49  \n",
       "          La Coruna       47  \n",
       "          Osasuna         46  "
      ]
     },
     "execution_count": 224,
     "metadata": {},
     "output_type": "execute_result"
    }
   ],
   "source": [
    "teams_season.loc[:,'WinHome'] = 0\n",
    "teams_season.loc[:,'DrawHome'] = 0\n",
    "teams_season.loc[:,'LoseHome'] = 0\n",
    "teams_season.loc[:,'WinAway'] = 0\n",
    "teams_season.loc[:,'DrawAway'] = 0\n",
    "teams_season.loc[:,'LoseAway'] = 0\n",
    "teams_season.loc[:,'GoalsHome'] = 0\n",
    "teams_season.loc[:,'GoalsAway'] = 0\n",
    "teams_season.loc[:,'GReceivedHome'] = 0\n",
    "teams_season.loc[:,'GReceivedAway'] = 0\n",
    "teams_season.loc[:,'HomeShots'] = 0\n",
    "teams_season.loc[:,'AwayShots'] = 0\n",
    "\n",
    "for team in teams_season.index:\n",
    "    # Separamos los partidos jugados dentro de casa de los jugados fuera\n",
    "    matches_home = data[(data['HomeTeam']==team[1]) & (data['Season']==team[0])]\n",
    "    matches_away = data[(data['AwayTeam']==team[1]) & (data['Season']==team[0])]\n",
    "    # Anotamos las victorias\n",
    "    teams_season.loc[team, 'WinHome'] = len(matches_home[matches_home['FTHG']>matches_home['FTAG']])\n",
    "    teams_season.loc[team, 'WinAway'] = len(matches_away[matches_away['FTAG']>matches_away['FTHG']])\n",
    "    # Anotamos los empates\n",
    "    teams_season.loc[team, 'DrawHome'] = len(matches_home[matches_home['FTHG']==matches_home['FTAG']])\n",
    "    teams_season.loc[team, 'DrawAway'] = len(matches_away[matches_away['FTAG']==matches_away['FTHG']])\n",
    "    # Anotamos las derrotas\n",
    "    teams_season.loc[team, 'LoseHome'] = len(matches_home[matches_home['FTHG']<matches_home['FTAG']])\n",
    "    teams_season.loc[team, 'LoseAway'] = len(matches_away[matches_away['FTAG']<matches_away['FTHG']])\n",
    "    # Vemos cuántos goles han anotado\n",
    "    teams_season.loc[team, 'GoalsHome'] = matches_home['FTHG'].sum()\n",
    "    teams_season.loc[team, 'GReceivedHome'] = matches_home['FTAG'].sum()\n",
    "    teams_season.loc[team, 'GoalsAway'] = matches_away['FTAG'].sum()\n",
    "    teams_season.loc[team, 'GReceivedAway'] = matches_away['FTHG'].sum()\n",
    "    # Anotamos la eficiencia respecto a la cantidad de disparos realizados\n",
    "    teams_season.loc[team, 'HomeShots'] = matches_home['HS'].sum()\n",
    "    teams_season.loc[team, 'AwayShots'] = matches_away['AS'].sum()\n",
    "    \n",
    "# Anotamos los puntos conseguidos en dicha temporada\n",
    "teams_season.loc[:, 'Points']=3*(teams_season['WinHome']+teams_season['WinAway']) + (teams_season['DrawHome']+teams_season['DrawAway'])\n",
    "\n",
    "teams_season.head(5)"
   ]
  },
  {
   "cell_type": "markdown",
   "metadata": {},
   "source": [
    "Si agrupamos por equipo, tenemos las estadísticas de las últimas 10 temporadas por equipo."
   ]
  },
  {
   "cell_type": "code",
   "execution_count": 12,
   "metadata": {
    "collapsed": false
   },
   "outputs": [
    {
     "data": {
      "text/html": [
       "<div>\n",
       "<table border=\"1\" class=\"dataframe\">\n",
       "  <thead>\n",
       "    <tr style=\"text-align: right;\">\n",
       "      <th></th>\n",
       "      <th>WinHome</th>\n",
       "      <th>DrawHome</th>\n",
       "      <th>LoseHome</th>\n",
       "      <th>WinAway</th>\n",
       "      <th>DrawAway</th>\n",
       "      <th>LoseAway</th>\n",
       "      <th>GoalsHome</th>\n",
       "      <th>GoalsAway</th>\n",
       "      <th>GReceivedHome</th>\n",
       "      <th>GReceivedAway</th>\n",
       "      <th>HomeShots</th>\n",
       "      <th>AwayShots</th>\n",
       "    </tr>\n",
       "    <tr>\n",
       "      <th>HomeTeam</th>\n",
       "      <th></th>\n",
       "      <th></th>\n",
       "      <th></th>\n",
       "      <th></th>\n",
       "      <th></th>\n",
       "      <th></th>\n",
       "      <th></th>\n",
       "      <th></th>\n",
       "      <th></th>\n",
       "      <th></th>\n",
       "      <th></th>\n",
       "      <th></th>\n",
       "    </tr>\n",
       "  </thead>\n",
       "  <tbody>\n",
       "    <tr>\n",
       "      <th>Almeria</th>\n",
       "      <td>40</td>\n",
       "      <td>38</td>\n",
       "      <td>36</td>\n",
       "      <td>22</td>\n",
       "      <td>18</td>\n",
       "      <td>74</td>\n",
       "      <td>139</td>\n",
       "      <td>105</td>\n",
       "      <td>151</td>\n",
       "      <td>215</td>\n",
       "      <td>1399</td>\n",
       "      <td>1141</td>\n",
       "    </tr>\n",
       "    <tr>\n",
       "      <th>Ath Bilbao</th>\n",
       "      <td>93</td>\n",
       "      <td>43</td>\n",
       "      <td>54</td>\n",
       "      <td>52</td>\n",
       "      <td>49</td>\n",
       "      <td>89</td>\n",
       "      <td>291</td>\n",
       "      <td>208</td>\n",
       "      <td>218</td>\n",
       "      <td>299</td>\n",
       "      <td>2609</td>\n",
       "      <td>2050</td>\n",
       "    </tr>\n",
       "    <tr>\n",
       "      <th>Ath Madrid</th>\n",
       "      <td>123</td>\n",
       "      <td>32</td>\n",
       "      <td>35</td>\n",
       "      <td>80</td>\n",
       "      <td>43</td>\n",
       "      <td>67</td>\n",
       "      <td>386</td>\n",
       "      <td>250</td>\n",
       "      <td>170</td>\n",
       "      <td>237</td>\n",
       "      <td>2966</td>\n",
       "      <td>2311</td>\n",
       "    </tr>\n",
       "    <tr>\n",
       "      <th>Barcelona</th>\n",
       "      <td>159</td>\n",
       "      <td>19</td>\n",
       "      <td>12</td>\n",
       "      <td>116</td>\n",
       "      <td>44</td>\n",
       "      <td>30</td>\n",
       "      <td>582</td>\n",
       "      <td>421</td>\n",
       "      <td>125</td>\n",
       "      <td>183</td>\n",
       "      <td>3244</td>\n",
       "      <td>2781</td>\n",
       "    </tr>\n",
       "    <tr>\n",
       "      <th>Betis</th>\n",
       "      <td>42</td>\n",
       "      <td>42</td>\n",
       "      <td>49</td>\n",
       "      <td>34</td>\n",
       "      <td>32</td>\n",
       "      <td>67</td>\n",
       "      <td>160</td>\n",
       "      <td>146</td>\n",
       "      <td>170</td>\n",
       "      <td>230</td>\n",
       "      <td>1861</td>\n",
       "      <td>1428</td>\n",
       "    </tr>\n",
       "  </tbody>\n",
       "</table>\n",
       "</div>"
      ],
      "text/plain": [
       "            WinHome  DrawHome  LoseHome  WinAway  DrawAway  LoseAway  \\\n",
       "HomeTeam                                                               \n",
       "Almeria          40        38        36       22        18        74   \n",
       "Ath Bilbao       93        43        54       52        49        89   \n",
       "Ath Madrid      123        32        35       80        43        67   \n",
       "Barcelona       159        19        12      116        44        30   \n",
       "Betis            42        42        49       34        32        67   \n",
       "\n",
       "            GoalsHome  GoalsAway  GReceivedHome  GReceivedAway  HomeShots  \\\n",
       "HomeTeam                                                                    \n",
       "Almeria           139        105            151            215       1399   \n",
       "Ath Bilbao        291        208            218            299       2609   \n",
       "Ath Madrid        386        250            170            237       2966   \n",
       "Barcelona         582        421            125            183       3244   \n",
       "Betis             160        146            170            230       1861   \n",
       "\n",
       "            AwayShots  \n",
       "HomeTeam               \n",
       "Almeria          1141  \n",
       "Ath Bilbao       2050  \n",
       "Ath Madrid       2311  \n",
       "Barcelona        2781  \n",
       "Betis            1428  "
      ]
     },
     "execution_count": 12,
     "metadata": {},
     "output_type": "execute_result"
    }
   ],
   "source": [
    "teams_total = teams_season.reset_index().drop(['Season'], axis=1)\n",
    "teams_total = teams_total.groupby('HomeTeam').sum()\n",
    "teams_total.head(5)"
   ]
  },
  {
   "cell_type": "markdown",
   "metadata": {},
   "source": [
    "Vamos a hacer algunas gráficas que nos ayuden a comprender los datos."
   ]
  },
  {
   "cell_type": "markdown",
   "metadata": {},
   "source": [
    "Para ello, vamos a añadir algunos campos al dataframe que nos van a ayudar al análisis:\n",
    "+ Puntos: es la mejor forma de entender el rendimiento del equipo.\n",
    "+ Goles: suma de los goles conseguidos.\n",
    "+ Tiros: suma de los tiros realizados.\n",
    "+ Eficiencia: cantidad de tiros que necesita el equipo para lograr un gol."
   ]
  },
  {
   "cell_type": "code",
   "execution_count": 137,
   "metadata": {
    "collapsed": false
   },
   "outputs": [],
   "source": [
    "# Creamos un dataframe auxiliar que nos va a ayudar a dibujar los datos que queremos\n",
    "aux = pd.DataFrame(index=teams_total.index, columns=None)\n",
    "\n",
    "aux.loc[:,'Points'] = 3*(teams_total['WinHome']+teams_total['WinAway'])+1*(teams_total['DrawHome']+teams_total['DrawAway'])\n",
    "aux.loc[:,'Wins'] = teams_total['WinHome']+teams_total['WinAway']\n",
    "aux.loc[:,'Goals'] = teams_total['GoalsHome']+teams_total['GoalsAway']\n",
    "aux.loc[:,'GoalsReceived'] = teams_total['GReceivedHome']+teams_total['GReceivedAway']\n",
    "aux.loc[:,'Shots'] = teams_total['HomeShots']+teams_total['AwayShots']\n",
    "aux.loc[:,'Accuracy'] = aux['Goals']/aux['Shots']"
   ]
  },
  {
   "cell_type": "markdown",
   "metadata": {},
   "source": [
    "Vamos a graficar los datos."
   ]
  },
  {
   "cell_type": "code",
   "execution_count": 138,
   "metadata": {
    "collapsed": false
   },
   "outputs": [
    {
     "data": {
      "image/png": "[encoded data removed]",
      "text/plain": [
       "<matplotlib.figure.Figure at 0x7f115134b650>"
      ]
     },
     "metadata": {},
     "output_type": "display_data"
    }
   ],
   "source": [
    "# Especificamos los datos de los gráficos\n",
    "fig = plt.figure(figsize=(18,20)) \n",
    "alpha=alpha_scatterplot = 0.2 \n",
    "alpha_bar_chart = 0.55\n",
    "\n",
    "\n",
    "# Máximos anotadores\n",
    "ax = plt.subplot2grid((3,1),(0,0))\n",
    "aux_sort = aux.sort_values('Goals')\n",
    "ax = aux_sort['Goals'].tail(10).plot(kind='barh', title=\"Los 10 equipos mas goleadores\", color='m', alpha=0.55)\n",
    "\n",
    "\n",
    "# Más eficientes\n",
    "ax = plt.subplot2grid((3,1),(1,0))\n",
    "aux_sort = aux.sort_values('Accuracy')\n",
    "ax = aux_sort['Accuracy'].tail(10).plot(kind='barh', xlim=(0,0.25), color='y',\n",
    "                                        title=\"Los 10 equipos mas eficientes de cara a porteria\", alpha=0.55)\n",
    "\n",
    "# Más puntos conseguidos\n",
    "ax = plt.subplot2grid((3,1),(2,0))\n",
    "aux_sort = aux.sort_values('Points')\n",
    "ax = aux_sort['Points'].tail(10).plot(kind='barh', title=\"Los 10 equipos con mas puntos\", color='g', alpha=0.55)"
   ]
  },
  {
   "cell_type": "markdown",
   "metadata": {},
   "source": [
    "Como podemos observar, parece que hay una relación entre el número de goles anotados y la cantidad de puntos conseguidos por un equipo. Vamos a comprobar esta afirmación."
   ]
  },
  {
   "cell_type": "code",
   "execution_count": 69,
   "metadata": {
    "collapsed": false
   },
   "outputs": [
    {
     "data": {
      "text/html": [
       "<div>\n",
       "<table border=\"1\" class=\"dataframe\">\n",
       "  <thead>\n",
       "    <tr style=\"text-align: right;\">\n",
       "      <th></th>\n",
       "      <th>Points</th>\n",
       "      <th>Wins</th>\n",
       "      <th>Goals</th>\n",
       "      <th>GoalsReceived</th>\n",
       "      <th>Shots</th>\n",
       "      <th>Accuracy</th>\n",
       "    </tr>\n",
       "  </thead>\n",
       "  <tbody>\n",
       "    <tr>\n",
       "      <th>Points</th>\n",
       "      <td>1.000000</td>\n",
       "      <td>0.995430</td>\n",
       "      <td>0.990650</td>\n",
       "      <td>0.754524</td>\n",
       "      <td>0.976893</td>\n",
       "      <td>0.782627</td>\n",
       "    </tr>\n",
       "    <tr>\n",
       "      <th>Wins</th>\n",
       "      <td>0.995430</td>\n",
       "      <td>1.000000</td>\n",
       "      <td>0.995770</td>\n",
       "      <td>0.695124</td>\n",
       "      <td>0.956907</td>\n",
       "      <td>0.814276</td>\n",
       "    </tr>\n",
       "    <tr>\n",
       "      <th>Goals</th>\n",
       "      <td>0.990650</td>\n",
       "      <td>0.995770</td>\n",
       "      <td>1.000000</td>\n",
       "      <td>0.691555</td>\n",
       "      <td>0.955806</td>\n",
       "      <td>0.821125</td>\n",
       "    </tr>\n",
       "    <tr>\n",
       "      <th>GoalsReceived</th>\n",
       "      <td>0.754524</td>\n",
       "      <td>0.695124</td>\n",
       "      <td>0.691555</td>\n",
       "      <td>1.000000</td>\n",
       "      <td>0.864060</td>\n",
       "      <td>0.333803</td>\n",
       "    </tr>\n",
       "    <tr>\n",
       "      <th>Shots</th>\n",
       "      <td>0.976893</td>\n",
       "      <td>0.956907</td>\n",
       "      <td>0.955806</td>\n",
       "      <td>0.864060</td>\n",
       "      <td>1.000000</td>\n",
       "      <td>0.674434</td>\n",
       "    </tr>\n",
       "    <tr>\n",
       "      <th>Accuracy</th>\n",
       "      <td>0.782627</td>\n",
       "      <td>0.814276</td>\n",
       "      <td>0.821125</td>\n",
       "      <td>0.333803</td>\n",
       "      <td>0.674434</td>\n",
       "      <td>1.000000</td>\n",
       "    </tr>\n",
       "  </tbody>\n",
       "</table>\n",
       "</div>"
      ],
      "text/plain": [
       "                 Points      Wins     Goals  GoalsReceived     Shots  Accuracy\n",
       "Points         1.000000  0.995430  0.990650       0.754524  0.976893  0.782627\n",
       "Wins           0.995430  1.000000  0.995770       0.695124  0.956907  0.814276\n",
       "Goals          0.990650  0.995770  1.000000       0.691555  0.955806  0.821125\n",
       "GoalsReceived  0.754524  0.695124  0.691555       1.000000  0.864060  0.333803\n",
       "Shots          0.976893  0.956907  0.955806       0.864060  1.000000  0.674434\n",
       "Accuracy       0.782627  0.814276  0.821125       0.333803  0.674434  1.000000"
      ]
     },
     "execution_count": 69,
     "metadata": {},
     "output_type": "execute_result"
    }
   ],
   "source": [
    "# Matriz de correlación\n",
    "aux.corr()"
   ]
  },
  {
   "cell_type": "markdown",
   "metadata": {},
   "source": [
    "De esta forma es más complicado de leer. Vamos a visualizarlo de forma gráfica."
   ]
  },
  {
   "cell_type": "code",
   "execution_count": 74,
   "metadata": {
    "collapsed": false
   },
   "outputs": [
    {
     "data": {
      "text/plain": [
       "<matplotlib.axes._subplots.AxesSubplot at 0x7f11525c5450>"
      ]
     },
     "execution_count": 74,
     "metadata": {},
     "output_type": "execute_result"
    },
    {
     "data": {
      "image/png": "[encoded data removed]",
      "text/plain": [
       "<matplotlib.figure.Figure at 0x7f1152712dd0>"
      ]
     },
     "metadata": {},
     "output_type": "display_data"
    }
   ],
   "source": [
    "data_corr = aux.corr()\n",
    "# Ocultar un el triángulo superior de la diagonal\n",
    "mask = np.zeros_like(data_corr, dtype=np.bool)\n",
    "mask[np.triu_indices_from(mask)] = True\n",
    "\n",
    "# Crear el área del gráfico\n",
    "f, ax = plt.subplots(figsize=(11, 9))\n",
    "sns.plt.title('Correlaciones entre rendimientos diarios')\n",
    "\n",
    "# Crear la paleta de color\n",
    "cmap = sns.diverging_palette(220, 10, as_cmap=True)\n",
    "\n",
    "# Dibujar el mapa de calor. \n",
    "sns.heatmap(data_corr, mask=mask, cmap=cmap, square=True,\n",
    "            linewidths=.5, cbar_kws={\"shrink\": .5}, ax=ax)"
   ]
  },
  {
   "cell_type": "markdown",
   "metadata": {},
   "source": [
    "Vemos que, efectivamente, existe una fuerte correlación entre los puntos conseguidos y la cantidad de goles anotados. \n",
    "\n",
    "Asimismo, podemos ver que también hay relación entre la cantidad de disparos realizados con la cantidad de puntos conseguidos."
   ]
  },
  {
   "cell_type": "markdown",
   "metadata": {},
   "source": [
    "Vamos a verlo gráficamente."
   ]
  },
  {
   "cell_type": "code",
   "execution_count": 134,
   "metadata": {
    "collapsed": false
   },
   "outputs": [
    {
     "data": {
      "image/png": "[encoded data removed]",
      "text/plain": [
       "<matplotlib.figure.Figure at 0x7f1150ff9810>"
      ]
     },
     "metadata": {},
     "output_type": "display_data"
    }
   ],
   "source": [
    "# Relación entre goles y puntos\n",
    "ax = aux.plot.scatter(x='Goals', y='Points', s=300, alpha=0.65, figsize=(12,10),\n",
    "                title='Relacion entre goles y puntos', c='c')"
   ]
  },
  {
   "cell_type": "code",
   "execution_count": 154,
   "metadata": {
    "collapsed": false
   },
   "outputs": [
    {
     "data": {
      "image/png": "[encoded data removed]",
      "text/plain": [
       "<matplotlib.figure.Figure at 0x7f1151180d90>"
      ]
     },
     "metadata": {},
     "output_type": "display_data"
    }
   ],
   "source": [
    "# Relación entre goles recibidos y puntos\n",
    "ax = aux.plot.scatter(x='GoalsReceived', y='Points', s=300, alpha=0.65, figsize=(12,10),\n",
    "                title='Relacion entre goles recibidos y puntos', c='c')"
   ]
  },
  {
   "cell_type": "markdown",
   "metadata": {},
   "source": [
    "Vemos que hay una relación casi directa entre el número de goles anotados y la cantidad de puntos conseguidos. No obstante, no hay mucha relación entre los puntos con los goles recibidos.\n",
    "\n",
    "Así, podemos inferir que para conseguir puntos no es tan importante recibir goles como anotarlos."
   ]
  },
  {
   "cell_type": "code",
   "execution_count": 159,
   "metadata": {
    "collapsed": false
   },
   "outputs": [
    {
     "data": {
      "image/png": "[encoded data removed]",
      "text/plain": [
       "<matplotlib.figure.Figure at 0x7f1150d0cf50>"
      ]
     },
     "metadata": {},
     "output_type": "display_data"
    }
   ],
   "source": [
    "# Relación entre eficiencia y puntos\n",
    "ax = aux.plot.scatter(x='Shots', y='Points', s=200, alpha=0.65, figsize=(12,10), c='y',\n",
    "                title='Relacion entre disparos y puntos')"
   ]
  },
  {
   "cell_type": "code",
   "execution_count": 161,
   "metadata": {
    "collapsed": false
   },
   "outputs": [
    {
     "data": {
      "image/png": "[encoded data removed]",
      "text/plain": [
       "<matplotlib.figure.Figure at 0x7f114f253850>"
      ]
     },
     "metadata": {},
     "output_type": "display_data"
    }
   ],
   "source": [
    "# Relación entre eficiencia y puntos\n",
    "ax = aux.plot.scatter(x='Accuracy', y='Points', s=200, alpha=0.65, figsize=(12,10), c='y',\n",
    "                title='Relacion entre eficiencia y puntos')"
   ]
  },
  {
   "cell_type": "markdown",
   "metadata": {},
   "source": [
    "Vemos que hay una relación casi directa entre el número de disparos y la cantidad de puntos. No obstante, no vemos tanta relación con la eficiencia de esos disparos."
   ]
  },
  {
   "cell_type": "markdown",
   "metadata": {},
   "source": [
    "### Regresión lineal"
   ]
  },
  {
   "cell_type": "markdown",
   "metadata": {},
   "source": [
    "Vamos a aplicar una regresión lineal a las variables definidas anteriormente. Estimamos los puntos conseguidos a través de la cantidad de goles anotados."
   ]
  },
  {
   "cell_type": "code",
   "execution_count": 206,
   "metadata": {
    "collapsed": false
   },
   "outputs": [
    {
     "data": {
      "text/html": [
       "<table class=\"simpletable\">\n",
       "<caption>OLS Regression Results</caption>\n",
       "<tr>\n",
       "  <th>Dep. Variable:</th>         <td>Points</td>      <th>  R-squared:         </th> <td>   0.981</td>\n",
       "</tr>\n",
       "<tr>\n",
       "  <th>Model:</th>                   <td>OLS</td>       <th>  Adj. R-squared:    </th> <td>   0.981</td>\n",
       "</tr>\n",
       "<tr>\n",
       "  <th>Method:</th>             <td>Least Squares</td>  <th>  F-statistic:       </th> <td>   1740.</td>\n",
       "</tr>\n",
       "<tr>\n",
       "  <th>Date:</th>             <td>Mon, 14 Nov 2016</td> <th>  Prob (F-statistic):</th> <td>3.94e-30</td>\n",
       "</tr>\n",
       "<tr>\n",
       "  <th>Time:</th>                 <td>20:56:59</td>     <th>  Log-Likelihood:    </th> <td> -171.23</td>\n",
       "</tr>\n",
       "<tr>\n",
       "  <th>No. Observations:</th>      <td>    35</td>      <th>  AIC:               </th> <td>   346.5</td>\n",
       "</tr>\n",
       "<tr>\n",
       "  <th>Df Residuals:</th>          <td>    33</td>      <th>  BIC:               </th> <td>   349.6</td>\n",
       "</tr>\n",
       "<tr>\n",
       "  <th>Df Model:</th>              <td>     1</td>      <th>                     </th>     <td> </td>   \n",
       "</tr>\n",
       "<tr>\n",
       "  <th>Covariance Type:</th>      <td>nonrobust</td>    <th>                     </th>     <td> </td>   \n",
       "</tr>\n",
       "</table>\n",
       "<table class=\"simpletable\">\n",
       "<tr>\n",
       "      <td></td>         <th>coef</th>     <th>std err</th>      <th>t</th>      <th>P>|t|</th> <th>[95.0% Conf. Int.]</th> \n",
       "</tr>\n",
       "<tr>\n",
       "  <th>Intercept</th> <td>   18.4750</td> <td>    8.784</td> <td>    2.103</td> <td> 0.043</td> <td>    0.603    36.347</td>\n",
       "</tr>\n",
       "<tr>\n",
       "  <th>Goals</th>     <td>    0.9508</td> <td>    0.023</td> <td>   41.713</td> <td> 0.000</td> <td>    0.904     0.997</td>\n",
       "</tr>\n",
       "</table>\n",
       "<table class=\"simpletable\">\n",
       "<tr>\n",
       "  <th>Omnibus:</th>       <td> 3.089</td> <th>  Durbin-Watson:     </th> <td>   2.558</td>\n",
       "</tr>\n",
       "<tr>\n",
       "  <th>Prob(Omnibus):</th> <td> 0.213</td> <th>  Jarque-Bera (JB):  </th> <td>   1.952</td>\n",
       "</tr>\n",
       "<tr>\n",
       "  <th>Skew:</th>          <td>-0.265</td> <th>  Prob(JB):          </th> <td>   0.377</td>\n",
       "</tr>\n",
       "<tr>\n",
       "  <th>Kurtosis:</th>      <td> 4.029</td> <th>  Cond. No.          </th> <td>    603.</td>\n",
       "</tr>\n",
       "</table>"
      ],
      "text/plain": [
       "<class 'statsmodels.iolib.summary.Summary'>\n",
       "\"\"\"\n",
       "                            OLS Regression Results                            \n",
       "==============================================================================\n",
       "Dep. Variable:                 Points   R-squared:                       0.981\n",
       "Model:                            OLS   Adj. R-squared:                  0.981\n",
       "Method:                 Least Squares   F-statistic:                     1740.\n",
       "Date:                Mon, 14 Nov 2016   Prob (F-statistic):           3.94e-30\n",
       "Time:                        20:56:59   Log-Likelihood:                -171.23\n",
       "No. Observations:                  35   AIC:                             346.5\n",
       "Df Residuals:                      33   BIC:                             349.6\n",
       "Df Model:                           1                                         \n",
       "Covariance Type:            nonrobust                                         \n",
       "==============================================================================\n",
       "                 coef    std err          t      P>|t|      [95.0% Conf. Int.]\n",
       "------------------------------------------------------------------------------\n",
       "Intercept     18.4750      8.784      2.103      0.043         0.603    36.347\n",
       "Goals          0.9508      0.023     41.713      0.000         0.904     0.997\n",
       "==============================================================================\n",
       "Omnibus:                        3.089   Durbin-Watson:                   2.558\n",
       "Prob(Omnibus):                  0.213   Jarque-Bera (JB):                1.952\n",
       "Skew:                          -0.265   Prob(JB):                        0.377\n",
       "Kurtosis:                       4.029   Cond. No.                         603.\n",
       "==============================================================================\n",
       "\n",
       "Warnings:\n",
       "[1] Standard Errors assume that the covariance matrix of the errors is correctly specified.\n",
       "\"\"\""
      ]
     },
     "execution_count": 206,
     "metadata": {},
     "output_type": "execute_result"
    }
   ],
   "source": [
    "import statsmodels.formula.api as smf\n",
    "import statsmodels.api as sm\n",
    "\n",
    "# utilizando la api de formula de statsmodels\n",
    "est = smf.ols(formula='Points ~ Goals', data=aux).fit()\n",
    "est.summary() \n",
    "# Points se estima en base a Goals.\n"
   ]
  },
  {
   "cell_type": "markdown",
   "metadata": {},
   "source": [
    "### Análisis de temporadas consecutivas"
   ]
  },
  {
   "cell_type": "markdown",
   "metadata": {},
   "source": [
    "Hasta ahora hemos analizado cómo afecta al resultado de un partido el campo en el que se juega. También, hemos analizado cómo afectan a los puntos conseguidos la cantidad de goles anotados, eficiencia de cara a portería o los disparos realizados."
   ]
  },
  {
   "cell_type": "markdown",
   "metadata": {},
   "source": [
    "En este punto, queremos analizar si el número de temporadas que lleva un equipo en Primera División afecta a sus posibilidades de ganar puntos que le permitan estar un año más entre los mejores equipos.\n",
    "\n",
    "(Vamos a suponer que la liga empezó en la temporada 2006-2007 y que todos los equipos acaban de llegar a Primera División)"
   ]
  },
  {
   "cell_type": "code",
   "execution_count": 225,
   "metadata": {
    "collapsed": false
   },
   "outputs": [
    {
     "data": {
      "text/plain": [
       "Season     HomeTeam  \n",
       "2015-2016  Eibar          2.0\n",
       "           Getafe        10.0\n",
       "           Las Palmas     1.0\n",
       "           Sevilla       10.0\n",
       "           Valencia      10.0\n",
       "Name: SeasonsInARow, dtype: float64"
      ]
     },
     "execution_count": 225,
     "metadata": {},
     "output_type": "execute_result"
    }
   ],
   "source": [
    "# Creamos un dataframe auxiliar\n",
    "aux2 = teams_season.reset_index()\n",
    "\n",
    "# Añadimos un atributo que nos indique el número de temporadas consecutivas que lleva el equipo en Primera.\n",
    "for team in aux2['HomeTeam'].drop_duplicates():\n",
    "    seasonsConsecutive = 0\n",
    "    for season in aux2['Season'].drop_duplicates():\n",
    "        if team in aux2[aux2.Season==season]['HomeTeam'].tolist():\n",
    "            seasonsConsecutive = seasonsConsecutive + 1\n",
    "            teams_season.loc[(season,team),'SeasonsInARow']=seasonsConsecutive\n",
    "        else:\n",
    "            seasonsConsecutive = 0\n",
    "\n",
    "teams_season['SeasonsInARow'].tail(5)\n",
    "\n",
    "#aux2[aux2.Season==season]['HomeTeam']\n",
    "#for season in seasons['Season']:\n",
    "#    seasons[]\n",
    "#seasons[seasons.Season=='2006-2007']['HomeTeam']"
   ]
  },
  {
   "cell_type": "markdown",
   "metadata": {},
   "source": [
    "Vemos si existe alguna relación entre los años que un equipo está en Primera División y la cantidad de puntos conseguidos."
   ]
  },
  {
   "cell_type": "code",
   "execution_count": 233,
   "metadata": {
    "collapsed": false
   },
   "outputs": [
    {
     "data": {
      "image/png": "[encoded data removed]",
      "text/plain": [
       "<matplotlib.figure.Figure at 0x7f114d52d190>"
      ]
     },
     "metadata": {},
     "output_type": "display_data"
    }
   ],
   "source": [
    "ax = teams_season.boxplot(column='Points', by='SeasonsInARow', figsize=(14,10))"
   ]
  },
  {
   "cell_type": "markdown",
   "metadata": {},
   "source": [
    "Podemos ver que los equipos, en su primera temporada en Primera División, tienden a conseguir entre 38 y 50 puntos, quedándose en la parte baja de la clasificación.\n",
    "\n",
    "Como se dice siempre en el fútbol, damos por hecho que se necesitan 42 puntos en una temporada para asegurar la permanencia en Primera División. Así, vemos que una vez pasada la primera temporada, las posibilidades de no descender se incrementan (habiendo siempre excepciones).\n",
    "\n",
    "A todo esto, tenemos que tener en cuenta que hemos partido de la premisa de que todos los equipos empezaron en Primera División en 2006, cuando eso no es así. Por lo tanto, la media de las primeras temporadas en Primera División estaría más cerca del descenso."
   ]
  }
 ],
 "metadata": {
  "kernelspec": {
   "display_name": "Python 2",
   "language": "python",
   "name": "python2"
  },
  "language_info": {
   "codemirror_mode": {
    "name": "ipython",
    "version": 2
   },
   "file_extension": ".py",
   "mimetype": "text/x-python",
   "name": "python",
   "nbconvert_exporter": "python",
   "pygments_lexer": "ipython2",
   "version": "2.7.11"
  }
 },
 "nbformat": 4,
 "nbformat_minor": 0
}
